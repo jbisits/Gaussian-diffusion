{
 "cells": [
  {
   "cell_type": "markdown",
   "source": [
    "# Diffusion of Gaussians\n",
    "This notebook outlines the theory behind the diagnostics used to measure diffusitivy in my honours thesis.\n",
    "They stem from the diffusion of Gaussian initial conditions in one and two dimesnions via the diffusion equation.\n",
    "\n",
    "The initial condition is set for **tracer concentraiton** however the diagnostics measure the growth rate of the second moment in the one dimensional and two dimensional band case and the growth rate of the area for the two dimensional blob.\n",
    "\n",
    "## One dimension\n",
    "In one dimension we start with the initial condition for tracer concentration\n",
    "$$\n",
    "\\begin{equation*}\n",
    "    C_{0}(x, t; K) = \\frac{1}{\\sqrt{4\\pi Kt}}\\exp\\Big(-\\frac{x^2}{4Kt}\\Big),\n",
    "\\end{equation*}\n",
    "$$\n",
    "which is then diffused by the diffusion equation\n",
    "$$\n",
    "\\begin{equation*}\n",
    "    \\frac{\\partial C}{\\partial t} = K\\frac{\\partial^2 C}{\\partial x^2}.\n",
    "\\end{equation*}\n",
    "$$\n",
    "Here $x(t)$ is the position of the tracer at time $t$ and it is the second moment for $x(t)$ that we show grows linearly with time.\n",
    "This corresponds to the mean squared displacement of a piece of tracer growing linearly with time.\n",
    "\n",
    "I will put the full working for this into the thesis so just say that we have the result\n",
    "$$\n",
    "\\begin{equation*}\n",
    "    \\frac{\\langle x^2 \\rangle}{\\int c(x)dx} = \\frac{\\sigma_{x}^{2}}{\\int c(x)dx} = 2Kt \\approx \\frac{(\\frac{\\Delta x}{2})^2 \\sum_{i = 1}^{N}i^2C_{i}}{\\sum_{i = 1}^{N}C_{i}}\n",
    "\\end{equation*}\n",
    "$$\n",
    "where the data from a tracer experiment has been ordered from **highest concentration to lowest concentration**.\n",
    "\n",
    "To verify that this diagnostic does give linear growth of the second moment and can predict a diffusivity we run a diffusion of a Gaussian in one dimension using the same spectral methods that will be used when in the presence of the QG flow.\n",
    "\n",
    "### Setting up the simulation\n",
    "First we setup the problem using the `PassiveTracerFlows.jl` package and write a function to plot the output.\n",
    "The workspace must first be activated."
   ],
   "metadata": {}
  },
  {
   "cell_type": "code",
   "execution_count": 1,
   "source": [
    "using Pkg\n",
    "Pkg.activate(\".\")"
   ],
   "outputs": [
    {
     "output_type": "stream",
     "name": "stderr",
     "text": [
      "\u001b[32m\u001b[1m  Activating\u001b[22m\u001b[39m environment at `~/Desktop/ThesisCode/Gaussian diffusion/Project.toml`\n"
     ]
    }
   ],
   "metadata": {}
  },
  {
   "cell_type": "code",
   "execution_count": 2,
   "source": [
    "using PassiveTracerFlows, Distributions, Plots"
   ],
   "outputs": [],
   "metadata": {}
  },
  {
   "cell_type": "markdown",
   "source": [
    "These are the parameters for the simulations run in this notebook.\n",
    "**If a parameter is changed be sure to re-run all necessary cells before running a simulaiton.**"
   ],
   "metadata": {}
  },
  {
   "cell_type": "code",
   "execution_count": 3,
   "source": [
    "dev = CPU() \n",
    "nx, ny = 32, 1            \n",
    "stepper = \"RK4\"         \n",
    "dt = 0.002          \n",
    "nsteps = 7000            \n",
    "nsubs  = 50  \n",
    "Lx, Ly = 16, 1\n",
    "κ = 0.25\n",
    "uvel(x, y) = 1\n",
    "vvel(x, y) = 0"
   ],
   "outputs": [
    {
     "output_type": "execute_result",
     "data": {
      "text/plain": [
       "vvel (generic function with 1 method)"
      ]
     },
     "metadata": {},
     "execution_count": 3
    }
   ],
   "metadata": {}
  },
  {
   "cell_type": "markdown",
   "source": [
    "Now setup a one dimensional advection diffusion problem from the `PassiveTracerFlows` package."
   ],
   "metadata": {}
  },
  {
   "cell_type": "code",
   "execution_count": 84,
   "source": [
    "prob_1d = TracerAdvectionDiffusion.Problem(dev; nx=nx, ny=ny, Lx=Lx, Ly = Ly, κ=κ,\n",
    "                                        #steadyflow=true, u=uvel, v=vvel,\n",
    "                                        dt=dt, stepper=stepper)\n",
    "sol, clock, vars, params = prob_1d.sol, prob_1d.clock, prob_1d.vars, prob_1d.params\n",
    "xgrid, ygrid = prob_1d.grid.x, prob_1d.grid.y\n",
    "\n",
    "C₀ = Array{Float64}(undef, prob_1d.grid.nx, prob_1d.grid.ny)\n",
    "for i in 1:prob_1d.grid.ny\n",
    "    C₀[:, i] = pdf(Normal(0, 1), xgrid)\n",
    "end\n",
    "set_c!(prob_1d, C₀)"
   ],
   "outputs": [],
   "metadata": {}
  },
  {
   "cell_type": "code",
   "execution_count": 85,
   "source": [
    "function plot_output(prob)\n",
    "\t\n",
    "\tl = @layout Plots.grid(2, 1)\n",
    "  \tp = plot(layout=l, size = (700, 700))\n",
    "\t\n",
    "\tc = prob.vars.c\n",
    "\tgrid = prob.grid\n",
    "\tx, y = grid.x, grid.y\n",
    "\t\n",
    "\tplot!(p[1], x, c,\n",
    "\t\t\t legend = :false,\n",
    "\t\t\t xlims = (-grid.Lx/2, grid.Lx/2),\n",
    "\t\t\t xlabel = \"x\",\n",
    "\t\t\t ylabel = \"concentration, c(x)\",\n",
    "\t\t\t  title = \"Initial concentration\",\n",
    "            color = :green)\n",
    "\t\n",
    "\tt = prob.clock.t\n",
    "\tsorted_concentration = sort(reshape(c, :), rev = true)\n",
    "\tplot!(p[2], 1:length(sorted_concentration), sorted_concentration,\n",
    "\t\t\tlabel = false,\n",
    "\t\t\txlabel = \"Δx (grid cell)\",\n",
    "\t\t\tylabel = \"concentration\",\n",
    "\t\t\ttitle = \"Initial concentration ordered highest to lowest\",\n",
    "\t\t\tylims = (0, findmax(sorted_concentration)[1]),\n",
    "\t\t\tcolor = :red)\n",
    "\n",
    "\treturn p\n",
    "\t\n",
    "end"
   ],
   "outputs": [
    {
     "output_type": "execute_result",
     "data": {
      "text/plain": [
       "plot_output (generic function with 1 method)"
      ]
     },
     "metadata": {},
     "execution_count": 85
    }
   ],
   "metadata": {}
  },
  {
   "cell_type": "markdown",
   "source": [
    "### Diagnostic\n",
    "Now code the diagnostic up, have used `k` for indexing rather than `i` but **this `k` is not realated to the diffusion that is being estimated.**"
   ],
   "metadata": {}
  },
  {
   "cell_type": "code",
   "execution_count": 86,
   "source": [
    "function second_mom(prob::FourierFlows.Problem)\n",
    "\t\n",
    "\tC = reshape(prob.vars.c, :)\n",
    "\tsort!(C, rev = true)\n",
    "\tN = length(C)\n",
    "\t\n",
    "\tΔx = prob.grid.Lx / prob.grid.nx\n",
    "\t\n",
    "\tΣk²Cₖ = (Δx / 2)^2 * sum( [ k^2 * C[k] for k ∈ 1:N ] )\n",
    "\tΣCₖ = sum(C)\n",
    "\t\n",
    "\treturn Σk²Cₖ/ΣCₖ\n",
    "\t\n",
    "end"
   ],
   "outputs": [
    {
     "output_type": "execute_result",
     "data": {
      "text/plain": [
       "second_mom (generic function with 1 method)"
      ]
     },
     "metadata": {},
     "execution_count": 86
    }
   ],
   "metadata": {}
  },
  {
   "cell_type": "markdown",
   "source": [
    "Now step the problem forwards and compute the diagnostic at each step. \n",
    "Currently the plot does not work here, I will try and sort this out"
   ],
   "metadata": {}
  },
  {
   "cell_type": "code",
   "execution_count": 87,
   "source": [
    "startwalltime = time()\n",
    "\n",
    "\tp = plot_output(prob_1d)\n",
    "    savefig(p, \"Initial1dconc.png\") #Save initial concentration\n",
    "\t\n",
    "\tsecond_mom1d = Vector{Float64}(undef, round(Int, nsteps/nsubs) + 1)\n",
    "\tsecond_mom1d[1] = second_mom(prob_1d)\n",
    "\ttvec_1d = Vector{Float64}(undef, round(Int, nsteps/nsubs) + 1)\n",
    "\ttvec_1d[1] = clock.t\n",
    "\n",
    "\tanim = @animate for j = 0:round(Int, nsteps/nsubs)\n",
    "\n",
    "\t  p[1][1][:y] = vars.c\n",
    "\t  p[1][:title] = \"Concentration, t=\" * string(clock.t)\n",
    "\t  p[2][1][:y] = sort(reshape(vars.c, :), rev = true)\n",
    "\t\n",
    "\t  second_mom1d[j + 1] = second_mom(prob_1d)\n",
    "\t  tvec_1d[j + 1] = clock.t\n",
    "\n",
    "\t  stepforward!(prob_1d, nsubs)\n",
    "\t  TracerAdvectionDiffusion.updatevars!(prob_1d)\n",
    "      \n",
    "      if j == round(Int, nsteps/nsubs)\n",
    "        p[1][:title] = \"Final concentration\"\n",
    "        p[2][:title] = \"Final concentration ordered highest to lowest\"\n",
    "        savefig(p, \"Finia1dconc.png\") #Save final concnetration\n",
    "      end\n",
    "\tend"
   ],
   "outputs": [
    {
     "output_type": "execute_result",
     "data": {
      "text/plain": [
       "Animation(\"/var/folders/xy/tfzr9ygs3d75fd8pymbbx3w40000gn/T/jl_nhbznt\", [\"000001.png\", \"000002.png\", \"000003.png\", \"000004.png\", \"000005.png\", \"000006.png\", \"000007.png\", \"000008.png\", \"000009.png\", \"000010.png\"  …  \"000132.png\", \"000133.png\", \"000134.png\", \"000135.png\", \"000136.png\", \"000137.png\", \"000138.png\", \"000139.png\", \"000140.png\", \"000141.png\"])"
      ]
     },
     "metadata": {},
     "execution_count": 87
    }
   ],
   "metadata": {}
  },
  {
   "cell_type": "code",
   "execution_count": 70,
   "source": [
    "#mp4(anim, \"1D_gaussiandiff_jupyter.mp4\", fps=12) for some reason have an error with this now.."
   ],
   "outputs": [],
   "metadata": {}
  },
  {
   "cell_type": "markdown",
   "source": [
    "### Looking at second moment and computing diffusivity\n",
    "We have saved second moments from this simulation that we can plot."
   ],
   "metadata": {}
  },
  {
   "cell_type": "code",
   "execution_count": 88,
   "source": [
    "oneddiffplot = plot(tvec_1d, second_mom1d, label = false, xlabel = \"t\", ylabel = \"σ̂²ₓ\", title = \"Growth of σ̂ₓ² during simulation\")\n",
    "oneddiffplot"
   ],
   "outputs": [
    {
     "output_type": "execute_result",
     "data": {
      "image/svg+xml": "<?xml version=\"1.0\" encoding=\"utf-8\"?>\n<svg xmlns=\"http://www.w3.org/2000/svg\" xmlns:xlink=\"http://www.w3.org/1999/xlink\" width=\"600\" height=\"400\" viewBox=\"0 0 2400 1600\">\n<defs>\n  <clipPath id=\"clip540\">\n    <rect x=\"0\" y=\"0\" width=\"2400\" height=\"1600\"/>\n  </clipPath>\n</defs>\n<path clip-path=\"url(#clip540)\" d=\"\nM0 1600 L2400 1600 L2400 0 L0 0  Z\n  \" fill=\"#ffffff\" fill-rule=\"evenodd\" fill-opacity=\"1\"/>\n<defs>\n  <clipPath id=\"clip541\">\n    <rect x=\"480\" y=\"0\" width=\"1681\" height=\"1600\"/>\n  </clipPath>\n</defs>\n<path clip-path=\"url(#clip540)\" d=\"\nM175.445 1423.18 L2352.76 1423.18 L2352.76 123.472 L175.445 123.472  Z\n  \" fill=\"#ffffff\" fill-rule=\"evenodd\" fill-opacity=\"1\"/>\n<defs>\n  <clipPath id=\"clip542\">\n    <rect x=\"175\" y=\"123\" width=\"2178\" height=\"1301\"/>\n  </clipPath>\n</defs>\n<polyline clip-path=\"url(#clip542)\" style=\"stroke:#000000; stroke-linecap:butt; stroke-linejoin:round; stroke-width:2; stroke-opacity:0.1; fill:none\" points=\"\n  237.067,1423.18 237.067,123.472 \n  \"/>\n<polyline clip-path=\"url(#clip542)\" style=\"stroke:#000000; stroke-linecap:butt; stroke-linejoin:round; stroke-width:2; stroke-opacity:0.1; fill:none\" points=\"\n  603.865,1423.18 603.865,123.472 \n  \"/>\n<polyline clip-path=\"url(#clip542)\" style=\"stroke:#000000; stroke-linecap:butt; stroke-linejoin:round; stroke-width:2; stroke-opacity:0.1; fill:none\" points=\"\n  970.662,1423.18 970.662,123.472 \n  \"/>\n<polyline clip-path=\"url(#clip542)\" style=\"stroke:#000000; stroke-linecap:butt; stroke-linejoin:round; stroke-width:2; stroke-opacity:0.1; fill:none\" points=\"\n  1337.46,1423.18 1337.46,123.472 \n  \"/>\n<polyline clip-path=\"url(#clip542)\" style=\"stroke:#000000; stroke-linecap:butt; stroke-linejoin:round; stroke-width:2; stroke-opacity:0.1; fill:none\" points=\"\n  1704.26,1423.18 1704.26,123.472 \n  \"/>\n<polyline clip-path=\"url(#clip542)\" style=\"stroke:#000000; stroke-linecap:butt; stroke-linejoin:round; stroke-width:2; stroke-opacity:0.1; fill:none\" points=\"\n  2071.06,1423.18 2071.06,123.472 \n  \"/>\n<polyline clip-path=\"url(#clip540)\" style=\"stroke:#000000; stroke-linecap:butt; stroke-linejoin:round; stroke-width:4; stroke-opacity:1; fill:none\" points=\"\n  175.445,1423.18 2352.76,1423.18 \n  \"/>\n<polyline clip-path=\"url(#clip540)\" style=\"stroke:#000000; stroke-linecap:butt; stroke-linejoin:round; stroke-width:4; stroke-opacity:1; fill:none\" points=\"\n  237.067,1423.18 237.067,1404.28 \n  \"/>\n<polyline clip-path=\"url(#clip540)\" style=\"stroke:#000000; stroke-linecap:butt; stroke-linejoin:round; stroke-width:4; stroke-opacity:1; fill:none\" points=\"\n  603.865,1423.18 603.865,1404.28 \n  \"/>\n<polyline clip-path=\"url(#clip540)\" style=\"stroke:#000000; stroke-linecap:butt; stroke-linejoin:round; stroke-width:4; stroke-opacity:1; fill:none\" points=\"\n  970.662,1423.18 970.662,1404.28 \n  \"/>\n<polyline clip-path=\"url(#clip540)\" style=\"stroke:#000000; stroke-linecap:butt; stroke-linejoin:round; stroke-width:4; stroke-opacity:1; fill:none\" points=\"\n  1337.46,1423.18 1337.46,1404.28 \n  \"/>\n<polyline clip-path=\"url(#clip540)\" style=\"stroke:#000000; stroke-linecap:butt; stroke-linejoin:round; stroke-width:4; stroke-opacity:1; fill:none\" points=\"\n  1704.26,1423.18 1704.26,1404.28 \n  \"/>\n<polyline clip-path=\"url(#clip540)\" style=\"stroke:#000000; stroke-linecap:butt; stroke-linejoin:round; stroke-width:4; stroke-opacity:1; fill:none\" points=\"\n  2071.06,1423.18 2071.06,1404.28 \n  \"/>\n<path clip-path=\"url(#clip540)\" d=\"M214.452 1452.37 Q210.84 1452.37 209.012 1455.94 Q207.206 1459.48 207.206 1466.61 Q207.206 1473.71 209.012 1477.28 Q210.84 1480.82 214.452 1480.82 Q218.086 1480.82 219.891 1477.28 Q221.72 1473.71 221.72 1466.61 Q221.72 1459.48 219.891 1455.94 Q218.086 1452.37 214.452 1452.37 M214.452 1448.67 Q220.262 1448.67 223.317 1453.27 Q226.396 1457.86 226.396 1466.61 Q226.396 1475.33 223.317 1479.94 Q220.262 1484.52 214.452 1484.52 Q208.641 1484.52 205.563 1479.94 Q202.507 1475.33 202.507 1466.61 Q202.507 1457.86 205.563 1453.27 Q208.641 1448.67 214.452 1448.67 Z\" fill=\"#000000\" fill-rule=\"evenodd\" fill-opacity=\"1\" /><path clip-path=\"url(#clip540)\" d=\"M234.614 1477.97 L239.498 1477.97 L239.498 1483.85 L234.614 1483.85 L234.614 1477.97 Z\" fill=\"#000000\" fill-rule=\"evenodd\" fill-opacity=\"1\" /><path clip-path=\"url(#clip540)\" d=\"M259.683 1452.37 Q256.072 1452.37 254.243 1455.94 Q252.437 1459.48 252.437 1466.61 Q252.437 1473.71 254.243 1477.28 Q256.072 1480.82 259.683 1480.82 Q263.317 1480.82 265.123 1477.28 Q266.951 1473.71 266.951 1466.61 Q266.951 1459.48 265.123 1455.94 Q263.317 1452.37 259.683 1452.37 M259.683 1448.67 Q265.493 1448.67 268.549 1453.27 Q271.627 1457.86 271.627 1466.61 Q271.627 1475.33 268.549 1479.94 Q265.493 1484.52 259.683 1484.52 Q253.873 1484.52 250.794 1479.94 Q247.738 1475.33 247.738 1466.61 Q247.738 1457.86 250.794 1453.27 Q253.873 1448.67 259.683 1448.67 Z\" fill=\"#000000\" fill-rule=\"evenodd\" fill-opacity=\"1\" /><path clip-path=\"url(#clip540)\" d=\"M575.601 1479.92 L591.92 1479.92 L591.92 1483.85 L569.976 1483.85 L569.976 1479.92 Q572.638 1477.16 577.221 1472.53 Q581.828 1467.88 583.008 1466.54 Q585.254 1464.01 586.133 1462.28 Q587.036 1460.52 587.036 1458.83 Q587.036 1456.07 585.092 1454.34 Q583.17 1452.6 580.069 1452.6 Q577.87 1452.6 575.416 1453.37 Q572.985 1454.13 570.208 1455.68 L570.208 1450.96 Q573.032 1449.82 575.485 1449.25 Q577.939 1448.67 579.976 1448.67 Q585.346 1448.67 588.541 1451.35 Q591.735 1454.04 591.735 1458.53 Q591.735 1460.66 590.925 1462.58 Q590.138 1464.48 588.032 1467.07 Q587.453 1467.74 584.351 1470.96 Q581.249 1474.15 575.601 1479.92 Z\" fill=\"#000000\" fill-rule=\"evenodd\" fill-opacity=\"1\" /><path clip-path=\"url(#clip540)\" d=\"M601.735 1477.97 L606.619 1477.97 L606.619 1483.85 L601.735 1483.85 L601.735 1477.97 Z\" fill=\"#000000\" fill-rule=\"evenodd\" fill-opacity=\"1\" /><path clip-path=\"url(#clip540)\" d=\"M616.851 1449.29 L635.207 1449.29 L635.207 1453.23 L621.133 1453.23 L621.133 1461.7 Q622.152 1461.35 623.17 1461.19 Q624.189 1461 625.207 1461 Q630.994 1461 634.374 1464.18 Q637.754 1467.35 637.754 1472.76 Q637.754 1478.34 634.281 1481.44 Q630.809 1484.52 624.49 1484.52 Q622.314 1484.52 620.045 1484.15 Q617.8 1483.78 615.393 1483.04 L615.393 1478.34 Q617.476 1479.48 619.698 1480.03 Q621.92 1480.59 624.397 1480.59 Q628.402 1480.59 630.74 1478.48 Q633.078 1476.38 633.078 1472.76 Q633.078 1469.15 630.74 1467.05 Q628.402 1464.94 624.397 1464.94 Q622.522 1464.94 620.647 1465.36 Q618.795 1465.77 616.851 1466.65 L616.851 1449.29 Z\" fill=\"#000000\" fill-rule=\"evenodd\" fill-opacity=\"1\" /><path clip-path=\"url(#clip540)\" d=\"M937.827 1449.29 L956.183 1449.29 L956.183 1453.23 L942.109 1453.23 L942.109 1461.7 Q943.128 1461.35 944.146 1461.19 Q945.165 1461 946.183 1461 Q951.97 1461 955.35 1464.18 Q958.73 1467.35 958.73 1472.76 Q958.73 1478.34 955.257 1481.44 Q951.785 1484.52 945.466 1484.52 Q943.29 1484.52 941.021 1484.15 Q938.776 1483.78 936.369 1483.04 L936.369 1478.34 Q938.452 1479.48 940.674 1480.03 Q942.896 1480.59 945.373 1480.59 Q949.378 1480.59 951.716 1478.48 Q954.054 1476.38 954.054 1472.76 Q954.054 1469.15 951.716 1467.05 Q949.378 1464.94 945.373 1464.94 Q943.498 1464.94 941.623 1465.36 Q939.771 1465.77 937.827 1466.65 L937.827 1449.29 Z\" fill=\"#000000\" fill-rule=\"evenodd\" fill-opacity=\"1\" /><path clip-path=\"url(#clip540)\" d=\"M967.943 1477.97 L972.827 1477.97 L972.827 1483.85 L967.943 1483.85 L967.943 1477.97 Z\" fill=\"#000000\" fill-rule=\"evenodd\" fill-opacity=\"1\" /><path clip-path=\"url(#clip540)\" d=\"M993.012 1452.37 Q989.401 1452.37 987.572 1455.94 Q985.767 1459.48 985.767 1466.61 Q985.767 1473.71 987.572 1477.28 Q989.401 1480.82 993.012 1480.82 Q996.646 1480.82 998.452 1477.28 Q1000.28 1473.71 1000.28 1466.61 Q1000.28 1459.48 998.452 1455.94 Q996.646 1452.37 993.012 1452.37 M993.012 1448.67 Q998.822 1448.67 1001.88 1453.27 Q1004.96 1457.86 1004.96 1466.61 Q1004.96 1475.33 1001.88 1479.94 Q998.822 1484.52 993.012 1484.52 Q987.202 1484.52 984.123 1479.94 Q981.067 1475.33 981.067 1466.61 Q981.067 1457.86 984.123 1453.27 Q987.202 1448.67 993.012 1448.67 Z\" fill=\"#000000\" fill-rule=\"evenodd\" fill-opacity=\"1\" /><path clip-path=\"url(#clip540)\" d=\"M1303.78 1449.29 L1326 1449.29 L1326 1451.28 L1313.46 1483.85 L1308.57 1483.85 L1320.38 1453.23 L1303.78 1453.23 L1303.78 1449.29 Z\" fill=\"#000000\" fill-rule=\"evenodd\" fill-opacity=\"1\" /><path clip-path=\"url(#clip540)\" d=\"M1335.12 1477.97 L1340.01 1477.97 L1340.01 1483.85 L1335.12 1483.85 L1335.12 1477.97 Z\" fill=\"#000000\" fill-rule=\"evenodd\" fill-opacity=\"1\" /><path clip-path=\"url(#clip540)\" d=\"M1350.24 1449.29 L1368.59 1449.29 L1368.59 1453.23 L1354.52 1453.23 L1354.52 1461.7 Q1355.54 1461.35 1356.56 1461.19 Q1357.58 1461 1358.59 1461 Q1364.38 1461 1367.76 1464.18 Q1371.14 1467.35 1371.14 1472.76 Q1371.14 1478.34 1367.67 1481.44 Q1364.2 1484.52 1357.88 1484.52 Q1355.7 1484.52 1353.43 1484.15 Q1351.19 1483.78 1348.78 1483.04 L1348.78 1478.34 Q1350.86 1479.48 1353.08 1480.03 Q1355.31 1480.59 1357.78 1480.59 Q1361.79 1480.59 1364.13 1478.48 Q1366.46 1476.38 1366.46 1472.76 Q1366.46 1469.15 1364.13 1467.05 Q1361.79 1464.94 1357.78 1464.94 Q1355.91 1464.94 1354.03 1465.36 Q1352.18 1465.77 1350.24 1466.65 L1350.24 1449.29 Z\" fill=\"#000000\" fill-rule=\"evenodd\" fill-opacity=\"1\" /><path clip-path=\"url(#clip540)\" d=\"M1656.33 1479.92 L1663.97 1479.92 L1663.97 1453.55 L1655.66 1455.22 L1655.66 1450.96 L1663.92 1449.29 L1668.6 1449.29 L1668.6 1479.92 L1676.24 1479.92 L1676.24 1483.85 L1656.33 1483.85 L1656.33 1479.92 Z\" fill=\"#000000\" fill-rule=\"evenodd\" fill-opacity=\"1\" /><path clip-path=\"url(#clip540)\" d=\"M1695.68 1452.37 Q1692.07 1452.37 1690.24 1455.94 Q1688.44 1459.48 1688.44 1466.61 Q1688.44 1473.71 1690.24 1477.28 Q1692.07 1480.82 1695.68 1480.82 Q1699.32 1480.82 1701.12 1477.28 Q1702.95 1473.71 1702.95 1466.61 Q1702.95 1459.48 1701.12 1455.94 Q1699.32 1452.37 1695.68 1452.37 M1695.68 1448.67 Q1701.49 1448.67 1704.55 1453.27 Q1707.63 1457.86 1707.63 1466.61 Q1707.63 1475.33 1704.55 1479.94 Q1701.49 1484.52 1695.68 1484.52 Q1689.87 1484.52 1686.79 1479.94 Q1683.74 1475.33 1683.74 1466.61 Q1683.74 1457.86 1686.79 1453.27 Q1689.87 1448.67 1695.68 1448.67 Z\" fill=\"#000000\" fill-rule=\"evenodd\" fill-opacity=\"1\" /><path clip-path=\"url(#clip540)\" d=\"M1715.84 1477.97 L1720.73 1477.97 L1720.73 1483.85 L1715.84 1483.85 L1715.84 1477.97 Z\" fill=\"#000000\" fill-rule=\"evenodd\" fill-opacity=\"1\" /><path clip-path=\"url(#clip540)\" d=\"M1740.91 1452.37 Q1737.3 1452.37 1735.47 1455.94 Q1733.67 1459.48 1733.67 1466.61 Q1733.67 1473.71 1735.47 1477.28 Q1737.3 1480.82 1740.91 1480.82 Q1744.55 1480.82 1746.35 1477.28 Q1748.18 1473.71 1748.18 1466.61 Q1748.18 1459.48 1746.35 1455.94 Q1744.55 1452.37 1740.91 1452.37 M1740.91 1448.67 Q1746.72 1448.67 1749.78 1453.27 Q1752.86 1457.86 1752.86 1466.61 Q1752.86 1475.33 1749.78 1479.94 Q1746.72 1484.52 1740.91 1484.52 Q1735.1 1484.52 1732.02 1479.94 Q1728.97 1475.33 1728.97 1466.61 Q1728.97 1457.86 1732.02 1453.27 Q1735.1 1448.67 1740.91 1448.67 Z\" fill=\"#000000\" fill-rule=\"evenodd\" fill-opacity=\"1\" /><path clip-path=\"url(#clip540)\" d=\"M2023.63 1479.92 L2031.26 1479.92 L2031.26 1453.55 L2022.95 1455.22 L2022.95 1450.96 L2031.22 1449.29 L2035.89 1449.29 L2035.89 1479.92 L2043.53 1479.92 L2043.53 1483.85 L2023.63 1483.85 L2023.63 1479.92 Z\" fill=\"#000000\" fill-rule=\"evenodd\" fill-opacity=\"1\" /><path clip-path=\"url(#clip540)\" d=\"M2057 1479.92 L2073.32 1479.92 L2073.32 1483.85 L2051.38 1483.85 L2051.38 1479.92 Q2054.04 1477.16 2058.62 1472.53 Q2063.23 1467.88 2064.41 1466.54 Q2066.66 1464.01 2067.54 1462.28 Q2068.44 1460.52 2068.44 1458.83 Q2068.44 1456.07 2066.5 1454.34 Q2064.57 1452.6 2061.47 1452.6 Q2059.27 1452.6 2056.82 1453.37 Q2054.39 1454.13 2051.61 1455.68 L2051.61 1450.96 Q2054.44 1449.82 2056.89 1449.25 Q2059.34 1448.67 2061.38 1448.67 Q2066.75 1448.67 2069.94 1451.35 Q2073.14 1454.04 2073.14 1458.53 Q2073.14 1460.66 2072.33 1462.58 Q2071.54 1464.48 2069.43 1467.07 Q2068.86 1467.74 2065.75 1470.96 Q2062.65 1474.15 2057 1479.92 Z\" fill=\"#000000\" fill-rule=\"evenodd\" fill-opacity=\"1\" /><path clip-path=\"url(#clip540)\" d=\"M2083.14 1477.97 L2088.02 1477.97 L2088.02 1483.85 L2083.14 1483.85 L2083.14 1477.97 Z\" fill=\"#000000\" fill-rule=\"evenodd\" fill-opacity=\"1\" /><path clip-path=\"url(#clip540)\" d=\"M2098.25 1449.29 L2116.61 1449.29 L2116.61 1453.23 L2102.54 1453.23 L2102.54 1461.7 Q2103.56 1461.35 2104.57 1461.19 Q2105.59 1461 2106.61 1461 Q2112.4 1461 2115.78 1464.18 Q2119.16 1467.35 2119.16 1472.76 Q2119.16 1478.34 2115.68 1481.44 Q2112.21 1484.52 2105.89 1484.52 Q2103.72 1484.52 2101.45 1484.15 Q2099.2 1483.78 2096.8 1483.04 L2096.8 1478.34 Q2098.88 1479.48 2101.1 1480.03 Q2103.32 1480.59 2105.8 1480.59 Q2109.81 1480.59 2112.14 1478.48 Q2114.48 1476.38 2114.48 1472.76 Q2114.48 1469.15 2112.14 1467.05 Q2109.81 1464.94 2105.8 1464.94 Q2103.93 1464.94 2102.05 1465.36 Q2100.2 1465.77 2098.25 1466.65 L2098.25 1449.29 Z\" fill=\"#000000\" fill-rule=\"evenodd\" fill-opacity=\"1\" /><path clip-path=\"url(#clip540)\" d=\"M1263.16 1522.27 L1263.16 1532.4 L1275.22 1532.4 L1275.22 1536.95 L1263.16 1536.95 L1263.16 1556.3 Q1263.16 1560.66 1264.34 1561.9 Q1265.55 1563.14 1269.21 1563.14 L1275.22 1563.14 L1275.22 1568.04 L1269.21 1568.04 Q1262.43 1568.04 1259.85 1565.53 Q1257.27 1562.98 1257.27 1556.3 L1257.27 1536.95 L1252.98 1536.95 L1252.98 1532.4 L1257.27 1532.4 L1257.27 1522.27 L1263.16 1522.27 Z\" fill=\"#000000\" fill-rule=\"evenodd\" fill-opacity=\"1\" /><polyline clip-path=\"url(#clip542)\" style=\"stroke:#000000; stroke-linecap:butt; stroke-linejoin:round; stroke-width:2; stroke-opacity:0.1; fill:none\" points=\"\n  175.445,1219.49 2352.76,1219.49 \n  \"/>\n<polyline clip-path=\"url(#clip542)\" style=\"stroke:#000000; stroke-linecap:butt; stroke-linejoin:round; stroke-width:2; stroke-opacity:0.1; fill:none\" points=\"\n  175.445,867.423 2352.76,867.423 \n  \"/>\n<polyline clip-path=\"url(#clip542)\" style=\"stroke:#000000; stroke-linecap:butt; stroke-linejoin:round; stroke-width:2; stroke-opacity:0.1; fill:none\" points=\"\n  175.445,515.356 2352.76,515.356 \n  \"/>\n<polyline clip-path=\"url(#clip542)\" style=\"stroke:#000000; stroke-linecap:butt; stroke-linejoin:round; stroke-width:2; stroke-opacity:0.1; fill:none\" points=\"\n  175.445,163.289 2352.76,163.289 \n  \"/>\n<polyline clip-path=\"url(#clip540)\" style=\"stroke:#000000; stroke-linecap:butt; stroke-linejoin:round; stroke-width:4; stroke-opacity:1; fill:none\" points=\"\n  175.445,1423.18 175.445,123.472 \n  \"/>\n<polyline clip-path=\"url(#clip540)\" style=\"stroke:#000000; stroke-linecap:butt; stroke-linejoin:round; stroke-width:4; stroke-opacity:1; fill:none\" points=\"\n  175.445,1219.49 194.343,1219.49 \n  \"/>\n<polyline clip-path=\"url(#clip540)\" style=\"stroke:#000000; stroke-linecap:butt; stroke-linejoin:round; stroke-width:4; stroke-opacity:1; fill:none\" points=\"\n  175.445,867.423 194.343,867.423 \n  \"/>\n<polyline clip-path=\"url(#clip540)\" style=\"stroke:#000000; stroke-linecap:butt; stroke-linejoin:round; stroke-width:4; stroke-opacity:1; fill:none\" points=\"\n  175.445,515.356 194.343,515.356 \n  \"/>\n<polyline clip-path=\"url(#clip540)\" style=\"stroke:#000000; stroke-linecap:butt; stroke-linejoin:round; stroke-width:4; stroke-opacity:1; fill:none\" points=\"\n  175.445,163.289 194.343,163.289 \n  \"/>\n<path clip-path=\"url(#clip540)\" d=\"M123.126 1232.83 L139.445 1232.83 L139.445 1236.77 L117.501 1236.77 L117.501 1232.83 Q120.163 1230.08 124.746 1225.45 Q129.353 1220.8 130.533 1219.46 Q132.779 1216.93 133.658 1215.2 Q134.561 1213.44 134.561 1211.75 Q134.561 1208.99 132.617 1207.26 Q130.695 1205.52 127.593 1205.52 Q125.394 1205.52 122.941 1206.28 Q120.51 1207.05 117.732 1208.6 L117.732 1203.88 Q120.556 1202.74 123.01 1202.16 Q125.464 1201.59 127.501 1201.59 Q132.871 1201.59 136.066 1204.27 Q139.26 1206.96 139.26 1211.45 Q139.26 1213.58 138.45 1215.5 Q137.663 1217.4 135.556 1219.99 Q134.978 1220.66 131.876 1223.88 Q128.774 1227.07 123.126 1232.83 Z\" fill=\"#000000\" fill-rule=\"evenodd\" fill-opacity=\"1\" /><path clip-path=\"url(#clip540)\" d=\"M129.862 854.217 L118.056 872.666 L129.862 872.666 L129.862 854.217 M128.635 850.143 L134.515 850.143 L134.515 872.666 L139.445 872.666 L139.445 876.555 L134.515 876.555 L134.515 884.703 L129.862 884.703 L129.862 876.555 L114.26 876.555 L114.26 872.041 L128.635 850.143 Z\" fill=\"#000000\" fill-rule=\"evenodd\" fill-opacity=\"1\" /><path clip-path=\"url(#clip540)\" d=\"M127.917 513.493 Q124.769 513.493 122.918 515.645 Q121.089 517.798 121.089 521.548 Q121.089 525.275 122.918 527.451 Q124.769 529.604 127.917 529.604 Q131.066 529.604 132.894 527.451 Q134.746 525.275 134.746 521.548 Q134.746 517.798 132.894 515.645 Q131.066 513.493 127.917 513.493 M137.2 498.84 L137.2 503.099 Q135.441 502.266 133.635 501.826 Q131.853 501.386 130.093 501.386 Q125.464 501.386 123.01 504.511 Q120.58 507.636 120.232 513.956 Q121.598 511.942 123.658 510.877 Q125.718 509.789 128.195 509.789 Q133.404 509.789 136.413 512.96 Q139.445 516.108 139.445 521.548 Q139.445 526.872 136.297 530.09 Q133.149 533.307 127.917 533.307 Q121.922 533.307 118.751 528.724 Q115.58 524.118 115.58 515.391 Q115.58 507.196 119.468 502.335 Q123.357 497.451 129.908 497.451 Q131.667 497.451 133.45 497.798 Q135.255 498.145 137.2 498.84 Z\" fill=\"#000000\" fill-rule=\"evenodd\" fill-opacity=\"1\" /><path clip-path=\"url(#clip540)\" d=\"M127.593 164.157 Q124.26 164.157 122.339 165.939 Q120.441 167.722 120.441 170.847 Q120.441 173.972 122.339 175.754 Q124.26 177.537 127.593 177.537 Q130.927 177.537 132.848 175.754 Q134.769 173.949 134.769 170.847 Q134.769 167.722 132.848 165.939 Q130.95 164.157 127.593 164.157 M122.918 162.166 Q119.908 161.426 118.218 159.365 Q116.552 157.305 116.552 154.342 Q116.552 150.199 119.492 147.791 Q122.455 145.384 127.593 145.384 Q132.755 145.384 135.695 147.791 Q138.635 150.199 138.635 154.342 Q138.635 157.305 136.945 159.365 Q135.279 161.426 132.292 162.166 Q135.672 162.953 137.547 165.245 Q139.445 167.537 139.445 170.847 Q139.445 175.87 136.367 178.555 Q133.311 181.24 127.593 181.24 Q121.876 181.24 118.797 178.555 Q115.742 175.87 115.742 170.847 Q115.742 167.537 117.64 165.245 Q119.538 162.953 122.918 162.166 M121.205 154.782 Q121.205 157.467 122.871 158.972 Q124.561 160.477 127.593 160.477 Q130.603 160.477 132.292 158.972 Q134.005 157.467 134.005 154.782 Q134.005 152.097 132.292 150.592 Q130.603 149.088 127.593 149.088 Q124.561 149.088 122.871 150.592 Q121.205 152.097 121.205 154.782 Z\" fill=\"#000000\" fill-rule=\"evenodd\" fill-opacity=\"1\" /><path clip-path=\"url(#clip540)\" d=\"M33.0032 801.637 Q33.0032 806.475 36.5043 809.085 Q40.1646 811.823 46.212 811.823 Q52.6095 811.823 56.3017 809.117 Q59.9619 806.38 59.9619 801.637 Q59.9619 796.959 56.2698 794.221 Q52.5777 791.484 46.212 791.484 Q40.3874 791.484 36.5043 794.221 Q33.0032 796.736 33.0032 801.637 M28.3562 801.637 L28.3562 782.19 L34.2127 782.19 L34.2127 788.747 Q39.1779 785.278 46.212 785.278 Q54.9649 785.278 59.9301 789.638 Q64.9272 793.999 64.9272 801.637 Q64.9272 809.308 59.9301 813.637 Q54.9649 817.997 46.212 817.997 Q37.3955 817.997 32.4621 813.637 Q28.3562 810.04 28.3562 801.637 Z\" fill=\"#000000\" fill-rule=\"evenodd\" fill-opacity=\"1\" /><path clip-path=\"url(#clip540)\" d=\"M11.869 798.932 L11.869 794.221 L23.8365 786.423 L23.8365 790.848 L16.0386 796.577 L23.8365 802.306 L23.8365 806.73 L11.869 798.932 M27.4968 796.577 L27.4968 796.577 Z\" fill=\"#000000\" fill-rule=\"evenodd\" fill-opacity=\"1\" /><path clip-path=\"url(#clip540)\" d=\"M39.1142 771.75 L39.1142 758.255 L42.7427 758.255 L42.7427 777.289 L39.2416 777.289 Q38.2549 776.206 36.4725 774.201 Q26.7648 763.252 23.7729 763.252 Q21.6722 763.252 20.3991 764.907 Q19.0941 766.562 19.0941 769.268 Q19.0941 770.923 19.667 772.864 Q20.2081 774.806 21.3221 777.098 L17.4072 777.098 Q16.516 774.647 16.0704 772.546 Q15.6248 770.414 15.6248 768.599 Q15.6248 763.984 17.7255 761.215 Q19.8262 758.446 23.2636 758.446 Q27.6878 758.446 36.7271 768.981 Q38.2549 770.764 39.1142 771.75 Z\" fill=\"#000000\" fill-rule=\"evenodd\" fill-opacity=\"1\" /><path clip-path=\"url(#clip540)\" d=\"M44.0477 729.068 L53.7554 737.185 L64.0042 728.655 L64.0042 733.015 L56.1743 739.54 L64.0042 746.065 L64.0042 750.425 L53.5644 741.704 L44.0477 749.693 L44.0477 745.333 L51.1454 739.381 L44.0477 733.429 L44.0477 729.068 Z\" fill=\"#000000\" fill-rule=\"evenodd\" fill-opacity=\"1\" /><path clip-path=\"url(#clip540)\" d=\"M660.415 63.9476 L660.415 47.7034 L647.047 47.7034 L647.047 40.9789 L668.516 40.9789 L668.516 66.9452 Q663.777 70.3075 658.065 72.0494 Q652.353 73.7508 645.872 73.7508 Q631.694 73.7508 623.673 65.4869 Q615.693 57.1826 615.693 42.3968 Q615.693 27.5705 623.673 19.3066 Q631.694 11.0023 645.872 11.0023 Q651.786 11.0023 657.093 12.4606 Q662.44 13.9189 666.937 16.7545 L666.937 25.464 Q662.399 21.6156 657.295 19.6712 Q652.191 17.7268 646.56 17.7268 Q635.461 17.7268 629.871 23.9246 Q624.321 30.1225 624.321 42.3968 Q624.321 54.6305 629.871 60.8284 Q635.461 67.0263 646.56 67.0263 Q650.895 67.0263 654.298 66.2971 Q657.7 65.5274 660.415 63.9476 Z\" fill=\"#000000\" fill-rule=\"evenodd\" fill-opacity=\"1\" /><path clip-path=\"url(#clip540)\" d=\"M709.43 34.1734 Q708.175 33.4443 706.676 33.1202 Q705.218 32.7556 703.435 32.7556 Q697.116 32.7556 693.713 36.8875 Q690.351 40.9789 690.351 48.6757 L690.351 72.576 L682.857 72.576 L682.857 27.2059 L690.351 27.2059 L690.351 34.2544 Q692.7 30.1225 696.468 28.1376 Q700.235 26.1121 705.623 26.1121 Q706.392 26.1121 707.324 26.2337 Q708.256 26.3147 709.39 26.5172 L709.43 34.1734 Z\" fill=\"#000000\" fill-rule=\"evenodd\" fill-opacity=\"1\" /><path clip-path=\"url(#clip540)\" d=\"M733.007 32.4315 Q727.011 32.4315 723.528 37.1306 Q720.044 41.7891 720.044 49.9314 Q720.044 58.0738 723.487 62.7728 Q726.971 67.4314 733.007 67.4314 Q738.962 67.4314 742.445 62.7323 Q745.929 58.0333 745.929 49.9314 Q745.929 41.8701 742.445 37.1711 Q738.962 32.4315 733.007 32.4315 M733.007 26.1121 Q742.729 26.1121 748.279 32.4315 Q753.828 38.7509 753.828 49.9314 Q753.828 61.0714 748.279 67.4314 Q742.729 73.7508 733.007 73.7508 Q723.244 73.7508 717.694 67.4314 Q712.185 61.0714 712.185 49.9314 Q712.185 38.7509 717.694 32.4315 Q723.244 26.1121 733.007 26.1121 Z\" fill=\"#000000\" fill-rule=\"evenodd\" fill-opacity=\"1\" /><path clip-path=\"url(#clip540)\" d=\"M761.849 27.2059 L769.303 27.2059 L778.62 62.6108 L787.897 27.2059 L796.687 27.2059 L806.004 62.6108 L815.281 27.2059 L822.734 27.2059 L810.865 72.576 L802.075 72.576 L792.312 35.3887 L782.509 72.576 L773.718 72.576 L761.849 27.2059 Z\" fill=\"#000000\" fill-rule=\"evenodd\" fill-opacity=\"1\" /><path clip-path=\"url(#clip540)\" d=\"M841.409 14.324 L841.409 27.2059 L856.762 27.2059 L856.762 32.9987 L841.409 32.9987 L841.409 57.6282 Q841.409 63.1779 842.908 64.7578 Q844.447 66.3376 849.106 66.3376 L856.762 66.3376 L856.762 72.576 L849.106 72.576 Q840.477 72.576 837.196 69.3758 Q833.915 66.1351 833.915 57.6282 L833.915 32.9987 L828.446 32.9987 L828.446 27.2059 L833.915 27.2059 L833.915 14.324 L841.409 14.324 Z\" fill=\"#000000\" fill-rule=\"evenodd\" fill-opacity=\"1\" /><path clip-path=\"url(#clip540)\" d=\"M904.279 45.1919 L904.279 72.576 L896.825 72.576 L896.825 45.4349 Q896.825 38.994 894.314 35.7938 Q891.802 32.5936 886.779 32.5936 Q880.743 32.5936 877.259 36.4419 Q873.776 40.2903 873.776 46.9338 L873.776 72.576 L866.282 72.576 L866.282 9.54393 L873.776 9.54393 L873.776 34.2544 Q876.449 30.163 880.055 28.1376 Q883.7 26.1121 888.44 26.1121 Q896.258 26.1121 900.269 30.9732 Q904.279 35.7938 904.279 45.1919 Z\" fill=\"#000000\" fill-rule=\"evenodd\" fill-opacity=\"1\" /><path clip-path=\"url(#clip540)\" d=\"M963.098 32.4315 Q957.103 32.4315 953.619 37.1306 Q950.135 41.7891 950.135 49.9314 Q950.135 58.0738 953.578 62.7728 Q957.062 67.4314 963.098 67.4314 Q969.053 67.4314 972.537 62.7323 Q976.021 58.0333 976.021 49.9314 Q976.021 41.8701 972.537 37.1711 Q969.053 32.4315 963.098 32.4315 M963.098 26.1121 Q972.82 26.1121 978.37 32.4315 Q983.92 38.7509 983.92 49.9314 Q983.92 61.0714 978.37 67.4314 Q972.82 73.7508 963.098 73.7508 Q953.335 73.7508 947.786 67.4314 Q942.276 61.0714 942.276 49.9314 Q942.276 38.7509 947.786 32.4315 Q953.335 26.1121 963.098 26.1121 Z\" fill=\"#000000\" fill-rule=\"evenodd\" fill-opacity=\"1\" /><path clip-path=\"url(#clip540)\" d=\"M1019.24 9.54393 L1019.24 15.7418 L1012.11 15.7418 Q1008.1 15.7418 1006.52 17.3622 Q1004.98 18.9825 1004.98 23.1955 L1004.98 27.2059 L1017.26 27.2059 L1017.26 32.9987 L1004.98 32.9987 L1004.98 72.576 L997.49 72.576 L997.49 32.9987 L990.361 32.9987 L990.361 27.2059 L997.49 27.2059 L997.49 24.0462 Q997.49 16.471 1001.01 13.0277 Q1004.54 9.54393 1012.2 9.54393 L1019.24 9.54393 Z\" fill=\"#000000\" fill-rule=\"evenodd\" fill-opacity=\"1\" /><path clip-path=\"url(#clip540)\" d=\"M1069.43 33.1202 Q1063.28 33.1202 1059.96 37.5762 Q1056.47 42.2347 1056.47 49.9314 Q1056.47 58.0738 1059.91 62.7728 Q1063.4 67.4314 1069.43 67.4314 Q1075.39 67.4314 1078.87 62.7323 Q1082.36 58.0333 1082.36 49.9314 Q1082.36 42.5183 1078.87 37.5762 Q1075.67 33.1202 1069.43 33.1202 M1069.43 27.2059 L1094.19 27.2059 L1094.19 34.6595 L1085.84 34.6595 Q1090.26 40.9789 1090.26 49.9314 Q1090.26 61.0714 1084.71 67.3908 Q1079.16 73.7508 1069.43 73.7508 Q1059.67 73.7508 1054.16 67.3908 Q1048.61 61.0714 1048.61 49.9314 Q1048.61 38.7104 1054.16 32.4315 Q1058.74 27.2059 1069.43 27.2059 Z\" fill=\"#000000\" fill-rule=\"evenodd\" fill-opacity=\"1\" /><path clip-path=\"url(#clip540)\" d=\"M1072.88 6.22219 L1078.87 6.22219 L1088.8 21.4536 L1083.17 21.4536 L1075.88 11.5289 L1068.58 21.4536 L1062.95 21.4536 L1072.88 6.22219 M1075.88 26.1121 L1075.88 26.1121 Z\" fill=\"#000000\" fill-rule=\"evenodd\" fill-opacity=\"1\" /><path clip-path=\"url(#clip540)\" d=\"M1128.54 47.1768 L1118.21 59.5321 L1129.06 72.576 L1123.51 72.576 L1115.21 62.6108 L1106.91 72.576 L1101.36 72.576 L1112.45 59.289 L1102.29 47.1768 L1107.84 47.1768 L1115.41 56.2103 L1122.99 47.1768 L1128.54 47.1768 Z\" fill=\"#000000\" fill-rule=\"evenodd\" fill-opacity=\"1\" /><path clip-path=\"url(#clip540)\" d=\"M1144.3 40.8979 L1161.47 40.8979 L1161.47 45.516 L1137.25 45.516 L1137.25 41.06 Q1138.62 39.8042 1141.18 37.5357 Q1155.11 25.1804 1155.11 21.3726 Q1155.11 18.699 1153 17.0786 Q1150.9 15.4177 1147.45 15.4177 Q1145.35 15.4177 1142.88 16.1469 Q1140.41 16.8356 1137.49 18.2534 L1137.49 13.2708 Q1140.61 12.1365 1143.28 11.5694 Q1146 11.0023 1148.31 11.0023 Q1154.18 11.0023 1157.7 13.6759 Q1161.23 16.3494 1161.23 20.7244 Q1161.23 26.3552 1147.82 37.8598 Q1145.55 39.8042 1144.3 40.8979 Z\" fill=\"#000000\" fill-rule=\"evenodd\" fill-opacity=\"1\" /><path clip-path=\"url(#clip540)\" d=\"M1230.74 34.0924 L1230.74 9.54393 L1238.2 9.54393 L1238.2 72.576 L1230.74 72.576 L1230.74 65.7705 Q1228.39 69.8214 1224.79 71.8063 Q1221.22 73.7508 1216.2 73.7508 Q1207.98 73.7508 1202.79 67.1883 Q1197.65 60.6258 1197.65 49.9314 Q1197.65 39.2371 1202.79 32.6746 Q1207.98 26.1121 1216.2 26.1121 Q1221.22 26.1121 1224.79 28.0971 Q1228.39 30.0415 1230.74 34.0924 M1205.34 49.9314 Q1205.34 58.1548 1208.7 62.8538 Q1212.11 67.5124 1218.02 67.5124 Q1223.94 67.5124 1227.34 62.8538 Q1230.74 58.1548 1230.74 49.9314 Q1230.74 41.7081 1227.34 37.0496 Q1223.94 32.3505 1218.02 32.3505 Q1212.11 32.3505 1208.7 37.0496 Q1205.34 41.7081 1205.34 49.9314 Z\" fill=\"#000000\" fill-rule=\"evenodd\" fill-opacity=\"1\" /><path clip-path=\"url(#clip540)\" d=\"M1252.78 54.671 L1252.78 27.2059 L1260.23 27.2059 L1260.23 54.3874 Q1260.23 60.8284 1262.74 64.0691 Q1265.26 67.2693 1270.28 67.2693 Q1276.31 67.2693 1279.8 63.421 Q1283.32 59.5726 1283.32 52.9291 L1283.32 27.2059 L1290.78 27.2059 L1290.78 72.576 L1283.32 72.576 L1283.32 65.6084 Q1280.61 69.7404 1277 71.7658 Q1273.44 73.7508 1268.7 73.7508 Q1260.88 73.7508 1256.83 68.8897 Q1252.78 64.0286 1252.78 54.671 M1271.53 26.1121 L1271.53 26.1121 Z\" fill=\"#000000\" fill-rule=\"evenodd\" fill-opacity=\"1\" /><path clip-path=\"url(#clip540)\" d=\"M1332.42 34.1734 Q1331.16 33.4443 1329.66 33.1202 Q1328.21 32.7556 1326.42 32.7556 Q1320.1 32.7556 1316.7 36.8875 Q1313.34 40.9789 1313.34 48.6757 L1313.34 72.576 L1305.85 72.576 L1305.85 27.2059 L1313.34 27.2059 L1313.34 34.2544 Q1315.69 30.1225 1319.46 28.1376 Q1323.22 26.1121 1328.61 26.1121 Q1329.38 26.1121 1330.31 26.2337 Q1331.24 26.3147 1332.38 26.5172 L1332.42 34.1734 Z\" fill=\"#000000\" fill-rule=\"evenodd\" fill-opacity=\"1\" /><path clip-path=\"url(#clip540)\" d=\"M1340.24 27.2059 L1347.69 27.2059 L1347.69 72.576 L1340.24 72.576 L1340.24 27.2059 M1340.24 9.54393 L1347.69 9.54393 L1347.69 18.9825 L1340.24 18.9825 L1340.24 9.54393 Z\" fill=\"#000000\" fill-rule=\"evenodd\" fill-opacity=\"1\" /><path clip-path=\"url(#clip540)\" d=\"M1401 45.1919 L1401 72.576 L1393.55 72.576 L1393.55 45.4349 Q1393.55 38.994 1391.04 35.7938 Q1388.52 32.5936 1383.5 32.5936 Q1377.47 32.5936 1373.98 36.4419 Q1370.5 40.2903 1370.5 46.9338 L1370.5 72.576 L1363 72.576 L1363 27.2059 L1370.5 27.2059 L1370.5 34.2544 Q1373.17 30.163 1376.78 28.1376 Q1380.42 26.1121 1385.16 26.1121 Q1392.98 26.1121 1396.99 30.9732 Q1401 35.7938 1401 45.1919 Z\" fill=\"#000000\" fill-rule=\"evenodd\" fill-opacity=\"1\" /><path clip-path=\"url(#clip540)\" d=\"M1445.72 49.3643 Q1445.72 41.2625 1442.36 36.8065 Q1439.04 32.3505 1433 32.3505 Q1427.01 32.3505 1423.65 36.8065 Q1420.32 41.2625 1420.32 49.3643 Q1420.32 57.4256 1423.65 61.8816 Q1427.01 66.3376 1433 66.3376 Q1439.04 66.3376 1442.36 61.8816 Q1445.72 57.4256 1445.72 49.3643 M1453.18 66.9452 Q1453.18 78.5308 1448.03 84.1616 Q1442.89 89.8329 1432.27 89.8329 Q1428.34 89.8329 1424.86 89.2252 Q1421.38 88.6581 1418.1 87.4428 L1418.1 80.1917 Q1421.38 81.9741 1424.58 82.8248 Q1427.78 83.6755 1431.1 83.6755 Q1438.43 83.6755 1442.08 79.8271 Q1445.72 76.0193 1445.72 68.282 L1445.72 64.5957 Q1443.41 68.6061 1439.81 70.5911 Q1436.2 72.576 1431.18 72.576 Q1422.84 72.576 1417.73 66.2161 Q1412.63 59.8562 1412.63 49.3643 Q1412.63 38.832 1417.73 32.472 Q1422.84 26.1121 1431.18 26.1121 Q1436.2 26.1121 1439.81 28.0971 Q1443.41 30.082 1445.72 34.0924 L1445.72 27.2059 L1453.18 27.2059 L1453.18 66.9452 Z\" fill=\"#000000\" fill-rule=\"evenodd\" fill-opacity=\"1\" /><path clip-path=\"url(#clip540)\" d=\"M1523.82 28.5427 L1523.82 35.5912 Q1520.66 33.9709 1517.26 33.1607 Q1513.86 32.3505 1510.21 32.3505 Q1504.66 32.3505 1501.87 34.0519 Q1499.11 35.7533 1499.11 39.156 Q1499.11 41.7486 1501.1 43.2475 Q1503.08 44.7058 1509.08 46.0426 L1511.63 46.6097 Q1519.57 48.3111 1522.89 51.4303 Q1526.25 54.509 1526.25 60.0587 Q1526.25 66.3781 1521.23 70.0644 Q1516.25 73.7508 1507.5 73.7508 Q1503.85 73.7508 1499.88 73.0216 Q1495.95 72.3329 1491.58 70.9151 L1491.58 63.2184 Q1495.71 65.3654 1499.72 66.4591 Q1503.73 67.5124 1507.66 67.5124 Q1512.93 67.5124 1515.76 65.73 Q1518.6 63.9071 1518.6 60.6258 Q1518.6 57.5877 1516.53 55.9673 Q1514.51 54.3469 1507.58 52.8481 L1504.99 52.2405 Q1498.06 50.7821 1494.98 47.7845 Q1491.9 44.7463 1491.9 39.4801 Q1491.9 33.0797 1496.44 29.5959 Q1500.98 26.1121 1509.32 26.1121 Q1513.45 26.1121 1517.1 26.7198 Q1520.75 27.3274 1523.82 28.5427 Z\" fill=\"#000000\" fill-rule=\"evenodd\" fill-opacity=\"1\" /><path clip-path=\"url(#clip540)\" d=\"M1538.12 27.2059 L1545.58 27.2059 L1545.58 72.576 L1538.12 72.576 L1538.12 27.2059 M1538.12 9.54393 L1545.58 9.54393 L1545.58 18.9825 L1538.12 18.9825 L1538.12 9.54393 Z\" fill=\"#000000\" fill-rule=\"evenodd\" fill-opacity=\"1\" /><path clip-path=\"url(#clip540)\" d=\"M1596.5 35.9153 Q1599.29 30.8922 1603.18 28.5022 Q1607.07 26.1121 1612.34 26.1121 Q1619.43 26.1121 1623.27 31.0947 Q1627.12 36.0368 1627.12 45.1919 L1627.12 72.576 L1619.63 72.576 L1619.63 45.4349 Q1619.63 38.913 1617.32 35.7533 Q1615.01 32.5936 1610.27 32.5936 Q1604.48 32.5936 1601.12 36.4419 Q1597.75 40.2903 1597.75 46.9338 L1597.75 72.576 L1590.26 72.576 L1590.26 45.4349 Q1590.26 38.8725 1587.95 35.7533 Q1585.64 32.5936 1580.82 32.5936 Q1575.11 32.5936 1571.75 36.4824 Q1568.38 40.3308 1568.38 46.9338 L1568.38 72.576 L1560.89 72.576 L1560.89 27.2059 L1568.38 27.2059 L1568.38 34.2544 Q1570.94 30.082 1574.5 28.0971 Q1578.07 26.1121 1582.97 26.1121 Q1587.91 26.1121 1591.35 28.6237 Q1594.84 31.1352 1596.5 35.9153 Z\" fill=\"#000000\" fill-rule=\"evenodd\" fill-opacity=\"1\" /><path clip-path=\"url(#clip540)\" d=\"M1641.22 54.671 L1641.22 27.2059 L1648.67 27.2059 L1648.67 54.3874 Q1648.67 60.8284 1651.18 64.0691 Q1653.7 67.2693 1658.72 67.2693 Q1664.76 67.2693 1668.24 63.421 Q1671.76 59.5726 1671.76 52.9291 L1671.76 27.2059 L1679.22 27.2059 L1679.22 72.576 L1671.76 72.576 L1671.76 65.6084 Q1669.05 69.7404 1665.44 71.7658 Q1661.88 73.7508 1657.14 73.7508 Q1649.32 73.7508 1645.27 68.8897 Q1641.22 64.0286 1641.22 54.671 M1659.98 26.1121 L1659.98 26.1121 Z\" fill=\"#000000\" fill-rule=\"evenodd\" fill-opacity=\"1\" /><path clip-path=\"url(#clip540)\" d=\"M1694.57 9.54393 L1702.02 9.54393 L1702.02 72.576 L1694.57 72.576 L1694.57 9.54393 Z\" fill=\"#000000\" fill-rule=\"evenodd\" fill-opacity=\"1\" /><path clip-path=\"url(#clip540)\" d=\"M1738.24 49.7694 Q1729.21 49.7694 1725.72 51.8354 Q1722.24 53.9013 1722.24 58.8839 Q1722.24 62.8538 1724.83 65.2034 Q1727.46 67.5124 1731.96 67.5124 Q1738.16 67.5124 1741.88 63.1374 Q1745.65 58.7219 1745.65 51.4303 L1745.65 49.7694 L1738.24 49.7694 M1753.11 46.6907 L1753.11 72.576 L1745.65 72.576 L1745.65 65.6895 Q1743.1 69.8214 1739.29 71.8063 Q1735.48 73.7508 1729.97 73.7508 Q1723.01 73.7508 1718.88 69.8619 Q1714.78 65.9325 1714.78 59.3701 Q1714.78 51.7138 1719.89 47.825 Q1725.03 43.9361 1735.2 43.9361 L1745.65 43.9361 L1745.65 43.2069 Q1745.65 38.0623 1742.25 35.2672 Q1738.89 32.4315 1732.77 32.4315 Q1728.88 32.4315 1725.19 33.3632 Q1721.51 34.295 1718.11 36.1584 L1718.11 29.2718 Q1722.2 27.692 1726.05 26.9223 Q1729.89 26.1121 1733.54 26.1121 Q1743.38 26.1121 1748.24 31.2163 Q1753.11 36.3204 1753.11 46.6907 Z\" fill=\"#000000\" fill-rule=\"evenodd\" fill-opacity=\"1\" /><path clip-path=\"url(#clip540)\" d=\"M1775.83 14.324 L1775.83 27.2059 L1791.18 27.2059 L1791.18 32.9987 L1775.83 32.9987 L1775.83 57.6282 Q1775.83 63.1779 1777.33 64.7578 Q1778.87 66.3376 1783.53 66.3376 L1791.18 66.3376 L1791.18 72.576 L1783.53 72.576 Q1774.9 72.576 1771.62 69.3758 Q1768.34 66.1351 1768.34 57.6282 L1768.34 32.9987 L1762.87 32.9987 L1762.87 27.2059 L1768.34 27.2059 L1768.34 14.324 L1775.83 14.324 Z\" fill=\"#000000\" fill-rule=\"evenodd\" fill-opacity=\"1\" /><path clip-path=\"url(#clip540)\" d=\"M1800.99 27.2059 L1808.44 27.2059 L1808.44 72.576 L1800.99 72.576 L1800.99 27.2059 M1800.99 9.54393 L1808.44 9.54393 L1808.44 18.9825 L1800.99 18.9825 L1800.99 9.54393 Z\" fill=\"#000000\" fill-rule=\"evenodd\" fill-opacity=\"1\" /><path clip-path=\"url(#clip540)\" d=\"M1841.62 32.4315 Q1835.62 32.4315 1832.14 37.1306 Q1828.65 41.7891 1828.65 49.9314 Q1828.65 58.0738 1832.1 62.7728 Q1835.58 67.4314 1841.62 67.4314 Q1847.57 67.4314 1851.06 62.7323 Q1854.54 58.0333 1854.54 49.9314 Q1854.54 41.8701 1851.06 37.1711 Q1847.57 32.4315 1841.62 32.4315 M1841.62 26.1121 Q1851.34 26.1121 1856.89 32.4315 Q1862.44 38.7509 1862.44 49.9314 Q1862.44 61.0714 1856.89 67.4314 Q1851.34 73.7508 1841.62 73.7508 Q1831.86 73.7508 1826.31 67.4314 Q1820.8 61.0714 1820.8 49.9314 Q1820.8 38.7509 1826.31 32.4315 Q1831.86 26.1121 1841.62 26.1121 Z\" fill=\"#000000\" fill-rule=\"evenodd\" fill-opacity=\"1\" /><path clip-path=\"url(#clip540)\" d=\"M1912.51 45.1919 L1912.51 72.576 L1905.05 72.576 L1905.05 45.4349 Q1905.05 38.994 1902.54 35.7938 Q1900.03 32.5936 1895.01 32.5936 Q1888.97 32.5936 1885.49 36.4419 Q1882.01 40.2903 1882.01 46.9338 L1882.01 72.576 L1874.51 72.576 L1874.51 27.2059 L1882.01 27.2059 L1882.01 34.2544 Q1884.68 30.163 1888.28 28.1376 Q1891.93 26.1121 1896.67 26.1121 Q1904.49 26.1121 1908.5 30.9732 Q1912.51 35.7938 1912.51 45.1919 Z\" fill=\"#000000\" fill-rule=\"evenodd\" fill-opacity=\"1\" /><polyline clip-path=\"url(#clip542)\" style=\"stroke:#009af9; stroke-linecap:butt; stroke-linejoin:round; stroke-width:4; stroke-opacity:1; fill:none\" points=\"\n  237.067,1386.4 251.739,1377.38 266.411,1368.36 281.083,1359.36 295.755,1350.35 310.427,1341.35 325.099,1332.36 339.771,1323.36 354.442,1314.37 369.114,1305.39 \n  383.786,1296.41 398.458,1287.43 413.13,1278.45 427.802,1269.48 442.474,1260.51 457.146,1251.54 471.818,1242.57 486.49,1233.61 501.161,1224.65 515.833,1215.69 \n  530.505,1206.73 545.177,1197.77 559.849,1188.82 574.521,1179.87 589.193,1170.92 603.865,1161.97 618.537,1153.02 633.209,1144.07 647.881,1135.13 662.552,1126.19 \n  677.224,1117.25 691.896,1108.31 706.568,1099.37 721.24,1090.43 735.912,1081.5 750.584,1072.56 765.256,1063.63 779.928,1054.7 794.6,1045.77 809.272,1036.84 \n  823.943,1027.91 838.615,1018.99 853.287,1010.06 867.959,1001.14 882.631,992.216 897.303,983.295 911.975,974.376 926.647,965.458 941.319,956.541 955.991,947.626 \n  970.662,938.713 985.334,929.801 1000.01,920.892 1014.68,911.983 1029.35,903.077 1044.02,894.172 1058.69,885.27 1073.37,876.37 1088.04,867.471 1102.71,858.575 \n  1117.38,849.682 1132.05,840.791 1146.73,831.902 1161.4,823.016 1176.07,814.133 1190.74,805.253 1205.41,796.376 1220.08,787.502 1234.76,778.631 1249.43,769.764 \n  1264.1,760.901 1278.77,752.041 1293.44,743.185 1308.12,734.333 1322.79,725.486 1337.46,716.643 1352.13,707.804 1366.8,698.97 1381.48,690.141 1396.15,681.318 \n  1410.82,672.499 1425.49,663.686 1440.16,654.878 1454.84,646.077 1469.51,637.281 1484.18,628.492 1498.85,619.708 1513.52,610.932 1528.19,602.162 1542.87,593.399 \n  1557.54,584.644 1572.21,575.895 1586.88,567.154 1601.55,558.421 1616.23,549.696 1630.9,540.979 1645.57,532.27 1660.24,523.57 1674.91,514.879 1689.59,506.196 \n  1704.26,497.523 1718.93,488.859 1733.6,480.205 1748.27,471.56 1762.95,462.925 1777.62,454.3 1792.29,445.686 1806.96,437.082 1821.63,428.489 1836.3,419.907 \n  1850.98,411.336 1865.65,402.776 1880.32,394.228 1894.99,385.691 1909.66,377.166 1924.34,368.653 1939.01,360.153 1953.68,351.665 1968.35,343.189 1983.02,334.726 \n  1997.7,326.277 2012.37,317.84 2027.04,309.416 2041.71,301.006 2056.38,292.61 2071.06,284.228 2085.73,275.859 2100.4,267.505 2115.07,259.165 2129.74,250.839 \n  2144.41,242.528 2159.09,234.232 2173.76,225.951 2188.43,217.685 2203.1,209.434 2217.77,201.198 2232.45,192.978 2247.12,184.774 2261.79,176.585 2276.46,168.413 \n  2291.13,160.256 \n  \"/>\n</svg>\n"
     },
     "metadata": {},
     "execution_count": 88
    }
   ],
   "metadata": {}
  },
  {
   "cell_type": "code",
   "execution_count": 90,
   "source": [
    "savefig(oneddiffplot, \"oneddiffplot.png\")"
   ],
   "outputs": [],
   "metadata": {}
  },
  {
   "cell_type": "markdown",
   "source": [
    "The linear growth suggests we have constant diffusivity which we now calculate using\n",
    "$$\n",
    "\\begin{equation*}\n",
    "    K = \\frac{\\Delta\\hat{\\sigma}_{x}^{2}}{2\\Delta t}.\n",
    "\\end{equation*}\n",
    "$$"
   ],
   "metadata": {}
  },
  {
   "cell_type": "code",
   "execution_count": 89,
   "source": [
    "Δσ²_1d = second_mom1d[end] - second_mom1d[1]\n",
    "Δt_1d = tvec_1d[end] - tvec_1d[1]\n",
    "K1d = Δσ²_1d / (2 * Δt_1d)"
   ],
   "outputs": [
    {
     "output_type": "execute_result",
     "data": {
      "text/plain": [
       "0.24876337661397457"
      ]
     },
     "metadata": {},
     "execution_count": 89
    }
   ],
   "metadata": {}
  },
  {
   "cell_type": "markdown",
   "source": [
    "Here we see that this is very good approximation to the parameterised value of $\\kappa = 0.25$ that was set in the simulation problem."
   ],
   "metadata": {}
  },
  {
   "cell_type": "markdown",
   "source": [
    "## Two dimensions\n",
    "In two dimesions we consider two initial conditions of tracer concentration, a \"Gaussian blob\" and a \"Gaussian band\".\n",
    "As they are different distribtuions they require different diagnostics.\n",
    "The band will use something similar to the one dimensional case but will only look at the **growing of the meridional second moment** $\\hat{\\sigma}_{y}^{2}$.\n",
    "Currently this is not fully operational so will get the blob simulation in and return to the band.\n",
    "\n",
    "The blob will look at the growth of the area of circle with radius equal to the radial second moment $\\hat{\\sigma}_{r}^{2}$ or $\\langle r^2 \\rangle$.\n",
    "\n",
    "### Gaussian blob simulation\n",
    "Here the initial condition for tracer concentration is\n",
    "$$\n",
    "\\begin{equation*}\n",
    "    C_{0}(x, y, t; K) = \\frac{1}{4\\pi Kt}\\exp-\\Big(\\frac{r^2}{4Kt} \\Big).\n",
    "\\end{equation*}\n",
    "$$\n",
    "Again I bypass the theory and jump to the result that the area of a circle will grow linearly and this is again estimated by ordering the concnetration data from highest to lowest \n",
    "$$\n",
    "\\begin{equation*}\n",
    "    \\frac{\\langle A \\rangle}{\\int C(A)dA} = 4\\pi K t \\approx \\frac{\\Delta x \\Delta y \\sum_{i = 1}^{N}i C_{i}}{\\sum_{i = 1}^{N}C_{i}}\n",
    "\\end{equation*}\n",
    "$$\n",
    "Now setup a simulation, plot function and the function to calculate the average area for a diffusion simulation of a Gaussian blob."
   ],
   "metadata": {}
  },
  {
   "cell_type": "code",
   "execution_count": 106,
   "source": [
    "prob_2d = TracerAdvectionDiffusion.Problem(dev; nx=nx, Lx=Lx, κ=κ,\n",
    "                                                #steadyflow=true, u=uvel, v=vvel,\n",
    "                                                dt=dt, stepper=stepper)\n",
    "strip = Normal(0, 1)\n",
    "strip_IC(x) = pdf(strip, x)\n",
    "C₀2d = Array{Float64}(undef, prob_2d.grid.nx, prob_2d.grid.ny)\n",
    "xgrid2d, ygrid2d = prob_2d.grid.x, prob_2d.grid.y\n",
    "\n",
    "#Gaussian blob\n",
    "C₀2d = [pdf(MvNormal([0, 0], [1 0;0 1]), [x, y]) for y in ygrid2d, x in xgrid2d]\n",
    "set_c!(prob_2d, C₀2d)"
   ],
   "outputs": [],
   "metadata": {}
  },
  {
   "cell_type": "code",
   "execution_count": 4,
   "source": [
    "function plot_output_2d(prob)\n",
    "  \t\n",
    "\tl = @layout Plots.grid(2, 1)\n",
    "  \tp = plot(layout=l, size = (600, 500))\n",
    "\t\n",
    "\tc = prob.vars.c\n",
    "  \tgrid = prob.grid\n",
    "\tx, y = grid.x, grid.y\n",
    "\t\n",
    "  \theatmap!(p[1], x, y, c',\n",
    "\t\t\t aspectratio = 1,\n",
    "\t\t\t\t  c = :balance,\n",
    "\t\t   colorbar = true,\n",
    "\t\t\t legend = :false,\n",
    "\t\t\t  xlims = (-grid.Lx/2, grid.Lx/2),\n",
    "\t\t\t  ylims = (-grid.Ly/2, grid.Ly/2),\n",
    "\t\t\t xlabel = \"x\",\n",
    "\t\t\t ylabel = \"y\",\n",
    "\t\t\t  title = \"Initial concentration\",\n",
    "\t\t framestyle = :box)\n",
    "\t\n",
    "\tt = prob.clock.t\n",
    "\tsorted_concentration = sort(reshape(c, :), rev = true)\n",
    "\tplot!(p[2], 1:length(sorted_concentration), sorted_concentration,\n",
    "\t\t\tlabel = false,\n",
    "\t\t\txlabel = \"Grid cell, ΔA\",\n",
    "\t\t\tylabel = \"Concentration\",\n",
    "\t\t\ttitle = \"Initial concentration ordered highest to lowest\",\n",
    "\t\t\tylims = (0, findmax(sorted_concentration)[1]),\n",
    "\t\t\tcolor = :green)\n",
    "\t\n",
    "\treturn p\n",
    "end"
   ],
   "outputs": [
    {
     "output_type": "execute_result",
     "data": {
      "text/plain": [
       "plot_output_2d (generic function with 1 method)"
      ]
     },
     "metadata": {},
     "execution_count": 4
    }
   ],
   "metadata": {}
  },
  {
   "cell_type": "code",
   "execution_count": 5,
   "source": [
    "function first_mom(prob::FourierFlows.Problem)\n",
    "\t\n",
    "\tC = reshape(prob.vars.c, :)\n",
    "\tsort!(C, rev = true)\n",
    "\tN = length(C)\n",
    "\t\n",
    "\tΔx = prob.grid.Lx / prob.grid.nx\n",
    "\tΔy = prob.grid.Ly / prob.grid.ny\n",
    "\t\n",
    "\tΣkCₖ = (Δx * Δy) * sum( [ k * C[k] for k ∈ 1:N ] )\n",
    "\tΣCₖ = sum(C)\n",
    "\t\n",
    "\t\n",
    "\treturn ΣkCₖ/ΣCₖ\n",
    "\t\n",
    "end"
   ],
   "outputs": [
    {
     "output_type": "execute_result",
     "data": {
      "text/plain": [
       "first_mom (generic function with 1 method)"
      ]
     },
     "metadata": {},
     "execution_count": 5
    }
   ],
   "metadata": {}
  },
  {
   "cell_type": "code",
   "execution_count": 109,
   "source": [
    "p_2d = plot_output_2d(prob_2d)\n",
    "\n",
    "savefig(p_2d, \"Initialblob2d.png\")\n",
    "\n",
    "first_mom2d = Vector{Float64}(undef, round(Int, nsteps/nsubs) + 1)\n",
    "first_mom2d[1] = first_mom(prob_2d)\n",
    "tvec_2d = Vector{Float64}(undef, round(Int, nsteps/nsubs) + 1)\n",
    "tvec_2d[1] = prob_2d.clock.t\n",
    "\n",
    "anim_2d = @animate for j = 0:round(Int, nsteps/nsubs)\n",
    "\n",
    "    p_2d[1][1][:z] = prob_2d.vars.c\n",
    "    p_2d[1][:title] = \"Concentration, t=\" * string(prob_2d.clock.t)\n",
    "    p_2d[2][1][:y] =  sort(reshape(prob_2d.vars.c, :), rev = true)\n",
    "\n",
    "    first_mom2d[j + 1] = first_mom(prob_2d)\n",
    "    tvec_2d[j + 1] = prob_2d.clock.t\n",
    "    \n",
    "    stepforward!(prob_2d, nsubs)\n",
    "    TracerAdvectionDiffusion.updatevars!(prob_2d)\n",
    "    if j == round(Int, nsteps/nsubs)\n",
    "        p_2d[1][:title] = \"Final concentration\"\n",
    "        p_2d[2][:title] = \"Final concentration ordered highest to lowest\"\n",
    "        savefig(p_2d, \"Finialblob2d.png\")\n",
    "    end\n",
    "end\n",
    "\n",
    "#mp4(anim_2d, \"2d_gaussiandiff_blob.mp4\", fps=12)"
   ],
   "outputs": [
    {
     "output_type": "execute_result",
     "data": {
      "text/plain": [
       "Animation(\"/var/folders/xy/tfzr9ygs3d75fd8pymbbx3w40000gn/T/jl_Y7gVDU\", [\"000001.png\", \"000002.png\", \"000003.png\", \"000004.png\", \"000005.png\", \"000006.png\", \"000007.png\", \"000008.png\", \"000009.png\", \"000010.png\"  …  \"000132.png\", \"000133.png\", \"000134.png\", \"000135.png\", \"000136.png\", \"000137.png\", \"000138.png\", \"000139.png\", \"000140.png\", \"000141.png\"])"
      ]
     },
     "metadata": {},
     "execution_count": 109
    }
   ],
   "metadata": {}
  },
  {
   "cell_type": "markdown",
   "source": [
    "Now look at the growth of the average area and if it is linear as the theory suggests we calculate the diffusivity by \n",
    "$$\n",
    "\\begin{equation*}\n",
    "    K = \\frac{\\Delta \\langle A \\rangle}{4 \\pi \\Delta t}\n",
    "\\end{equation*}\n",
    "$$"
   ],
   "metadata": {}
  },
  {
   "cell_type": "code",
   "execution_count": 111,
   "source": [
    "twoddiffplot = plot(tvec_2d, first_mom2d, label = false, xlabel = \"t\", ylabel = \"⟨A⟩\", title = \"Growth of average area during simulation\")\n",
    "twoddiffplot"
   ],
   "outputs": [
    {
     "output_type": "execute_result",
     "data": {
      "image/svg+xml": "<?xml version=\"1.0\" encoding=\"utf-8\"?>\n<svg xmlns=\"http://www.w3.org/2000/svg\" xmlns:xlink=\"http://www.w3.org/1999/xlink\" width=\"600\" height=\"400\" viewBox=\"0 0 2400 1600\">\n<defs>\n  <clipPath id=\"clip460\">\n    <rect x=\"0\" y=\"0\" width=\"2400\" height=\"1600\"/>\n  </clipPath>\n</defs>\n<path clip-path=\"url(#clip460)\" d=\"\nM0 1600 L2400 1600 L2400 0 L0 0  Z\n  \" fill=\"#ffffff\" fill-rule=\"evenodd\" fill-opacity=\"1\"/>\n<defs>\n  <clipPath id=\"clip461\">\n    <rect x=\"480\" y=\"0\" width=\"1681\" height=\"1600\"/>\n  </clipPath>\n</defs>\n<path clip-path=\"url(#clip460)\" d=\"\nM205.121 1423.18 L2352.76 1423.18 L2352.76 123.472 L205.121 123.472  Z\n  \" fill=\"#ffffff\" fill-rule=\"evenodd\" fill-opacity=\"1\"/>\n<defs>\n  <clipPath id=\"clip462\">\n    <rect x=\"205\" y=\"123\" width=\"2149\" height=\"1301\"/>\n  </clipPath>\n</defs>\n<polyline clip-path=\"url(#clip462)\" style=\"stroke:#000000; stroke-linecap:butt; stroke-linejoin:round; stroke-width:2; stroke-opacity:0.1; fill:none\" points=\"\n  265.903,1423.18 265.903,123.472 \n  \"/>\n<polyline clip-path=\"url(#clip462)\" style=\"stroke:#000000; stroke-linecap:butt; stroke-linejoin:round; stroke-width:2; stroke-opacity:0.1; fill:none\" points=\"\n  627.701,1423.18 627.701,123.472 \n  \"/>\n<polyline clip-path=\"url(#clip462)\" style=\"stroke:#000000; stroke-linecap:butt; stroke-linejoin:round; stroke-width:2; stroke-opacity:0.1; fill:none\" points=\"\n  989.5,1423.18 989.5,123.472 \n  \"/>\n<polyline clip-path=\"url(#clip462)\" style=\"stroke:#000000; stroke-linecap:butt; stroke-linejoin:round; stroke-width:2; stroke-opacity:0.1; fill:none\" points=\"\n  1351.3,1423.18 1351.3,123.472 \n  \"/>\n<polyline clip-path=\"url(#clip462)\" style=\"stroke:#000000; stroke-linecap:butt; stroke-linejoin:round; stroke-width:2; stroke-opacity:0.1; fill:none\" points=\"\n  1713.1,1423.18 1713.1,123.472 \n  \"/>\n<polyline clip-path=\"url(#clip462)\" style=\"stroke:#000000; stroke-linecap:butt; stroke-linejoin:round; stroke-width:2; stroke-opacity:0.1; fill:none\" points=\"\n  2074.89,1423.18 2074.89,123.472 \n  \"/>\n<polyline clip-path=\"url(#clip460)\" style=\"stroke:#000000; stroke-linecap:butt; stroke-linejoin:round; stroke-width:4; stroke-opacity:1; fill:none\" points=\"\n  205.121,1423.18 2352.76,1423.18 \n  \"/>\n<polyline clip-path=\"url(#clip460)\" style=\"stroke:#000000; stroke-linecap:butt; stroke-linejoin:round; stroke-width:4; stroke-opacity:1; fill:none\" points=\"\n  265.903,1423.18 265.903,1404.28 \n  \"/>\n<polyline clip-path=\"url(#clip460)\" style=\"stroke:#000000; stroke-linecap:butt; stroke-linejoin:round; stroke-width:4; stroke-opacity:1; fill:none\" points=\"\n  627.701,1423.18 627.701,1404.28 \n  \"/>\n<polyline clip-path=\"url(#clip460)\" style=\"stroke:#000000; stroke-linecap:butt; stroke-linejoin:round; stroke-width:4; stroke-opacity:1; fill:none\" points=\"\n  989.5,1423.18 989.5,1404.28 \n  \"/>\n<polyline clip-path=\"url(#clip460)\" style=\"stroke:#000000; stroke-linecap:butt; stroke-linejoin:round; stroke-width:4; stroke-opacity:1; fill:none\" points=\"\n  1351.3,1423.18 1351.3,1404.28 \n  \"/>\n<polyline clip-path=\"url(#clip460)\" style=\"stroke:#000000; stroke-linecap:butt; stroke-linejoin:round; stroke-width:4; stroke-opacity:1; fill:none\" points=\"\n  1713.1,1423.18 1713.1,1404.28 \n  \"/>\n<polyline clip-path=\"url(#clip460)\" style=\"stroke:#000000; stroke-linecap:butt; stroke-linejoin:round; stroke-width:4; stroke-opacity:1; fill:none\" points=\"\n  2074.89,1423.18 2074.89,1404.28 \n  \"/>\n<path clip-path=\"url(#clip460)\" d=\"M243.287 1452.37 Q239.676 1452.37 237.848 1455.94 Q236.042 1459.48 236.042 1466.61 Q236.042 1473.71 237.848 1477.28 Q239.676 1480.82 243.287 1480.82 Q246.922 1480.82 248.727 1477.28 Q250.556 1473.71 250.556 1466.61 Q250.556 1459.48 248.727 1455.94 Q246.922 1452.37 243.287 1452.37 M243.287 1448.67 Q249.098 1448.67 252.153 1453.27 Q255.232 1457.86 255.232 1466.61 Q255.232 1475.33 252.153 1479.94 Q249.098 1484.52 243.287 1484.52 Q237.477 1484.52 234.399 1479.94 Q231.343 1475.33 231.343 1466.61 Q231.343 1457.86 234.399 1453.27 Q237.477 1448.67 243.287 1448.67 Z\" fill=\"#000000\" fill-rule=\"evenodd\" fill-opacity=\"1\" /><path clip-path=\"url(#clip460)\" d=\"M263.449 1477.97 L268.334 1477.97 L268.334 1483.85 L263.449 1483.85 L263.449 1477.97 Z\" fill=\"#000000\" fill-rule=\"evenodd\" fill-opacity=\"1\" /><path clip-path=\"url(#clip460)\" d=\"M288.519 1452.37 Q284.908 1452.37 283.079 1455.94 Q281.273 1459.48 281.273 1466.61 Q281.273 1473.71 283.079 1477.28 Q284.908 1480.82 288.519 1480.82 Q292.153 1480.82 293.959 1477.28 Q295.787 1473.71 295.787 1466.61 Q295.787 1459.48 293.959 1455.94 Q292.153 1452.37 288.519 1452.37 M288.519 1448.67 Q294.329 1448.67 297.384 1453.27 Q300.463 1457.86 300.463 1466.61 Q300.463 1475.33 297.384 1479.94 Q294.329 1484.52 288.519 1484.52 Q282.709 1484.52 279.63 1479.94 Q276.574 1475.33 276.574 1466.61 Q276.574 1457.86 279.63 1453.27 Q282.709 1448.67 288.519 1448.67 Z\" fill=\"#000000\" fill-rule=\"evenodd\" fill-opacity=\"1\" /><path clip-path=\"url(#clip460)\" d=\"M599.438 1479.92 L615.757 1479.92 L615.757 1483.85 L593.813 1483.85 L593.813 1479.92 Q596.475 1477.16 601.058 1472.53 Q605.665 1467.88 606.845 1466.54 Q609.09 1464.01 609.97 1462.28 Q610.873 1460.52 610.873 1458.83 Q610.873 1456.07 608.928 1454.34 Q607.007 1452.6 603.905 1452.6 Q601.706 1452.6 599.253 1453.37 Q596.822 1454.13 594.044 1455.68 L594.044 1450.96 Q596.868 1449.82 599.322 1449.25 Q601.776 1448.67 603.813 1448.67 Q609.183 1448.67 612.377 1451.35 Q615.572 1454.04 615.572 1458.53 Q615.572 1460.66 614.762 1462.58 Q613.975 1464.48 611.868 1467.07 Q611.289 1467.74 608.188 1470.96 Q605.086 1474.15 599.438 1479.92 Z\" fill=\"#000000\" fill-rule=\"evenodd\" fill-opacity=\"1\" /><path clip-path=\"url(#clip460)\" d=\"M625.572 1477.97 L630.456 1477.97 L630.456 1483.85 L625.572 1483.85 L625.572 1477.97 Z\" fill=\"#000000\" fill-rule=\"evenodd\" fill-opacity=\"1\" /><path clip-path=\"url(#clip460)\" d=\"M640.687 1449.29 L659.044 1449.29 L659.044 1453.23 L644.97 1453.23 L644.97 1461.7 Q645.988 1461.35 647.007 1461.19 Q648.025 1461 649.044 1461 Q654.831 1461 658.211 1464.18 Q661.59 1467.35 661.59 1472.76 Q661.59 1478.34 658.118 1481.44 Q654.646 1484.52 648.326 1484.52 Q646.15 1484.52 643.882 1484.15 Q641.637 1483.78 639.229 1483.04 L639.229 1478.34 Q641.312 1479.48 643.535 1480.03 Q645.757 1480.59 648.234 1480.59 Q652.238 1480.59 654.576 1478.48 Q656.914 1476.38 656.914 1472.76 Q656.914 1469.15 654.576 1467.05 Q652.238 1464.94 648.234 1464.94 Q646.359 1464.94 644.484 1465.36 Q642.632 1465.77 640.687 1466.65 L640.687 1449.29 Z\" fill=\"#000000\" fill-rule=\"evenodd\" fill-opacity=\"1\" /><path clip-path=\"url(#clip460)\" d=\"M956.664 1449.29 L975.021 1449.29 L975.021 1453.23 L960.947 1453.23 L960.947 1461.7 Q961.965 1461.35 962.984 1461.19 Q964.002 1461 965.021 1461 Q970.808 1461 974.187 1464.18 Q977.567 1467.35 977.567 1472.76 Q977.567 1478.34 974.095 1481.44 Q970.623 1484.52 964.303 1484.52 Q962.127 1484.52 959.859 1484.15 Q957.613 1483.78 955.206 1483.04 L955.206 1478.34 Q957.289 1479.48 959.512 1480.03 Q961.734 1480.59 964.211 1480.59 Q968.215 1480.59 970.553 1478.48 Q972.891 1476.38 972.891 1472.76 Q972.891 1469.15 970.553 1467.05 Q968.215 1464.94 964.211 1464.94 Q962.336 1464.94 960.461 1465.36 Q958.609 1465.77 956.664 1466.65 L956.664 1449.29 Z\" fill=\"#000000\" fill-rule=\"evenodd\" fill-opacity=\"1\" /><path clip-path=\"url(#clip460)\" d=\"M986.78 1477.97 L991.664 1477.97 L991.664 1483.85 L986.78 1483.85 L986.78 1477.97 Z\" fill=\"#000000\" fill-rule=\"evenodd\" fill-opacity=\"1\" /><path clip-path=\"url(#clip460)\" d=\"M1011.85 1452.37 Q1008.24 1452.37 1006.41 1455.94 Q1004.6 1459.48 1004.6 1466.61 Q1004.6 1473.71 1006.41 1477.28 Q1008.24 1480.82 1011.85 1480.82 Q1015.48 1480.82 1017.29 1477.28 Q1019.12 1473.71 1019.12 1466.61 Q1019.12 1459.48 1017.29 1455.94 Q1015.48 1452.37 1011.85 1452.37 M1011.85 1448.67 Q1017.66 1448.67 1020.71 1453.27 Q1023.79 1457.86 1023.79 1466.61 Q1023.79 1475.33 1020.71 1479.94 Q1017.66 1484.52 1011.85 1484.52 Q1006.04 1484.52 1002.96 1479.94 Q999.905 1475.33 999.905 1466.61 Q999.905 1457.86 1002.96 1453.27 Q1006.04 1448.67 1011.85 1448.67 Z\" fill=\"#000000\" fill-rule=\"evenodd\" fill-opacity=\"1\" /><path clip-path=\"url(#clip460)\" d=\"M1317.62 1449.29 L1339.84 1449.29 L1339.84 1451.28 L1327.29 1483.85 L1322.41 1483.85 L1334.21 1453.23 L1317.62 1453.23 L1317.62 1449.29 Z\" fill=\"#000000\" fill-rule=\"evenodd\" fill-opacity=\"1\" /><path clip-path=\"url(#clip460)\" d=\"M1348.96 1477.97 L1353.84 1477.97 L1353.84 1483.85 L1348.96 1483.85 L1348.96 1477.97 Z\" fill=\"#000000\" fill-rule=\"evenodd\" fill-opacity=\"1\" /><path clip-path=\"url(#clip460)\" d=\"M1364.08 1449.29 L1382.43 1449.29 L1382.43 1453.23 L1368.36 1453.23 L1368.36 1461.7 Q1369.38 1461.35 1370.4 1461.19 Q1371.41 1461 1372.43 1461 Q1378.22 1461 1381.6 1464.18 Q1384.98 1467.35 1384.98 1472.76 Q1384.98 1478.34 1381.51 1481.44 Q1378.03 1484.52 1371.71 1484.52 Q1369.54 1484.52 1367.27 1484.15 Q1365.02 1483.78 1362.62 1483.04 L1362.62 1478.34 Q1364.7 1479.48 1366.92 1480.03 Q1369.15 1480.59 1371.62 1480.59 Q1375.63 1480.59 1377.96 1478.48 Q1380.3 1476.38 1380.3 1472.76 Q1380.3 1469.15 1377.96 1467.05 Q1375.63 1464.94 1371.62 1464.94 Q1369.75 1464.94 1367.87 1465.36 Q1366.02 1465.77 1364.08 1466.65 L1364.08 1449.29 Z\" fill=\"#000000\" fill-rule=\"evenodd\" fill-opacity=\"1\" /><path clip-path=\"url(#clip460)\" d=\"M1665.17 1479.92 L1672.81 1479.92 L1672.81 1453.55 L1664.5 1455.22 L1664.5 1450.96 L1672.76 1449.29 L1677.44 1449.29 L1677.44 1479.92 L1685.08 1479.92 L1685.08 1483.85 L1665.17 1483.85 L1665.17 1479.92 Z\" fill=\"#000000\" fill-rule=\"evenodd\" fill-opacity=\"1\" /><path clip-path=\"url(#clip460)\" d=\"M1704.52 1452.37 Q1700.91 1452.37 1699.08 1455.94 Q1697.27 1459.48 1697.27 1466.61 Q1697.27 1473.71 1699.08 1477.28 Q1700.91 1480.82 1704.52 1480.82 Q1708.15 1480.82 1709.96 1477.28 Q1711.79 1473.71 1711.79 1466.61 Q1711.79 1459.48 1709.96 1455.94 Q1708.15 1452.37 1704.52 1452.37 M1704.52 1448.67 Q1710.33 1448.67 1713.39 1453.27 Q1716.46 1457.86 1716.46 1466.61 Q1716.46 1475.33 1713.39 1479.94 Q1710.33 1484.52 1704.52 1484.52 Q1698.71 1484.52 1695.63 1479.94 Q1692.58 1475.33 1692.58 1466.61 Q1692.58 1457.86 1695.63 1453.27 Q1698.71 1448.67 1704.52 1448.67 Z\" fill=\"#000000\" fill-rule=\"evenodd\" fill-opacity=\"1\" /><path clip-path=\"url(#clip460)\" d=\"M1724.68 1477.97 L1729.57 1477.97 L1729.57 1483.85 L1724.68 1483.85 L1724.68 1477.97 Z\" fill=\"#000000\" fill-rule=\"evenodd\" fill-opacity=\"1\" /><path clip-path=\"url(#clip460)\" d=\"M1749.75 1452.37 Q1746.14 1452.37 1744.31 1455.94 Q1742.51 1459.48 1742.51 1466.61 Q1742.51 1473.71 1744.31 1477.28 Q1746.14 1480.82 1749.75 1480.82 Q1753.39 1480.82 1755.19 1477.28 Q1757.02 1473.71 1757.02 1466.61 Q1757.02 1459.48 1755.19 1455.94 Q1753.39 1452.37 1749.75 1452.37 M1749.75 1448.67 Q1755.56 1448.67 1758.62 1453.27 Q1761.7 1457.86 1761.7 1466.61 Q1761.7 1475.33 1758.62 1479.94 Q1755.56 1484.52 1749.75 1484.52 Q1743.94 1484.52 1740.86 1479.94 Q1737.81 1475.33 1737.81 1466.61 Q1737.81 1457.86 1740.86 1453.27 Q1743.94 1448.67 1749.75 1448.67 Z\" fill=\"#000000\" fill-rule=\"evenodd\" fill-opacity=\"1\" /><path clip-path=\"url(#clip460)\" d=\"M2027.46 1479.92 L2035.1 1479.92 L2035.1 1453.55 L2026.79 1455.22 L2026.79 1450.96 L2035.06 1449.29 L2039.73 1449.29 L2039.73 1479.92 L2047.37 1479.92 L2047.37 1483.85 L2027.46 1483.85 L2027.46 1479.92 Z\" fill=\"#000000\" fill-rule=\"evenodd\" fill-opacity=\"1\" /><path clip-path=\"url(#clip460)\" d=\"M2060.84 1479.92 L2077.16 1479.92 L2077.16 1483.85 L2055.22 1483.85 L2055.22 1479.92 Q2057.88 1477.16 2062.46 1472.53 Q2067.07 1467.88 2068.25 1466.54 Q2070.5 1464.01 2071.38 1462.28 Q2072.28 1460.52 2072.28 1458.83 Q2072.28 1456.07 2070.33 1454.34 Q2068.41 1452.6 2065.31 1452.6 Q2063.11 1452.6 2060.66 1453.37 Q2058.23 1454.13 2055.45 1455.68 L2055.45 1450.96 Q2058.27 1449.82 2060.73 1449.25 Q2063.18 1448.67 2065.22 1448.67 Q2070.59 1448.67 2073.78 1451.35 Q2076.98 1454.04 2076.98 1458.53 Q2076.98 1460.66 2076.17 1462.58 Q2075.38 1464.48 2073.27 1467.07 Q2072.7 1467.74 2069.59 1470.96 Q2066.49 1474.15 2060.84 1479.92 Z\" fill=\"#000000\" fill-rule=\"evenodd\" fill-opacity=\"1\" /><path clip-path=\"url(#clip460)\" d=\"M2086.98 1477.97 L2091.86 1477.97 L2091.86 1483.85 L2086.98 1483.85 L2086.98 1477.97 Z\" fill=\"#000000\" fill-rule=\"evenodd\" fill-opacity=\"1\" /><path clip-path=\"url(#clip460)\" d=\"M2102.09 1449.29 L2120.45 1449.29 L2120.45 1453.23 L2106.38 1453.23 L2106.38 1461.7 Q2107.39 1461.35 2108.41 1461.19 Q2109.43 1461 2110.45 1461 Q2116.24 1461 2119.62 1464.18 Q2123 1467.35 2123 1472.76 Q2123 1478.34 2119.52 1481.44 Q2116.05 1484.52 2109.73 1484.52 Q2107.56 1484.52 2105.29 1484.15 Q2103.04 1483.78 2100.64 1483.04 L2100.64 1478.34 Q2102.72 1479.48 2104.94 1480.03 Q2107.16 1480.59 2109.64 1480.59 Q2113.64 1480.59 2115.98 1478.48 Q2118.32 1476.38 2118.32 1472.76 Q2118.32 1469.15 2115.98 1467.05 Q2113.64 1464.94 2109.64 1464.94 Q2107.76 1464.94 2105.89 1465.36 Q2104.04 1465.77 2102.09 1466.65 L2102.09 1449.29 Z\" fill=\"#000000\" fill-rule=\"evenodd\" fill-opacity=\"1\" /><path clip-path=\"url(#clip460)\" d=\"M1278 1522.27 L1278 1532.4 L1290.06 1532.4 L1290.06 1536.95 L1278 1536.95 L1278 1556.3 Q1278 1560.66 1279.18 1561.9 Q1280.39 1563.14 1284.05 1563.14 L1290.06 1563.14 L1290.06 1568.04 L1284.05 1568.04 Q1277.27 1568.04 1274.69 1565.53 Q1272.11 1562.98 1272.11 1556.3 L1272.11 1536.95 L1267.81 1536.95 L1267.81 1532.4 L1272.11 1532.4 L1272.11 1522.27 L1278 1522.27 Z\" fill=\"#000000\" fill-rule=\"evenodd\" fill-opacity=\"1\" /><polyline clip-path=\"url(#clip462)\" style=\"stroke:#000000; stroke-linecap:butt; stroke-linejoin:round; stroke-width:2; stroke-opacity:0.1; fill:none\" points=\"\n  205.121,1280.7 2352.76,1280.7 \n  \"/>\n<polyline clip-path=\"url(#clip462)\" style=\"stroke:#000000; stroke-linecap:butt; stroke-linejoin:round; stroke-width:2; stroke-opacity:0.1; fill:none\" points=\"\n  205.121,995.678 2352.76,995.678 \n  \"/>\n<polyline clip-path=\"url(#clip462)\" style=\"stroke:#000000; stroke-linecap:butt; stroke-linejoin:round; stroke-width:2; stroke-opacity:0.1; fill:none\" points=\"\n  205.121,710.66 2352.76,710.66 \n  \"/>\n<polyline clip-path=\"url(#clip462)\" style=\"stroke:#000000; stroke-linecap:butt; stroke-linejoin:round; stroke-width:2; stroke-opacity:0.1; fill:none\" points=\"\n  205.121,425.642 2352.76,425.642 \n  \"/>\n<polyline clip-path=\"url(#clip462)\" style=\"stroke:#000000; stroke-linecap:butt; stroke-linejoin:round; stroke-width:2; stroke-opacity:0.1; fill:none\" points=\"\n  205.121,140.624 2352.76,140.624 \n  \"/>\n<polyline clip-path=\"url(#clip460)\" style=\"stroke:#000000; stroke-linecap:butt; stroke-linejoin:round; stroke-width:4; stroke-opacity:1; fill:none\" points=\"\n  205.121,1423.18 205.121,123.472 \n  \"/>\n<polyline clip-path=\"url(#clip460)\" style=\"stroke:#000000; stroke-linecap:butt; stroke-linejoin:round; stroke-width:4; stroke-opacity:1; fill:none\" points=\"\n  205.121,1280.7 224.019,1280.7 \n  \"/>\n<polyline clip-path=\"url(#clip460)\" style=\"stroke:#000000; stroke-linecap:butt; stroke-linejoin:round; stroke-width:4; stroke-opacity:1; fill:none\" points=\"\n  205.121,995.678 224.019,995.678 \n  \"/>\n<polyline clip-path=\"url(#clip460)\" style=\"stroke:#000000; stroke-linecap:butt; stroke-linejoin:round; stroke-width:4; stroke-opacity:1; fill:none\" points=\"\n  205.121,710.66 224.019,710.66 \n  \"/>\n<polyline clip-path=\"url(#clip460)\" style=\"stroke:#000000; stroke-linecap:butt; stroke-linejoin:round; stroke-width:4; stroke-opacity:1; fill:none\" points=\"\n  205.121,425.642 224.019,425.642 \n  \"/>\n<polyline clip-path=\"url(#clip460)\" style=\"stroke:#000000; stroke-linecap:butt; stroke-linejoin:round; stroke-width:4; stroke-opacity:1; fill:none\" points=\"\n  205.121,140.624 224.019,140.624 \n  \"/>\n<path clip-path=\"url(#clip460)\" d=\"M117.825 1294.04 L125.464 1294.04 L125.464 1267.68 L117.154 1269.34 L117.154 1265.08 L125.418 1263.42 L130.093 1263.42 L130.093 1294.04 L137.732 1294.04 L137.732 1297.98 L117.825 1297.98 L117.825 1294.04 Z\" fill=\"#000000\" fill-rule=\"evenodd\" fill-opacity=\"1\" /><path clip-path=\"url(#clip460)\" d=\"M157.177 1266.49 Q153.566 1266.49 151.737 1270.06 Q149.931 1273.6 149.931 1280.73 Q149.931 1287.84 151.737 1291.4 Q153.566 1294.94 157.177 1294.94 Q160.811 1294.94 162.616 1291.4 Q164.445 1287.84 164.445 1280.73 Q164.445 1273.6 162.616 1270.06 Q160.811 1266.49 157.177 1266.49 M157.177 1262.79 Q162.987 1262.79 166.042 1267.4 Q169.121 1271.98 169.121 1280.73 Q169.121 1289.46 166.042 1294.06 Q162.987 1298.65 157.177 1298.65 Q151.366 1298.65 148.288 1294.06 Q145.232 1289.46 145.232 1280.73 Q145.232 1271.98 148.288 1267.4 Q151.366 1262.79 157.177 1262.79 Z\" fill=\"#000000\" fill-rule=\"evenodd\" fill-opacity=\"1\" /><path clip-path=\"url(#clip460)\" d=\"M121.043 1009.02 L137.362 1009.02 L137.362 1012.96 L115.418 1012.96 L115.418 1009.02 Q118.08 1006.27 122.663 1001.64 Q127.269 996.986 128.45 995.643 Q130.695 993.12 131.575 991.384 Q132.478 989.625 132.478 987.935 Q132.478 985.18 130.533 983.444 Q128.612 981.708 125.51 981.708 Q123.311 981.708 120.857 982.472 Q118.427 983.236 115.649 984.787 L115.649 980.065 Q118.473 978.93 120.927 978.352 Q123.38 977.773 125.418 977.773 Q130.788 977.773 133.982 980.458 Q137.177 983.143 137.177 987.634 Q137.177 989.764 136.367 991.685 Q135.579 993.583 133.473 996.176 Q132.894 996.847 129.792 1000.06 Q126.691 1003.26 121.043 1009.02 Z\" fill=\"#000000\" fill-rule=\"evenodd\" fill-opacity=\"1\" /><path clip-path=\"url(#clip460)\" d=\"M157.177 981.477 Q153.566 981.477 151.737 985.041 Q149.931 988.583 149.931 995.713 Q149.931 1002.82 151.737 1006.38 Q153.566 1009.93 157.177 1009.93 Q160.811 1009.93 162.616 1006.38 Q164.445 1002.82 164.445 995.713 Q164.445 988.583 162.616 985.041 Q160.811 981.477 157.177 981.477 M157.177 977.773 Q162.987 977.773 166.042 982.379 Q169.121 986.963 169.121 995.713 Q169.121 1004.44 166.042 1009.05 Q162.987 1013.63 157.177 1013.63 Q151.366 1013.63 148.288 1009.05 Q145.232 1004.44 145.232 995.713 Q145.232 986.963 148.288 982.379 Q151.366 977.773 157.177 977.773 Z\" fill=\"#000000\" fill-rule=\"evenodd\" fill-opacity=\"1\" /><path clip-path=\"url(#clip460)\" d=\"M131.181 709.306 Q134.538 710.023 136.413 712.292 Q138.311 714.56 138.311 717.894 Q138.311 723.009 134.792 725.81 Q131.274 728.611 124.793 728.611 Q122.617 728.611 120.302 728.171 Q118.01 727.755 115.556 726.898 L115.556 722.384 Q117.501 723.519 119.816 724.097 Q122.13 724.676 124.654 724.676 Q129.052 724.676 131.343 722.94 Q133.658 721.204 133.658 717.894 Q133.658 714.838 131.505 713.125 Q129.376 711.389 125.556 711.389 L121.529 711.389 L121.529 707.547 L125.742 707.547 Q129.191 707.547 131.019 706.181 Q132.848 704.792 132.848 702.199 Q132.848 699.537 130.95 698.125 Q129.075 696.69 125.556 696.69 Q123.635 696.69 121.436 697.107 Q119.237 697.524 116.598 698.403 L116.598 694.236 Q119.26 693.496 121.575 693.125 Q123.913 692.755 125.973 692.755 Q131.297 692.755 134.399 695.186 Q137.501 697.593 137.501 701.713 Q137.501 704.584 135.857 706.574 Q134.214 708.542 131.181 709.306 Z\" fill=\"#000000\" fill-rule=\"evenodd\" fill-opacity=\"1\" /><path clip-path=\"url(#clip460)\" d=\"M157.177 696.459 Q153.566 696.459 151.737 700.023 Q149.931 703.565 149.931 710.695 Q149.931 717.801 151.737 721.366 Q153.566 724.908 157.177 724.908 Q160.811 724.908 162.616 721.366 Q164.445 717.801 164.445 710.695 Q164.445 703.565 162.616 700.023 Q160.811 696.459 157.177 696.459 M157.177 692.755 Q162.987 692.755 166.042 697.361 Q169.121 701.945 169.121 710.695 Q169.121 719.422 166.042 724.028 Q162.987 728.611 157.177 728.611 Q151.366 728.611 148.288 724.028 Q145.232 719.422 145.232 710.695 Q145.232 701.945 148.288 697.361 Q151.366 692.755 157.177 692.755 Z\" fill=\"#000000\" fill-rule=\"evenodd\" fill-opacity=\"1\" /><path clip-path=\"url(#clip460)\" d=\"M129.862 412.436 L118.056 430.885 L129.862 430.885 L129.862 412.436 M128.635 408.362 L134.515 408.362 L134.515 430.885 L139.445 430.885 L139.445 434.774 L134.515 434.774 L134.515 442.922 L129.862 442.922 L129.862 434.774 L114.26 434.774 L114.26 430.26 L128.635 408.362 Z\" fill=\"#000000\" fill-rule=\"evenodd\" fill-opacity=\"1\" /><path clip-path=\"url(#clip460)\" d=\"M157.177 411.441 Q153.566 411.441 151.737 415.006 Q149.931 418.547 149.931 425.677 Q149.931 432.783 151.737 436.348 Q153.566 439.89 157.177 439.89 Q160.811 439.89 162.616 436.348 Q164.445 432.783 164.445 425.677 Q164.445 418.547 162.616 415.006 Q160.811 411.441 157.177 411.441 M157.177 407.737 Q162.987 407.737 166.042 412.343 Q169.121 416.927 169.121 425.677 Q169.121 434.404 166.042 439.01 Q162.987 443.593 157.177 443.593 Q151.366 443.593 148.288 439.01 Q145.232 434.404 145.232 425.677 Q145.232 416.927 148.288 412.343 Q151.366 407.737 157.177 407.737 Z\" fill=\"#000000\" fill-rule=\"evenodd\" fill-opacity=\"1\" /><path clip-path=\"url(#clip460)\" d=\"M117.061 123.344 L135.417 123.344 L135.417 127.279 L121.343 127.279 L121.343 135.751 Q122.362 135.404 123.38 135.242 Q124.399 135.057 125.418 135.057 Q131.205 135.057 134.584 138.228 Q137.964 141.399 137.964 146.816 Q137.964 152.395 134.492 155.497 Q131.019 158.575 124.7 158.575 Q122.524 158.575 120.255 158.205 Q118.01 157.835 115.603 157.094 L115.603 152.395 Q117.686 153.529 119.908 154.085 Q122.13 154.64 124.607 154.64 Q128.612 154.64 130.95 152.534 Q133.288 150.427 133.288 146.816 Q133.288 143.205 130.95 141.099 Q128.612 138.992 124.607 138.992 Q122.732 138.992 120.857 139.409 Q119.006 139.825 117.061 140.705 L117.061 123.344 Z\" fill=\"#000000\" fill-rule=\"evenodd\" fill-opacity=\"1\" /><path clip-path=\"url(#clip460)\" d=\"M157.177 126.423 Q153.566 126.423 151.737 129.988 Q149.931 133.529 149.931 140.659 Q149.931 147.765 151.737 151.33 Q153.566 154.872 157.177 154.872 Q160.811 154.872 162.616 151.33 Q164.445 147.765 164.445 140.659 Q164.445 133.529 162.616 129.988 Q160.811 126.423 157.177 126.423 M157.177 122.719 Q162.987 122.719 166.042 127.325 Q169.121 131.909 169.121 140.659 Q169.121 149.386 166.042 153.992 Q162.987 158.575 157.177 158.575 Q151.366 158.575 148.288 153.992 Q145.232 149.386 145.232 140.659 Q145.232 131.909 148.288 127.325 Q151.366 122.719 157.177 122.719 Z\" fill=\"#000000\" fill-rule=\"evenodd\" fill-opacity=\"1\" /><path clip-path=\"url(#clip460)\" d=\"M43.5702 815.228 L14.5426 806.253 L14.5426 800.842 L43.5702 809.817 L72.5979 800.842 L72.5979 806.253 L43.5702 815.228 Z\" fill=\"#000000\" fill-rule=\"evenodd\" fill-opacity=\"1\" /><path clip-path=\"url(#clip460)\" d=\"M22.818 773.342 L46.4666 782.063 L46.4666 764.589 L22.818 773.342 M16.4842 776.97 L16.4842 769.682 L64.0042 751.571 L64.0042 758.255 L51.8138 762.584 L51.8138 784.004 L64.0042 788.333 L64.0042 795.113 L16.4842 776.97 Z\" fill=\"#000000\" fill-rule=\"evenodd\" fill-opacity=\"1\" /><path clip-path=\"url(#clip460)\" d=\"M43.5702 731.424 L72.5979 740.399 L72.5979 745.81 L43.5702 736.835 L14.5426 745.81 L14.5426 740.399 L43.5702 731.424 Z\" fill=\"#000000\" fill-rule=\"evenodd\" fill-opacity=\"1\" /><path clip-path=\"url(#clip460)\" d=\"M461.081 63.9476 L461.081 47.7034 L447.713 47.7034 L447.713 40.9789 L469.183 40.9789 L469.183 66.9452 Q464.443 70.3075 458.732 72.0494 Q453.02 73.7508 446.538 73.7508 Q432.36 73.7508 424.339 65.4869 Q416.359 57.1826 416.359 42.3968 Q416.359 27.5705 424.339 19.3066 Q432.36 11.0023 446.538 11.0023 Q452.453 11.0023 457.759 12.4606 Q463.107 13.9189 467.603 16.7545 L467.603 25.464 Q463.066 21.6156 457.962 19.6712 Q452.858 17.7268 447.227 17.7268 Q436.128 17.7268 430.537 23.9246 Q424.988 30.1225 424.988 42.3968 Q424.988 54.6305 430.537 60.8284 Q436.128 67.0263 447.227 67.0263 Q451.562 67.0263 454.964 66.2971 Q458.367 65.5274 461.081 63.9476 Z\" fill=\"#000000\" fill-rule=\"evenodd\" fill-opacity=\"1\" /><path clip-path=\"url(#clip460)\" d=\"M510.097 34.1734 Q508.841 33.4443 507.342 33.1202 Q505.884 32.7556 504.102 32.7556 Q497.782 32.7556 494.38 36.8875 Q491.017 40.9789 491.017 48.6757 L491.017 72.576 L483.523 72.576 L483.523 27.2059 L491.017 27.2059 L491.017 34.2544 Q493.367 30.1225 497.134 28.1376 Q500.902 26.1121 506.289 26.1121 Q507.059 26.1121 507.991 26.2337 Q508.922 26.3147 510.057 26.5172 L510.097 34.1734 Z\" fill=\"#000000\" fill-rule=\"evenodd\" fill-opacity=\"1\" /><path clip-path=\"url(#clip460)\" d=\"M533.673 32.4315 Q527.678 32.4315 524.194 37.1306 Q520.71 41.7891 520.71 49.9314 Q520.71 58.0738 524.154 62.7728 Q527.637 67.4314 533.673 67.4314 Q539.628 67.4314 543.112 62.7323 Q546.596 58.0333 546.596 49.9314 Q546.596 41.8701 543.112 37.1711 Q539.628 32.4315 533.673 32.4315 M533.673 26.1121 Q543.396 26.1121 548.945 32.4315 Q554.495 38.7509 554.495 49.9314 Q554.495 61.0714 548.945 67.4314 Q543.396 73.7508 533.673 73.7508 Q523.911 73.7508 518.361 67.4314 Q512.852 61.0714 512.852 49.9314 Q512.852 38.7509 518.361 32.4315 Q523.911 26.1121 533.673 26.1121 Z\" fill=\"#000000\" fill-rule=\"evenodd\" fill-opacity=\"1\" /><path clip-path=\"url(#clip460)\" d=\"M562.516 27.2059 L569.969 27.2059 L579.287 62.6108 L588.563 27.2059 L597.354 27.2059 L606.671 62.6108 L615.947 27.2059 L623.401 27.2059 L611.532 72.576 L602.741 72.576 L592.979 35.3887 L583.175 72.576 L574.385 72.576 L562.516 27.2059 Z\" fill=\"#000000\" fill-rule=\"evenodd\" fill-opacity=\"1\" /><path clip-path=\"url(#clip460)\" d=\"M642.076 14.324 L642.076 27.2059 L657.428 27.2059 L657.428 32.9987 L642.076 32.9987 L642.076 57.6282 Q642.076 63.1779 643.574 64.7578 Q645.114 66.3376 649.772 66.3376 L657.428 66.3376 L657.428 72.576 L649.772 72.576 Q641.144 72.576 637.863 69.3758 Q634.581 66.1351 634.581 57.6282 L634.581 32.9987 L629.113 32.9987 L629.113 27.2059 L634.581 27.2059 L634.581 14.324 L642.076 14.324 Z\" fill=\"#000000\" fill-rule=\"evenodd\" fill-opacity=\"1\" /><path clip-path=\"url(#clip460)\" d=\"M704.946 45.1919 L704.946 72.576 L697.492 72.576 L697.492 45.4349 Q697.492 38.994 694.98 35.7938 Q692.469 32.5936 687.446 32.5936 Q681.41 32.5936 677.926 36.4419 Q674.442 40.2903 674.442 46.9338 L674.442 72.576 L666.948 72.576 L666.948 9.54393 L674.442 9.54393 L674.442 34.2544 Q677.116 30.163 680.721 28.1376 Q684.367 26.1121 689.107 26.1121 Q696.925 26.1121 700.935 30.9732 Q704.946 35.7938 704.946 45.1919 Z\" fill=\"#000000\" fill-rule=\"evenodd\" fill-opacity=\"1\" /><path clip-path=\"url(#clip460)\" d=\"M763.765 32.4315 Q757.769 32.4315 754.286 37.1306 Q750.802 41.7891 750.802 49.9314 Q750.802 58.0738 754.245 62.7728 Q757.729 67.4314 763.765 67.4314 Q769.72 67.4314 773.203 62.7323 Q776.687 58.0333 776.687 49.9314 Q776.687 41.8701 773.203 37.1711 Q769.72 32.4315 763.765 32.4315 M763.765 26.1121 Q773.487 26.1121 779.037 32.4315 Q784.586 38.7509 784.586 49.9314 Q784.586 61.0714 779.037 67.4314 Q773.487 73.7508 763.765 73.7508 Q754.002 73.7508 748.452 67.4314 Q742.943 61.0714 742.943 49.9314 Q742.943 38.7509 748.452 32.4315 Q754.002 26.1121 763.765 26.1121 Z\" fill=\"#000000\" fill-rule=\"evenodd\" fill-opacity=\"1\" /><path clip-path=\"url(#clip460)\" d=\"M819.91 9.54393 L819.91 15.7418 L812.781 15.7418 Q808.77 15.7418 807.19 17.3622 Q805.651 18.9825 805.651 23.1955 L805.651 27.2059 L817.925 27.2059 L817.925 32.9987 L805.651 32.9987 L805.651 72.576 L798.157 72.576 L798.157 32.9987 L791.027 32.9987 L791.027 27.2059 L798.157 27.2059 L798.157 24.0462 Q798.157 16.471 801.681 13.0277 Q805.205 9.54393 812.862 9.54393 L819.91 9.54393 Z\" fill=\"#000000\" fill-rule=\"evenodd\" fill-opacity=\"1\" /><path clip-path=\"url(#clip460)\" d=\"M873.139 49.7694 Q864.106 49.7694 860.622 51.8354 Q857.138 53.9013 857.138 58.8839 Q857.138 62.8538 859.731 65.2034 Q862.364 67.5124 866.86 67.5124 Q873.058 67.5124 876.785 63.1374 Q880.552 58.7219 880.552 51.4303 L880.552 49.7694 L873.139 49.7694 M888.006 46.6907 L888.006 72.576 L880.552 72.576 L880.552 65.6895 Q878 69.8214 874.192 71.8063 Q870.384 73.7508 864.875 73.7508 Q857.908 73.7508 853.776 69.8619 Q849.684 65.9325 849.684 59.3701 Q849.684 51.7138 854.789 47.825 Q859.933 43.9361 870.101 43.9361 L880.552 43.9361 L880.552 43.2069 Q880.552 38.0623 877.15 35.2672 Q873.787 32.4315 867.67 32.4315 Q863.782 32.4315 860.095 33.3632 Q856.409 34.295 853.006 36.1584 L853.006 29.2718 Q857.098 27.692 860.946 26.9223 Q864.794 26.1121 868.44 26.1121 Q878.284 26.1121 883.145 31.2163 Q888.006 36.3204 888.006 46.6907 Z\" fill=\"#000000\" fill-rule=\"evenodd\" fill-opacity=\"1\" /><path clip-path=\"url(#clip460)\" d=\"M898.012 27.2059 L905.911 27.2059 L920.089 65.2844 L934.267 27.2059 L942.167 27.2059 L925.153 72.576 L915.025 72.576 L898.012 27.2059 Z\" fill=\"#000000\" fill-rule=\"evenodd\" fill-opacity=\"1\" /><path clip-path=\"url(#clip460)\" d=\"M991.263 48.0275 L991.263 51.6733 L956.993 51.6733 Q957.479 59.3701 961.611 63.421 Q965.783 67.4314 973.196 67.4314 Q977.49 67.4314 981.501 66.3781 Q985.552 65.3249 989.522 63.2184 L989.522 70.267 Q985.511 71.9684 981.298 72.8596 Q977.085 73.7508 972.751 73.7508 Q961.894 73.7508 955.535 67.4314 Q949.215 61.1119 949.215 50.3365 Q949.215 39.1965 955.21 32.6746 Q961.246 26.1121 971.455 26.1121 Q980.61 26.1121 985.916 32.0264 Q991.263 37.9003 991.263 48.0275 M983.81 45.84 Q983.729 39.7232 980.367 36.0774 Q977.045 32.4315 971.536 32.4315 Q965.297 32.4315 961.53 35.9558 Q957.803 39.4801 957.236 45.8805 L983.81 45.84 Z\" fill=\"#000000\" fill-rule=\"evenodd\" fill-opacity=\"1\" /><path clip-path=\"url(#clip460)\" d=\"M1029.79 34.1734 Q1028.53 33.4443 1027.03 33.1202 Q1025.57 32.7556 1023.79 32.7556 Q1017.47 32.7556 1014.07 36.8875 Q1010.71 40.9789 1010.71 48.6757 L1010.71 72.576 L1003.21 72.576 L1003.21 27.2059 L1010.71 27.2059 L1010.71 34.2544 Q1013.06 30.1225 1016.82 28.1376 Q1020.59 26.1121 1025.98 26.1121 Q1026.75 26.1121 1027.68 26.2337 Q1028.61 26.3147 1029.75 26.5172 L1029.79 34.1734 Z\" fill=\"#000000\" fill-rule=\"evenodd\" fill-opacity=\"1\" /><path clip-path=\"url(#clip460)\" d=\"M1058.22 49.7694 Q1049.19 49.7694 1045.71 51.8354 Q1042.22 53.9013 1042.22 58.8839 Q1042.22 62.8538 1044.82 65.2034 Q1047.45 67.5124 1051.95 67.5124 Q1058.14 67.5124 1061.87 63.1374 Q1065.64 58.7219 1065.64 51.4303 L1065.64 49.7694 L1058.22 49.7694 M1073.09 46.6907 L1073.09 72.576 L1065.64 72.576 L1065.64 65.6895 Q1063.09 69.8214 1059.28 71.8063 Q1055.47 73.7508 1049.96 73.7508 Q1042.99 73.7508 1038.86 69.8619 Q1034.77 65.9325 1034.77 59.3701 Q1034.77 51.7138 1039.87 47.825 Q1045.02 43.9361 1055.19 43.9361 L1065.64 43.9361 L1065.64 43.2069 Q1065.64 38.0623 1062.24 35.2672 Q1058.87 32.4315 1052.76 32.4315 Q1048.87 32.4315 1045.18 33.3632 Q1041.49 34.295 1038.09 36.1584 L1038.09 29.2718 Q1042.18 27.692 1046.03 26.9223 Q1049.88 26.1121 1053.53 26.1121 Q1063.37 26.1121 1068.23 31.2163 Q1073.09 36.3204 1073.09 46.6907 Z\" fill=\"#000000\" fill-rule=\"evenodd\" fill-opacity=\"1\" /><path clip-path=\"url(#clip460)\" d=\"M1118.3 49.3643 Q1118.3 41.2625 1114.94 36.8065 Q1111.62 32.3505 1105.58 32.3505 Q1099.58 32.3505 1096.22 36.8065 Q1092.9 41.2625 1092.9 49.3643 Q1092.9 57.4256 1096.22 61.8816 Q1099.58 66.3376 1105.58 66.3376 Q1111.62 66.3376 1114.94 61.8816 Q1118.3 57.4256 1118.3 49.3643 M1125.75 66.9452 Q1125.75 78.5308 1120.61 84.1616 Q1115.46 89.8329 1104.85 89.8329 Q1100.92 89.8329 1097.44 89.2252 Q1093.95 88.6581 1090.67 87.4428 L1090.67 80.1917 Q1093.95 81.9741 1097.15 82.8248 Q1100.35 83.6755 1103.68 83.6755 Q1111.01 83.6755 1114.65 79.8271 Q1118.3 76.0193 1118.3 68.282 L1118.3 64.5957 Q1115.99 68.6061 1112.39 70.5911 Q1108.78 72.576 1103.76 72.576 Q1095.41 72.576 1090.31 66.2161 Q1085.2 59.8562 1085.2 49.3643 Q1085.2 38.832 1090.31 32.472 Q1095.41 26.1121 1103.76 26.1121 Q1108.78 26.1121 1112.39 28.0971 Q1115.99 30.082 1118.3 34.0924 L1118.3 27.2059 L1125.75 27.2059 L1125.75 66.9452 Z\" fill=\"#000000\" fill-rule=\"evenodd\" fill-opacity=\"1\" /><path clip-path=\"url(#clip460)\" d=\"M1179.91 48.0275 L1179.91 51.6733 L1145.64 51.6733 Q1146.13 59.3701 1150.26 63.421 Q1154.43 67.4314 1161.85 67.4314 Q1166.14 67.4314 1170.15 66.3781 Q1174.2 65.3249 1178.17 63.2184 L1178.17 70.267 Q1174.16 71.9684 1169.95 72.8596 Q1165.74 73.7508 1161.4 73.7508 Q1150.55 73.7508 1144.19 67.4314 Q1137.87 61.1119 1137.87 50.3365 Q1137.87 39.1965 1143.86 32.6746 Q1149.9 26.1121 1160.11 26.1121 Q1169.26 26.1121 1174.57 32.0264 Q1179.91 37.9003 1179.91 48.0275 M1172.46 45.84 Q1172.38 39.7232 1169.02 36.0774 Q1165.7 32.4315 1160.19 32.4315 Q1153.95 32.4315 1150.18 35.9558 Q1146.45 39.4801 1145.89 45.8805 L1172.46 45.84 Z\" fill=\"#000000\" fill-rule=\"evenodd\" fill-opacity=\"1\" /><path clip-path=\"url(#clip460)\" d=\"M1239.14 49.7694 Q1230.1 49.7694 1226.62 51.8354 Q1223.14 53.9013 1223.14 58.8839 Q1223.14 62.8538 1225.73 65.2034 Q1228.36 67.5124 1232.86 67.5124 Q1239.06 67.5124 1242.78 63.1374 Q1246.55 58.7219 1246.55 51.4303 L1246.55 49.7694 L1239.14 49.7694 M1254.01 46.6907 L1254.01 72.576 L1246.55 72.576 L1246.55 65.6895 Q1244 69.8214 1240.19 71.8063 Q1236.38 73.7508 1230.87 73.7508 Q1223.91 73.7508 1219.77 69.8619 Q1215.68 65.9325 1215.68 59.3701 Q1215.68 51.7138 1220.79 47.825 Q1225.93 43.9361 1236.1 43.9361 L1246.55 43.9361 L1246.55 43.2069 Q1246.55 38.0623 1243.15 35.2672 Q1239.79 32.4315 1233.67 32.4315 Q1229.78 32.4315 1226.09 33.3632 Q1222.41 34.295 1219.01 36.1584 L1219.01 29.2718 Q1223.1 27.692 1226.95 26.9223 Q1230.79 26.1121 1234.44 26.1121 Q1244.28 26.1121 1249.14 31.2163 Q1254.01 36.3204 1254.01 46.6907 Z\" fill=\"#000000\" fill-rule=\"evenodd\" fill-opacity=\"1\" /><path clip-path=\"url(#clip460)\" d=\"M1295.65 34.1734 Q1294.39 33.4443 1292.89 33.1202 Q1291.44 32.7556 1289.65 32.7556 Q1283.33 32.7556 1279.93 36.8875 Q1276.57 40.9789 1276.57 48.6757 L1276.57 72.576 L1269.07 72.576 L1269.07 27.2059 L1276.57 27.2059 L1276.57 34.2544 Q1278.92 30.1225 1282.69 28.1376 Q1286.45 26.1121 1291.84 26.1121 Q1292.61 26.1121 1293.54 26.2337 Q1294.47 26.3147 1295.61 26.5172 L1295.65 34.1734 Z\" fill=\"#000000\" fill-rule=\"evenodd\" fill-opacity=\"1\" /><path clip-path=\"url(#clip460)\" d=\"M1340.45 48.0275 L1340.45 51.6733 L1306.18 51.6733 Q1306.67 59.3701 1310.8 63.421 Q1314.97 67.4314 1322.38 67.4314 Q1326.68 67.4314 1330.69 66.3781 Q1334.74 65.3249 1338.71 63.2184 L1338.71 70.267 Q1334.7 71.9684 1330.49 72.8596 Q1326.27 73.7508 1321.94 73.7508 Q1311.08 73.7508 1304.72 67.4314 Q1298.4 61.1119 1298.4 50.3365 Q1298.4 39.1965 1304.4 32.6746 Q1310.43 26.1121 1320.64 26.1121 Q1329.8 26.1121 1335.1 32.0264 Q1340.45 37.9003 1340.45 48.0275 M1333 45.84 Q1332.92 39.7232 1329.55 36.0774 Q1326.23 32.4315 1320.72 32.4315 Q1314.49 32.4315 1310.72 35.9558 Q1306.99 39.4801 1306.42 45.8805 L1333 45.84 Z\" fill=\"#000000\" fill-rule=\"evenodd\" fill-opacity=\"1\" /><path clip-path=\"url(#clip460)\" d=\"M1373.3 49.7694 Q1364.27 49.7694 1360.79 51.8354 Q1357.3 53.9013 1357.3 58.8839 Q1357.3 62.8538 1359.9 65.2034 Q1362.53 67.5124 1367.03 67.5124 Q1373.22 67.5124 1376.95 63.1374 Q1380.72 58.7219 1380.72 51.4303 L1380.72 49.7694 L1373.3 49.7694 M1388.17 46.6907 L1388.17 72.576 L1380.72 72.576 L1380.72 65.6895 Q1378.17 69.8214 1374.36 71.8063 Q1370.55 73.7508 1365.04 73.7508 Q1358.07 73.7508 1353.94 69.8619 Q1349.85 65.9325 1349.85 59.3701 Q1349.85 51.7138 1354.95 47.825 Q1360.1 43.9361 1370.27 43.9361 L1380.72 43.9361 L1380.72 43.2069 Q1380.72 38.0623 1377.31 35.2672 Q1373.95 32.4315 1367.84 32.4315 Q1363.95 32.4315 1360.26 33.3632 Q1356.57 34.295 1353.17 36.1584 L1353.17 29.2718 Q1357.26 27.692 1361.11 26.9223 Q1364.96 26.1121 1368.61 26.1121 Q1378.45 26.1121 1383.31 31.2163 Q1388.17 36.3204 1388.17 46.6907 Z\" fill=\"#000000\" fill-rule=\"evenodd\" fill-opacity=\"1\" /><path clip-path=\"url(#clip460)\" d=\"M1459.75 34.0924 L1459.75 9.54393 L1467.2 9.54393 L1467.2 72.576 L1459.75 72.576 L1459.75 65.7705 Q1457.4 69.8214 1453.8 71.8063 Q1450.23 73.7508 1445.21 73.7508 Q1436.98 73.7508 1431.8 67.1883 Q1426.65 60.6258 1426.65 49.9314 Q1426.65 39.2371 1431.8 32.6746 Q1436.98 26.1121 1445.21 26.1121 Q1450.23 26.1121 1453.8 28.0971 Q1457.4 30.0415 1459.75 34.0924 M1434.35 49.9314 Q1434.35 58.1548 1437.71 62.8538 Q1441.12 67.5124 1447.03 67.5124 Q1452.95 67.5124 1456.35 62.8538 Q1459.75 58.1548 1459.75 49.9314 Q1459.75 41.7081 1456.35 37.0496 Q1452.95 32.3505 1447.03 32.3505 Q1441.12 32.3505 1437.71 37.0496 Q1434.35 41.7081 1434.35 49.9314 Z\" fill=\"#000000\" fill-rule=\"evenodd\" fill-opacity=\"1\" /><path clip-path=\"url(#clip460)\" d=\"M1481.79 54.671 L1481.79 27.2059 L1489.24 27.2059 L1489.24 54.3874 Q1489.24 60.8284 1491.75 64.0691 Q1494.26 67.2693 1499.29 67.2693 Q1505.32 67.2693 1508.81 63.421 Q1512.33 59.5726 1512.33 52.9291 L1512.33 27.2059 L1519.78 27.2059 L1519.78 72.576 L1512.33 72.576 L1512.33 65.6084 Q1509.62 69.7404 1506.01 71.7658 Q1502.45 73.7508 1497.71 73.7508 Q1489.89 73.7508 1485.84 68.8897 Q1481.79 64.0286 1481.79 54.671 M1500.54 26.1121 L1500.54 26.1121 Z\" fill=\"#000000\" fill-rule=\"evenodd\" fill-opacity=\"1\" /><path clip-path=\"url(#clip460)\" d=\"M1561.43 34.1734 Q1560.17 33.4443 1558.67 33.1202 Q1557.22 32.7556 1555.43 32.7556 Q1549.11 32.7556 1545.71 36.8875 Q1542.35 40.9789 1542.35 48.6757 L1542.35 72.576 L1534.85 72.576 L1534.85 27.2059 L1542.35 27.2059 L1542.35 34.2544 Q1544.7 30.1225 1548.47 28.1376 Q1552.23 26.1121 1557.62 26.1121 Q1558.39 26.1121 1559.32 26.2337 Q1560.25 26.3147 1561.39 26.5172 L1561.43 34.1734 Z\" fill=\"#000000\" fill-rule=\"evenodd\" fill-opacity=\"1\" /><path clip-path=\"url(#clip460)\" d=\"M1569.25 27.2059 L1576.7 27.2059 L1576.7 72.576 L1569.25 72.576 L1569.25 27.2059 M1569.25 9.54393 L1576.7 9.54393 L1576.7 18.9825 L1569.25 18.9825 L1569.25 9.54393 Z\" fill=\"#000000\" fill-rule=\"evenodd\" fill-opacity=\"1\" /><path clip-path=\"url(#clip460)\" d=\"M1630.01 45.1919 L1630.01 72.576 L1622.56 72.576 L1622.56 45.4349 Q1622.56 38.994 1620.04 35.7938 Q1617.53 32.5936 1612.51 32.5936 Q1606.47 32.5936 1602.99 36.4419 Q1599.51 40.2903 1599.51 46.9338 L1599.51 72.576 L1592.01 72.576 L1592.01 27.2059 L1599.51 27.2059 L1599.51 34.2544 Q1602.18 30.163 1605.79 28.1376 Q1609.43 26.1121 1614.17 26.1121 Q1621.99 26.1121 1626 30.9732 Q1630.01 35.7938 1630.01 45.1919 Z\" fill=\"#000000\" fill-rule=\"evenodd\" fill-opacity=\"1\" /><path clip-path=\"url(#clip460)\" d=\"M1674.73 49.3643 Q1674.73 41.2625 1671.37 36.8065 Q1668.05 32.3505 1662.01 32.3505 Q1656.02 32.3505 1652.65 36.8065 Q1649.33 41.2625 1649.33 49.3643 Q1649.33 57.4256 1652.65 61.8816 Q1656.02 66.3376 1662.01 66.3376 Q1668.05 66.3376 1671.37 61.8816 Q1674.73 57.4256 1674.73 49.3643 M1682.19 66.9452 Q1682.19 78.5308 1677.04 84.1616 Q1671.9 89.8329 1661.28 89.8329 Q1657.35 89.8329 1653.87 89.2252 Q1650.39 88.6581 1647.1 87.4428 L1647.1 80.1917 Q1650.39 81.9741 1653.59 82.8248 Q1656.79 83.6755 1660.11 83.6755 Q1667.44 83.6755 1671.09 79.8271 Q1674.73 76.0193 1674.73 68.282 L1674.73 64.5957 Q1672.42 68.6061 1668.82 70.5911 Q1665.21 72.576 1660.19 72.576 Q1651.84 72.576 1646.74 66.2161 Q1641.64 59.8562 1641.64 49.3643 Q1641.64 38.832 1646.74 32.472 Q1651.84 26.1121 1660.19 26.1121 Q1665.21 26.1121 1668.82 28.0971 Q1672.42 30.082 1674.73 34.0924 L1674.73 27.2059 L1682.19 27.2059 L1682.19 66.9452 Z\" fill=\"#000000\" fill-rule=\"evenodd\" fill-opacity=\"1\" /><path clip-path=\"url(#clip460)\" d=\"M1752.83 28.5427 L1752.83 35.5912 Q1749.67 33.9709 1746.27 33.1607 Q1742.87 32.3505 1739.22 32.3505 Q1733.67 32.3505 1730.88 34.0519 Q1728.12 35.7533 1728.12 39.156 Q1728.12 41.7486 1730.11 43.2475 Q1732.09 44.7058 1738.09 46.0426 L1740.64 46.6097 Q1748.58 48.3111 1751.9 51.4303 Q1755.26 54.509 1755.26 60.0587 Q1755.26 66.3781 1750.24 70.0644 Q1745.26 73.7508 1736.51 73.7508 Q1732.86 73.7508 1728.89 73.0216 Q1724.96 72.3329 1720.59 70.9151 L1720.59 63.2184 Q1724.72 65.3654 1728.73 66.4591 Q1732.74 67.5124 1736.67 67.5124 Q1741.94 67.5124 1744.77 65.73 Q1747.61 63.9071 1747.61 60.6258 Q1747.61 57.5877 1745.54 55.9673 Q1743.52 54.3469 1736.59 52.8481 L1734 52.2405 Q1727.07 50.7821 1723.99 47.7845 Q1720.91 44.7463 1720.91 39.4801 Q1720.91 33.0797 1725.45 29.5959 Q1729.99 26.1121 1738.33 26.1121 Q1742.46 26.1121 1746.11 26.7198 Q1749.75 27.3274 1752.83 28.5427 Z\" fill=\"#000000\" fill-rule=\"evenodd\" fill-opacity=\"1\" /><path clip-path=\"url(#clip460)\" d=\"M1767.13 27.2059 L1774.59 27.2059 L1774.59 72.576 L1767.13 72.576 L1767.13 27.2059 M1767.13 9.54393 L1774.59 9.54393 L1774.59 18.9825 L1767.13 18.9825 L1767.13 9.54393 Z\" fill=\"#000000\" fill-rule=\"evenodd\" fill-opacity=\"1\" /><path clip-path=\"url(#clip460)\" d=\"M1825.51 35.9153 Q1828.3 30.8922 1832.19 28.5022 Q1836.08 26.1121 1841.35 26.1121 Q1848.43 26.1121 1852.28 31.0947 Q1856.13 36.0368 1856.13 45.1919 L1856.13 72.576 L1848.64 72.576 L1848.64 45.4349 Q1848.64 38.913 1846.33 35.7533 Q1844.02 32.5936 1839.28 32.5936 Q1833.49 32.5936 1830.12 36.4419 Q1826.76 40.2903 1826.76 46.9338 L1826.76 72.576 L1819.27 72.576 L1819.27 45.4349 Q1819.27 38.8725 1816.96 35.7533 Q1814.65 32.5936 1809.83 32.5936 Q1804.12 32.5936 1800.76 36.4824 Q1797.39 40.3308 1797.39 46.9338 L1797.39 72.576 L1789.9 72.576 L1789.9 27.2059 L1797.39 27.2059 L1797.39 34.2544 Q1799.95 30.082 1803.51 28.0971 Q1807.08 26.1121 1811.98 26.1121 Q1816.92 26.1121 1820.36 28.6237 Q1823.85 31.1352 1825.51 35.9153 Z\" fill=\"#000000\" fill-rule=\"evenodd\" fill-opacity=\"1\" /><path clip-path=\"url(#clip460)\" d=\"M1870.23 54.671 L1870.23 27.2059 L1877.68 27.2059 L1877.68 54.3874 Q1877.68 60.8284 1880.19 64.0691 Q1882.71 67.2693 1887.73 67.2693 Q1893.76 67.2693 1897.25 63.421 Q1900.77 59.5726 1900.77 52.9291 L1900.77 27.2059 L1908.23 27.2059 L1908.23 72.576 L1900.77 72.576 L1900.77 65.6084 Q1898.06 69.7404 1894.45 71.7658 Q1890.89 73.7508 1886.15 73.7508 Q1878.33 73.7508 1874.28 68.8897 Q1870.23 64.0286 1870.23 54.671 M1888.98 26.1121 L1888.98 26.1121 Z\" fill=\"#000000\" fill-rule=\"evenodd\" fill-opacity=\"1\" /><path clip-path=\"url(#clip460)\" d=\"M1923.58 9.54393 L1931.03 9.54393 L1931.03 72.576 L1923.58 72.576 L1923.58 9.54393 Z\" fill=\"#000000\" fill-rule=\"evenodd\" fill-opacity=\"1\" /><path clip-path=\"url(#clip460)\" d=\"M1967.25 49.7694 Q1958.21 49.7694 1954.73 51.8354 Q1951.25 53.9013 1951.25 58.8839 Q1951.25 62.8538 1953.84 65.2034 Q1956.47 67.5124 1960.97 67.5124 Q1967.17 67.5124 1970.89 63.1374 Q1974.66 58.7219 1974.66 51.4303 L1974.66 49.7694 L1967.25 49.7694 M1982.11 46.6907 L1982.11 72.576 L1974.66 72.576 L1974.66 65.6895 Q1972.11 69.8214 1968.3 71.8063 Q1964.49 73.7508 1958.98 73.7508 Q1952.02 73.7508 1947.88 69.8619 Q1943.79 65.9325 1943.79 59.3701 Q1943.79 51.7138 1948.9 47.825 Q1954.04 43.9361 1964.21 43.9361 L1974.66 43.9361 L1974.66 43.2069 Q1974.66 38.0623 1971.26 35.2672 Q1967.9 32.4315 1961.78 32.4315 Q1957.89 32.4315 1954.2 33.3632 Q1950.52 34.295 1947.11 36.1584 L1947.11 29.2718 Q1951.21 27.692 1955.05 26.9223 Q1958.9 26.1121 1962.55 26.1121 Q1972.39 26.1121 1977.25 31.2163 Q1982.11 36.3204 1982.11 46.6907 Z\" fill=\"#000000\" fill-rule=\"evenodd\" fill-opacity=\"1\" /><path clip-path=\"url(#clip460)\" d=\"M2004.84 14.324 L2004.84 27.2059 L2020.19 27.2059 L2020.19 32.9987 L2004.84 32.9987 L2004.84 57.6282 Q2004.84 63.1779 2006.34 64.7578 Q2007.88 66.3376 2012.54 66.3376 L2020.19 66.3376 L2020.19 72.576 L2012.54 72.576 Q2003.91 72.576 2000.63 69.3758 Q1997.35 66.1351 1997.35 57.6282 L1997.35 32.9987 L1991.88 32.9987 L1991.88 27.2059 L1997.35 27.2059 L1997.35 14.324 L2004.84 14.324 Z\" fill=\"#000000\" fill-rule=\"evenodd\" fill-opacity=\"1\" /><path clip-path=\"url(#clip460)\" d=\"M2030 27.2059 L2037.45 27.2059 L2037.45 72.576 L2030 72.576 L2030 27.2059 M2030 9.54393 L2037.45 9.54393 L2037.45 18.9825 L2030 18.9825 L2030 9.54393 Z\" fill=\"#000000\" fill-rule=\"evenodd\" fill-opacity=\"1\" /><path clip-path=\"url(#clip460)\" d=\"M2070.63 32.4315 Q2064.63 32.4315 2061.15 37.1306 Q2057.66 41.7891 2057.66 49.9314 Q2057.66 58.0738 2061.11 62.7728 Q2064.59 67.4314 2070.63 67.4314 Q2076.58 67.4314 2080.07 62.7323 Q2083.55 58.0333 2083.55 49.9314 Q2083.55 41.8701 2080.07 37.1711 Q2076.58 32.4315 2070.63 32.4315 M2070.63 26.1121 Q2080.35 26.1121 2085.9 32.4315 Q2091.45 38.7509 2091.45 49.9314 Q2091.45 61.0714 2085.9 67.4314 Q2080.35 73.7508 2070.63 73.7508 Q2060.86 73.7508 2055.31 67.4314 Q2049.81 61.0714 2049.81 49.9314 Q2049.81 38.7509 2055.31 32.4315 Q2060.86 26.1121 2070.63 26.1121 Z\" fill=\"#000000\" fill-rule=\"evenodd\" fill-opacity=\"1\" /><path clip-path=\"url(#clip460)\" d=\"M2141.52 45.1919 L2141.52 72.576 L2134.06 72.576 L2134.06 45.4349 Q2134.06 38.994 2131.55 35.7938 Q2129.04 32.5936 2124.02 32.5936 Q2117.98 32.5936 2114.5 36.4419 Q2111.01 40.2903 2111.01 46.9338 L2111.01 72.576 L2103.52 72.576 L2103.52 27.2059 L2111.01 27.2059 L2111.01 34.2544 Q2113.69 30.163 2117.29 28.1376 Q2120.94 26.1121 2125.68 26.1121 Q2133.5 26.1121 2137.51 30.9732 Q2141.52 35.7938 2141.52 45.1919 Z\" fill=\"#000000\" fill-rule=\"evenodd\" fill-opacity=\"1\" /><polyline clip-path=\"url(#clip462)\" style=\"stroke:#009af9; stroke-linecap:butt; stroke-linejoin:round; stroke-width:4; stroke-opacity:1; fill:none\" points=\"\n  265.903,1386.4 280.375,1377.44 294.847,1368.49 309.319,1359.53 323.791,1350.58 338.263,1341.63 352.735,1332.67 367.207,1323.72 381.679,1314.76 396.15,1305.81 \n  410.622,1296.86 425.094,1287.9 439.566,1278.95 454.038,1270 468.51,1261.04 482.982,1252.09 497.454,1243.13 511.926,1234.18 526.398,1225.23 540.87,1216.27 \n  555.342,1207.32 569.814,1198.36 584.286,1189.41 598.758,1180.46 613.229,1171.5 627.701,1162.55 642.173,1153.59 656.645,1144.64 671.117,1135.69 685.589,1126.73 \n  700.061,1117.78 714.533,1108.82 729.005,1099.87 743.477,1090.92 757.949,1081.96 772.421,1073.01 786.893,1064.06 801.365,1055.1 815.837,1046.15 830.309,1037.2 \n  844.78,1028.25 859.252,1019.3 873.724,1010.34 888.196,1001.39 902.668,992.443 917.14,983.493 931.612,974.543 946.084,965.595 960.556,956.647 975.028,947.7 \n  989.5,938.754 1003.97,929.809 1018.44,920.865 1032.92,911.923 1047.39,902.981 1061.86,894.042 1076.33,885.104 1090.8,876.167 1105.28,867.233 1119.75,858.3 \n  1134.22,849.37 1148.69,840.442 1163.16,831.516 1177.63,822.593 1192.11,813.673 1206.58,804.756 1221.05,795.841 1235.52,786.931 1249.99,778.023 1264.47,769.119 \n  1278.94,760.22 1293.41,751.324 1307.88,742.432 1322.35,733.545 1336.83,724.663 1351.3,715.786 1365.77,706.913 1380.24,698.046 1394.71,689.185 1409.19,680.329 \n  1423.66,671.48 1438.13,662.636 1452.6,653.799 1467.07,644.969 1481.55,636.146 1496.02,627.33 1510.49,618.521 1524.96,609.72 1539.43,600.927 1553.91,592.142 \n  1568.38,583.365 1582.85,574.597 1597.32,565.837 1611.79,557.087 1626.26,548.346 1640.74,539.615 1655.21,530.893 1669.68,522.182 1684.15,513.481 1698.62,504.79 \n  1713.1,496.11 1727.57,487.441 1742.04,478.784 1756.51,470.137 1770.98,461.503 1785.46,452.88 1799.93,444.27 1814.4,435.672 1828.87,427.087 1843.34,418.514 \n  1857.82,409.955 1872.29,401.409 1886.76,392.876 1901.23,384.357 1915.7,375.852 1930.18,367.361 1944.65,358.885 1959.12,350.423 1973.59,341.976 1988.06,333.544 \n  2002.54,325.127 2017.01,316.725 2031.48,308.339 2045.95,299.969 2060.42,291.614 2074.89,283.276 2089.37,274.954 2103.84,266.649 2118.31,258.36 2132.78,250.088 \n  2147.25,241.833 2161.73,233.596 2176.2,225.375 2190.67,217.173 2205.14,208.988 2219.61,200.82 2234.09,192.671 2248.56,184.54 2263.03,176.427 2277.5,168.332 \n  2291.97,160.256 \n  \"/>\n</svg>\n"
     },
     "metadata": {},
     "execution_count": 111
    }
   ],
   "metadata": {}
  },
  {
   "cell_type": "code",
   "execution_count": 112,
   "source": [
    "Δt_2d = tvec_2d[end] - tvec_2d[1]\n",
    "Δ𝔼A2d = first_mom2d[end] - first_mom2d[1]\n",
    "K2d_blob = Δ𝔼A2d / (4 * π * Δt_2d) "
   ],
   "outputs": [
    {
     "output_type": "execute_result",
     "data": {
      "text/plain": [
       "0.24452860046686728"
      ]
     },
     "metadata": {},
     "execution_count": 112
    }
   ],
   "metadata": {}
  },
  {
   "cell_type": "code",
   "execution_count": 113,
   "source": [
    "savefig(twoddiffplot, \"twoddiffplot.png\")"
   ],
   "outputs": [],
   "metadata": {}
  },
  {
   "cell_type": "markdown",
   "source": [
    "Again we see that the diffusion calculated is a very good estimation to the diffusion set in the problme $\\kappa = 0.25$.\n",
    "\n",
    "## Gaussian band simulation\n",
    "To look at the band we reset the two dimensional problem to have the initial condition and run the simulation using this.\n",
    "**Be sure to rerun correct cells prior to running simulaitons!**.\n",
    "\n",
    "In the case for the band to measure a diffusivity we look to the meridional second moment $\\sigma_{y}^{2}$.\n",
    "This will be done much the same as in the one dimensional case though must divide by the width of the domain so as to only get the meridional dispersion of tracer."
   ],
   "metadata": {}
  },
  {
   "cell_type": "code",
   "execution_count": 6,
   "source": [
    "prob_2d = TracerAdvectionDiffusion.Problem(dev; nx=nx, Lx=Lx, κ=κ,\n",
    "                                                #steadyflow=true, u=uvel, v=vvel,\n",
    "                                                dt=dt, stepper=stepper)\n",
    "strip = Normal(0, 1)\n",
    "strip_IC(x) = pdf(strip, x)\n",
    "C₀2d = Array{Float64}(undef, prob_2d.grid.nx, prob_2d.grid.ny)\n",
    "xgrid2d, ygrid2d = prob_2d.grid.x, prob_2d.grid.y\n",
    "\n",
    "for i in 1:prob_2d.grid.ny\n",
    "C₀2d[i, :] = pdf(Normal(0, 1), ygrid2d)\n",
    "end\n",
    "\n",
    "set_c!(prob_2d, C₀2d)"
   ],
   "outputs": [],
   "metadata": {}
  },
  {
   "cell_type": "code",
   "execution_count": 7,
   "source": [
    "function second_mom_2d(prob::FourierFlows.Problem)\n",
    "\t\n",
    "    #=\n",
    "    meridional_diff = Array{Float64}(undef, prob.grid.nx)\n",
    "\n",
    "    for j ∈ 1:prob.grid.nx\n",
    "        C = reshape(prob.vars.c[j, :], :)\n",
    "        sort!(C, rev = true)\n",
    "        N = length(C)\n",
    "        \n",
    "        Δy = prob.grid.Ly / prob.grid.ny\n",
    "        \n",
    "        Σk²Cₖ = (Δy / 2)^2 * sum( [ k^2 * C[k] for k ∈ 1:N ] )\n",
    "        meridional_diff[j] = Σk²Cₖ\n",
    "    end\n",
    "\tC = reshape(prob.vars.c, :)\n",
    "    ΣCₖ = sum(C)\n",
    "\treturn sum(meridional_diff) / ΣCₖ \n",
    "    =#\n",
    "\n",
    "    C = reshape(prob.vars.c, :)\n",
    "\tsort!(C, rev = true)\n",
    "\tN = length(C)\n",
    "\t\n",
    "\tΔx = prob.grid.Lx / prob.grid.nx\n",
    "    Δy = prob.grid.Ly / prob.grid.ny\n",
    "    ΔA = (Δx * Δy) \n",
    "\t\n",
    "\tΣk²Cₖ = (ΔA)^2 * sum( [ k^2 * C[k] for k ∈ 1:N ] )\n",
    "\tΣCₖ = sum(C)\n",
    "\t\n",
    "\treturn Σk²Cₖ/ΣCₖ\n",
    "\t\n",
    "end"
   ],
   "outputs": [
    {
     "output_type": "execute_result",
     "data": {
      "text/plain": [
       "second_mom_2d (generic function with 1 method)"
      ]
     },
     "metadata": {},
     "execution_count": 7
    }
   ],
   "metadata": {}
  },
  {
   "cell_type": "code",
   "execution_count": 8,
   "source": [
    "p_2d = plot_output_2d(prob_2d)\n",
    "\n",
    "savefig(p_2d, \"Initialband2d.png\")\n",
    "\n",
    "second_mom2d = Vector{Float64}(undef, round(Int, nsteps/nsubs) + 1)\n",
    "second_mom2d[1] = second_mom_2d(prob_2d)\n",
    "tvec_2d = Vector{Float64}(undef, round(Int, nsteps/nsubs) + 1)\n",
    "tvec_2d[1] = prob_2d.clock.t\n",
    "\n",
    "anim_2d = @animate for j = 0:round(Int, nsteps/nsubs)\n",
    "\n",
    "    p_2d[1][1][:z] = prob_2d.vars.c\n",
    "    p_2d[1][:title] = \"Concentration, t=\" * string(prob_2d.clock.t)\n",
    "    p_2d[2][1][:y] =  sort(reshape(prob_2d.vars.c, :), rev = true)\n",
    "\n",
    "    second_mom2d[j + 1] = second_mom_2d(prob_2d)\n",
    "    tvec_2d[j + 1] = prob_2d.clock.t\n",
    "    \n",
    "    stepforward!(prob_2d, nsubs)\n",
    "    TracerAdvectionDiffusion.updatevars!(prob_2d)\n",
    "    TracerAdvectionDiffusion.updatevars!(prob_2d)\n",
    "    if j == round(Int, nsteps/nsubs)\n",
    "        p_2d[1][:title] = \"Final concentration\"\n",
    "        p_2d[2][:title] = \"Final concentration ordered highest to lowest\"\n",
    "        savefig(p_2d, \"Finialband2d.png\")\n",
    "    end\n",
    "end\n",
    "\n",
    "#mp4(anim_2d, \"2d_gaussiandiff_strip.mp4\", fps=12)"
   ],
   "outputs": [
    {
     "output_type": "execute_result",
     "data": {
      "text/plain": [
       "Animation(\"/var/folders/xy/tfzr9ygs3d75fd8pymbbx3w40000gn/T/jl_0lx2rG\", [\"000001.png\", \"000002.png\", \"000003.png\", \"000004.png\", \"000005.png\", \"000006.png\", \"000007.png\", \"000008.png\", \"000009.png\", \"000010.png\"  …  \"000132.png\", \"000133.png\", \"000134.png\", \"000135.png\", \"000136.png\", \"000137.png\", \"000138.png\", \"000139.png\", \"000140.png\", \"000141.png\"])"
      ]
     },
     "metadata": {},
     "execution_count": 8
    }
   ],
   "metadata": {}
  },
  {
   "cell_type": "markdown",
   "source": [
    "Again we look to find a linear relationship and use this to estimate the diffusivity."
   ],
   "metadata": {}
  },
  {
   "cell_type": "code",
   "execution_count": 15,
   "source": [
    "twoddband = plot(tvec_2d, second_mom2d, label = false, xlabel = \"t\", ylabel = \"σ²y \", title = \"Growth of σ²y during simulation\")\n",
    "twoddband"
   ],
   "outputs": [
    {
     "output_type": "execute_result",
     "data": {
      "image/svg+xml": "<?xml version=\"1.0\" encoding=\"utf-8\"?>\n<svg xmlns=\"http://www.w3.org/2000/svg\" xmlns:xlink=\"http://www.w3.org/1999/xlink\" width=\"600\" height=\"400\" viewBox=\"0 0 2400 1600\">\n<defs>\n  <clipPath id=\"clip130\">\n    <rect x=\"0\" y=\"0\" width=\"2400\" height=\"1600\"/>\n  </clipPath>\n</defs>\n<path clip-path=\"url(#clip130)\" d=\"\nM0 1600 L2400 1600 L2400 0 L0 0  Z\n  \" fill=\"#ffffff\" fill-rule=\"evenodd\" fill-opacity=\"1\"/>\n<defs>\n  <clipPath id=\"clip131\">\n    <rect x=\"480\" y=\"0\" width=\"1681\" height=\"1600\"/>\n  </clipPath>\n</defs>\n<path clip-path=\"url(#clip130)\" d=\"\nM265.445 1423.18 L2352.76 1423.18 L2352.76 123.472 L265.445 123.472  Z\n  \" fill=\"#ffffff\" fill-rule=\"evenodd\" fill-opacity=\"1\"/>\n<defs>\n  <clipPath id=\"clip132\">\n    <rect x=\"265\" y=\"123\" width=\"2088\" height=\"1301\"/>\n  </clipPath>\n</defs>\n<polyline clip-path=\"url(#clip132)\" style=\"stroke:#000000; stroke-linecap:butt; stroke-linejoin:round; stroke-width:2; stroke-opacity:0.1; fill:none\" points=\"\n  324.52,1423.18 324.52,123.472 \n  \"/>\n<polyline clip-path=\"url(#clip132)\" style=\"stroke:#000000; stroke-linecap:butt; stroke-linejoin:round; stroke-width:2; stroke-opacity:0.1; fill:none\" points=\"\n  676.156,1423.18 676.156,123.472 \n  \"/>\n<polyline clip-path=\"url(#clip132)\" style=\"stroke:#000000; stroke-linecap:butt; stroke-linejoin:round; stroke-width:2; stroke-opacity:0.1; fill:none\" points=\"\n  1027.79,1423.18 1027.79,123.472 \n  \"/>\n<polyline clip-path=\"url(#clip132)\" style=\"stroke:#000000; stroke-linecap:butt; stroke-linejoin:round; stroke-width:2; stroke-opacity:0.1; fill:none\" points=\"\n  1379.43,1423.18 1379.43,123.472 \n  \"/>\n<polyline clip-path=\"url(#clip132)\" style=\"stroke:#000000; stroke-linecap:butt; stroke-linejoin:round; stroke-width:2; stroke-opacity:0.1; fill:none\" points=\"\n  1731.06,1423.18 1731.06,123.472 \n  \"/>\n<polyline clip-path=\"url(#clip132)\" style=\"stroke:#000000; stroke-linecap:butt; stroke-linejoin:round; stroke-width:2; stroke-opacity:0.1; fill:none\" points=\"\n  2082.7,1423.18 2082.7,123.472 \n  \"/>\n<polyline clip-path=\"url(#clip130)\" style=\"stroke:#000000; stroke-linecap:butt; stroke-linejoin:round; stroke-width:4; stroke-opacity:1; fill:none\" points=\"\n  265.445,1423.18 2352.76,1423.18 \n  \"/>\n<polyline clip-path=\"url(#clip130)\" style=\"stroke:#000000; stroke-linecap:butt; stroke-linejoin:round; stroke-width:4; stroke-opacity:1; fill:none\" points=\"\n  324.52,1423.18 324.52,1404.28 \n  \"/>\n<polyline clip-path=\"url(#clip130)\" style=\"stroke:#000000; stroke-linecap:butt; stroke-linejoin:round; stroke-width:4; stroke-opacity:1; fill:none\" points=\"\n  676.156,1423.18 676.156,1404.28 \n  \"/>\n<polyline clip-path=\"url(#clip130)\" style=\"stroke:#000000; stroke-linecap:butt; stroke-linejoin:round; stroke-width:4; stroke-opacity:1; fill:none\" points=\"\n  1027.79,1423.18 1027.79,1404.28 \n  \"/>\n<polyline clip-path=\"url(#clip130)\" style=\"stroke:#000000; stroke-linecap:butt; stroke-linejoin:round; stroke-width:4; stroke-opacity:1; fill:none\" points=\"\n  1379.43,1423.18 1379.43,1404.28 \n  \"/>\n<polyline clip-path=\"url(#clip130)\" style=\"stroke:#000000; stroke-linecap:butt; stroke-linejoin:round; stroke-width:4; stroke-opacity:1; fill:none\" points=\"\n  1731.06,1423.18 1731.06,1404.28 \n  \"/>\n<polyline clip-path=\"url(#clip130)\" style=\"stroke:#000000; stroke-linecap:butt; stroke-linejoin:round; stroke-width:4; stroke-opacity:1; fill:none\" points=\"\n  2082.7,1423.18 2082.7,1404.28 \n  \"/>\n<path clip-path=\"url(#clip130)\" d=\"M301.904 1452.37 Q298.293 1452.37 296.464 1455.94 Q294.659 1459.48 294.659 1466.61 Q294.659 1473.71 296.464 1477.28 Q298.293 1480.82 301.904 1480.82 Q305.538 1480.82 307.344 1477.28 Q309.172 1473.71 309.172 1466.61 Q309.172 1459.48 307.344 1455.94 Q305.538 1452.37 301.904 1452.37 M301.904 1448.67 Q307.714 1448.67 310.77 1453.27 Q313.848 1457.86 313.848 1466.61 Q313.848 1475.33 310.77 1479.94 Q307.714 1484.52 301.904 1484.52 Q296.094 1484.52 293.015 1479.94 Q289.96 1475.33 289.96 1466.61 Q289.96 1457.86 293.015 1453.27 Q296.094 1448.67 301.904 1448.67 Z\" fill=\"#000000\" fill-rule=\"evenodd\" fill-opacity=\"1\" /><path clip-path=\"url(#clip130)\" d=\"M322.066 1477.97 L326.95 1477.97 L326.95 1483.85 L322.066 1483.85 L322.066 1477.97 Z\" fill=\"#000000\" fill-rule=\"evenodd\" fill-opacity=\"1\" /><path clip-path=\"url(#clip130)\" d=\"M347.135 1452.37 Q343.524 1452.37 341.695 1455.94 Q339.89 1459.48 339.89 1466.61 Q339.89 1473.71 341.695 1477.28 Q343.524 1480.82 347.135 1480.82 Q350.769 1480.82 352.575 1477.28 Q354.404 1473.71 354.404 1466.61 Q354.404 1459.48 352.575 1455.94 Q350.769 1452.37 347.135 1452.37 M347.135 1448.67 Q352.945 1448.67 356.001 1453.27 Q359.08 1457.86 359.08 1466.61 Q359.08 1475.33 356.001 1479.94 Q352.945 1484.52 347.135 1484.52 Q341.325 1484.52 338.246 1479.94 Q335.191 1475.33 335.191 1466.61 Q335.191 1457.86 338.246 1453.27 Q341.325 1448.67 347.135 1448.67 Z\" fill=\"#000000\" fill-rule=\"evenodd\" fill-opacity=\"1\" /><path clip-path=\"url(#clip130)\" d=\"M647.892 1479.92 L664.211 1479.92 L664.211 1483.85 L642.267 1483.85 L642.267 1479.92 Q644.929 1477.16 649.512 1472.53 Q654.119 1467.88 655.299 1466.54 Q657.545 1464.01 658.424 1462.28 Q659.327 1460.52 659.327 1458.83 Q659.327 1456.07 657.383 1454.34 Q655.461 1452.6 652.359 1452.6 Q650.16 1452.6 647.707 1453.37 Q645.276 1454.13 642.498 1455.68 L642.498 1450.96 Q645.322 1449.82 647.776 1449.25 Q650.23 1448.67 652.267 1448.67 Q657.637 1448.67 660.832 1451.35 Q664.026 1454.04 664.026 1458.53 Q664.026 1460.66 663.216 1462.58 Q662.429 1464.48 660.322 1467.07 Q659.744 1467.74 656.642 1470.96 Q653.54 1474.15 647.892 1479.92 Z\" fill=\"#000000\" fill-rule=\"evenodd\" fill-opacity=\"1\" /><path clip-path=\"url(#clip130)\" d=\"M674.026 1477.97 L678.91 1477.97 L678.91 1483.85 L674.026 1483.85 L674.026 1477.97 Z\" fill=\"#000000\" fill-rule=\"evenodd\" fill-opacity=\"1\" /><path clip-path=\"url(#clip130)\" d=\"M689.142 1449.29 L707.498 1449.29 L707.498 1453.23 L693.424 1453.23 L693.424 1461.7 Q694.442 1461.35 695.461 1461.19 Q696.48 1461 697.498 1461 Q703.285 1461 706.665 1464.18 Q710.044 1467.35 710.044 1472.76 Q710.044 1478.34 706.572 1481.44 Q703.1 1484.52 696.78 1484.52 Q694.605 1484.52 692.336 1484.15 Q690.091 1483.78 687.683 1483.04 L687.683 1478.34 Q689.767 1479.48 691.989 1480.03 Q694.211 1480.59 696.688 1480.59 Q700.692 1480.59 703.03 1478.48 Q705.368 1476.38 705.368 1472.76 Q705.368 1469.15 703.03 1467.05 Q700.692 1464.94 696.688 1464.94 Q694.813 1464.94 692.938 1465.36 Q691.086 1465.77 689.142 1466.65 L689.142 1449.29 Z\" fill=\"#000000\" fill-rule=\"evenodd\" fill-opacity=\"1\" /><path clip-path=\"url(#clip130)\" d=\"M994.956 1449.29 L1013.31 1449.29 L1013.31 1453.23 L999.238 1453.23 L999.238 1461.7 Q1000.26 1461.35 1001.28 1461.19 Q1002.29 1461 1003.31 1461 Q1009.1 1461 1012.48 1464.18 Q1015.86 1467.35 1015.86 1472.76 Q1015.86 1478.34 1012.39 1481.44 Q1008.91 1484.52 1002.59 1484.52 Q1000.42 1484.52 998.15 1484.15 Q995.905 1483.78 993.498 1483.04 L993.498 1478.34 Q995.581 1479.48 997.803 1480.03 Q1000.03 1480.59 1002.5 1480.59 Q1006.51 1480.59 1008.84 1478.48 Q1011.18 1476.38 1011.18 1472.76 Q1011.18 1469.15 1008.84 1467.05 Q1006.51 1464.94 1002.5 1464.94 Q1000.63 1464.94 998.752 1465.36 Q996.9 1465.77 994.956 1466.65 L994.956 1449.29 Z\" fill=\"#000000\" fill-rule=\"evenodd\" fill-opacity=\"1\" /><path clip-path=\"url(#clip130)\" d=\"M1025.07 1477.97 L1029.96 1477.97 L1029.96 1483.85 L1025.07 1483.85 L1025.07 1477.97 Z\" fill=\"#000000\" fill-rule=\"evenodd\" fill-opacity=\"1\" /><path clip-path=\"url(#clip130)\" d=\"M1050.14 1452.37 Q1046.53 1452.37 1044.7 1455.94 Q1042.9 1459.48 1042.9 1466.61 Q1042.9 1473.71 1044.7 1477.28 Q1046.53 1480.82 1050.14 1480.82 Q1053.78 1480.82 1055.58 1477.28 Q1057.41 1473.71 1057.41 1466.61 Q1057.41 1459.48 1055.58 1455.94 Q1053.78 1452.37 1050.14 1452.37 M1050.14 1448.67 Q1055.95 1448.67 1059.01 1453.27 Q1062.09 1457.86 1062.09 1466.61 Q1062.09 1475.33 1059.01 1479.94 Q1055.95 1484.52 1050.14 1484.52 Q1044.33 1484.52 1041.25 1479.94 Q1038.2 1475.33 1038.2 1466.61 Q1038.2 1457.86 1041.25 1453.27 Q1044.33 1448.67 1050.14 1448.67 Z\" fill=\"#000000\" fill-rule=\"evenodd\" fill-opacity=\"1\" /><path clip-path=\"url(#clip130)\" d=\"M1345.75 1449.29 L1367.97 1449.29 L1367.97 1451.28 L1355.42 1483.85 L1350.54 1483.85 L1362.34 1453.23 L1345.75 1453.23 L1345.75 1449.29 Z\" fill=\"#000000\" fill-rule=\"evenodd\" fill-opacity=\"1\" /><path clip-path=\"url(#clip130)\" d=\"M1377.09 1477.97 L1381.97 1477.97 L1381.97 1483.85 L1377.09 1483.85 L1377.09 1477.97 Z\" fill=\"#000000\" fill-rule=\"evenodd\" fill-opacity=\"1\" /><path clip-path=\"url(#clip130)\" d=\"M1392.21 1449.29 L1410.56 1449.29 L1410.56 1453.23 L1396.49 1453.23 L1396.49 1461.7 Q1397.51 1461.35 1398.52 1461.19 Q1399.54 1461 1400.56 1461 Q1406.35 1461 1409.73 1464.18 Q1413.11 1467.35 1413.11 1472.76 Q1413.11 1478.34 1409.64 1481.44 Q1406.16 1484.52 1399.84 1484.52 Q1397.67 1484.52 1395.4 1484.15 Q1393.15 1483.78 1390.75 1483.04 L1390.75 1478.34 Q1392.83 1479.48 1395.05 1480.03 Q1397.27 1480.59 1399.75 1480.59 Q1403.76 1480.59 1406.09 1478.48 Q1408.43 1476.38 1408.43 1472.76 Q1408.43 1469.15 1406.09 1467.05 Q1403.76 1464.94 1399.75 1464.94 Q1397.88 1464.94 1396 1465.36 Q1394.15 1465.77 1392.21 1466.65 L1392.21 1449.29 Z\" fill=\"#000000\" fill-rule=\"evenodd\" fill-opacity=\"1\" /><path clip-path=\"url(#clip130)\" d=\"M1683.14 1479.92 L1690.77 1479.92 L1690.77 1453.55 L1682.46 1455.22 L1682.46 1450.96 L1690.73 1449.29 L1695.4 1449.29 L1695.4 1479.92 L1703.04 1479.92 L1703.04 1483.85 L1683.14 1483.85 L1683.14 1479.92 Z\" fill=\"#000000\" fill-rule=\"evenodd\" fill-opacity=\"1\" /><path clip-path=\"url(#clip130)\" d=\"M1722.49 1452.37 Q1718.88 1452.37 1717.05 1455.94 Q1715.24 1459.48 1715.24 1466.61 Q1715.24 1473.71 1717.05 1477.28 Q1718.88 1480.82 1722.49 1480.82 Q1726.12 1480.82 1727.93 1477.28 Q1729.76 1473.71 1729.76 1466.61 Q1729.76 1459.48 1727.93 1455.94 Q1726.12 1452.37 1722.49 1452.37 M1722.49 1448.67 Q1728.3 1448.67 1731.35 1453.27 Q1734.43 1457.86 1734.43 1466.61 Q1734.43 1475.33 1731.35 1479.94 Q1728.3 1484.52 1722.49 1484.52 Q1716.68 1484.52 1713.6 1479.94 Q1710.54 1475.33 1710.54 1466.61 Q1710.54 1457.86 1713.6 1453.27 Q1716.68 1448.67 1722.49 1448.67 Z\" fill=\"#000000\" fill-rule=\"evenodd\" fill-opacity=\"1\" /><path clip-path=\"url(#clip130)\" d=\"M1742.65 1477.97 L1747.53 1477.97 L1747.53 1483.85 L1742.65 1483.85 L1742.65 1477.97 Z\" fill=\"#000000\" fill-rule=\"evenodd\" fill-opacity=\"1\" /><path clip-path=\"url(#clip130)\" d=\"M1767.72 1452.37 Q1764.11 1452.37 1762.28 1455.94 Q1760.47 1459.48 1760.47 1466.61 Q1760.47 1473.71 1762.28 1477.28 Q1764.11 1480.82 1767.72 1480.82 Q1771.35 1480.82 1773.16 1477.28 Q1774.99 1473.71 1774.99 1466.61 Q1774.99 1459.48 1773.16 1455.94 Q1771.35 1452.37 1767.72 1452.37 M1767.72 1448.67 Q1773.53 1448.67 1776.58 1453.27 Q1779.66 1457.86 1779.66 1466.61 Q1779.66 1475.33 1776.58 1479.94 Q1773.53 1484.52 1767.72 1484.52 Q1761.91 1484.52 1758.83 1479.94 Q1755.77 1475.33 1755.77 1466.61 Q1755.77 1457.86 1758.83 1453.27 Q1761.91 1448.67 1767.72 1448.67 Z\" fill=\"#000000\" fill-rule=\"evenodd\" fill-opacity=\"1\" /><path clip-path=\"url(#clip130)\" d=\"M2035.27 1479.92 L2042.91 1479.92 L2042.91 1453.55 L2034.6 1455.22 L2034.6 1450.96 L2042.86 1449.29 L2047.54 1449.29 L2047.54 1479.92 L2055.18 1479.92 L2055.18 1483.85 L2035.27 1483.85 L2035.27 1479.92 Z\" fill=\"#000000\" fill-rule=\"evenodd\" fill-opacity=\"1\" /><path clip-path=\"url(#clip130)\" d=\"M2068.65 1479.92 L2084.97 1479.92 L2084.97 1483.85 L2063.02 1483.85 L2063.02 1479.92 Q2065.69 1477.16 2070.27 1472.53 Q2074.88 1467.88 2076.06 1466.54 Q2078.3 1464.01 2079.18 1462.28 Q2080.08 1460.52 2080.08 1458.83 Q2080.08 1456.07 2078.14 1454.34 Q2076.22 1452.6 2073.12 1452.6 Q2070.92 1452.6 2068.46 1453.37 Q2066.03 1454.13 2063.26 1455.68 L2063.26 1450.96 Q2066.08 1449.82 2068.53 1449.25 Q2070.99 1448.67 2073.02 1448.67 Q2078.39 1448.67 2081.59 1451.35 Q2084.78 1454.04 2084.78 1458.53 Q2084.78 1460.66 2083.97 1462.58 Q2083.19 1464.48 2081.08 1467.07 Q2080.5 1467.74 2077.4 1470.96 Q2074.3 1474.15 2068.65 1479.92 Z\" fill=\"#000000\" fill-rule=\"evenodd\" fill-opacity=\"1\" /><path clip-path=\"url(#clip130)\" d=\"M2094.78 1477.97 L2099.67 1477.97 L2099.67 1483.85 L2094.78 1483.85 L2094.78 1477.97 Z\" fill=\"#000000\" fill-rule=\"evenodd\" fill-opacity=\"1\" /><path clip-path=\"url(#clip130)\" d=\"M2109.9 1449.29 L2128.25 1449.29 L2128.25 1453.23 L2114.18 1453.23 L2114.18 1461.7 Q2115.2 1461.35 2116.22 1461.19 Q2117.24 1461 2118.25 1461 Q2124.04 1461 2127.42 1464.18 Q2130.8 1467.35 2130.8 1472.76 Q2130.8 1478.34 2127.33 1481.44 Q2123.86 1484.52 2117.54 1484.52 Q2115.36 1484.52 2113.09 1484.15 Q2110.85 1483.78 2108.44 1483.04 L2108.44 1478.34 Q2110.52 1479.48 2112.75 1480.03 Q2114.97 1480.59 2117.44 1480.59 Q2121.45 1480.59 2123.79 1478.48 Q2126.13 1476.38 2126.13 1472.76 Q2126.13 1469.15 2123.79 1467.05 Q2121.45 1464.94 2117.44 1464.94 Q2115.57 1464.94 2113.69 1465.36 Q2111.84 1465.77 2109.9 1466.65 L2109.9 1449.29 Z\" fill=\"#000000\" fill-rule=\"evenodd\" fill-opacity=\"1\" /><path clip-path=\"url(#clip130)\" d=\"M1308.16 1522.27 L1308.16 1532.4 L1320.22 1532.4 L1320.22 1536.95 L1308.16 1536.95 L1308.16 1556.3 Q1308.16 1560.66 1309.34 1561.9 Q1310.55 1563.14 1314.21 1563.14 L1320.22 1563.14 L1320.22 1568.04 L1314.21 1568.04 Q1307.43 1568.04 1304.85 1565.53 Q1302.27 1562.98 1302.27 1556.3 L1302.27 1536.95 L1297.98 1536.95 L1297.98 1532.4 L1302.27 1532.4 L1302.27 1522.27 L1308.16 1522.27 Z\" fill=\"#000000\" fill-rule=\"evenodd\" fill-opacity=\"1\" /><polyline clip-path=\"url(#clip132)\" style=\"stroke:#000000; stroke-linecap:butt; stroke-linejoin:round; stroke-width:2; stroke-opacity:0.1; fill:none\" points=\"\n  265.445,1221.47 2352.76,1221.47 \n  \"/>\n<polyline clip-path=\"url(#clip132)\" style=\"stroke:#000000; stroke-linecap:butt; stroke-linejoin:round; stroke-width:2; stroke-opacity:0.1; fill:none\" points=\"\n  265.445,873.611 2352.76,873.611 \n  \"/>\n<polyline clip-path=\"url(#clip132)\" style=\"stroke:#000000; stroke-linecap:butt; stroke-linejoin:round; stroke-width:2; stroke-opacity:0.1; fill:none\" points=\"\n  265.445,525.749 2352.76,525.749 \n  \"/>\n<polyline clip-path=\"url(#clip132)\" style=\"stroke:#000000; stroke-linecap:butt; stroke-linejoin:round; stroke-width:2; stroke-opacity:0.1; fill:none\" points=\"\n  265.445,177.887 2352.76,177.887 \n  \"/>\n<polyline clip-path=\"url(#clip130)\" style=\"stroke:#000000; stroke-linecap:butt; stroke-linejoin:round; stroke-width:4; stroke-opacity:1; fill:none\" points=\"\n  265.445,1423.18 265.445,123.472 \n  \"/>\n<polyline clip-path=\"url(#clip130)\" style=\"stroke:#000000; stroke-linecap:butt; stroke-linejoin:round; stroke-width:4; stroke-opacity:1; fill:none\" points=\"\n  265.445,1221.47 284.342,1221.47 \n  \"/>\n<polyline clip-path=\"url(#clip130)\" style=\"stroke:#000000; stroke-linecap:butt; stroke-linejoin:round; stroke-width:4; stroke-opacity:1; fill:none\" points=\"\n  265.445,873.611 284.342,873.611 \n  \"/>\n<polyline clip-path=\"url(#clip130)\" style=\"stroke:#000000; stroke-linecap:butt; stroke-linejoin:round; stroke-width:4; stroke-opacity:1; fill:none\" points=\"\n  265.445,525.749 284.342,525.749 \n  \"/>\n<polyline clip-path=\"url(#clip130)\" style=\"stroke:#000000; stroke-linecap:butt; stroke-linejoin:round; stroke-width:4; stroke-opacity:1; fill:none\" points=\"\n  265.445,177.887 284.342,177.887 \n  \"/>\n<path clip-path=\"url(#clip130)\" d=\"M121.043 1234.82 L137.362 1234.82 L137.362 1238.75 L115.418 1238.75 L115.418 1234.82 Q118.08 1232.06 122.663 1227.43 Q127.269 1222.78 128.45 1221.44 Q130.695 1218.91 131.575 1217.18 Q132.478 1215.42 132.478 1213.73 Q132.478 1210.98 130.533 1209.24 Q128.612 1207.5 125.51 1207.5 Q123.311 1207.5 120.857 1208.27 Q118.427 1209.03 115.649 1210.58 L115.649 1205.86 Q118.473 1204.73 120.927 1204.15 Q123.38 1203.57 125.418 1203.57 Q130.788 1203.57 133.982 1206.25 Q137.177 1208.94 137.177 1213.43 Q137.177 1215.56 136.367 1217.48 Q135.579 1219.38 133.473 1221.97 Q132.894 1222.64 129.792 1225.86 Q126.691 1229.05 121.043 1234.82 Z\" fill=\"#000000\" fill-rule=\"evenodd\" fill-opacity=\"1\" /><path clip-path=\"url(#clip130)\" d=\"M157.177 1207.27 Q153.566 1207.27 151.737 1210.84 Q149.931 1214.38 149.931 1221.51 Q149.931 1228.61 151.737 1232.18 Q153.566 1235.72 157.177 1235.72 Q160.811 1235.72 162.616 1232.18 Q164.445 1228.61 164.445 1221.51 Q164.445 1214.38 162.616 1210.84 Q160.811 1207.27 157.177 1207.27 M157.177 1203.57 Q162.987 1203.57 166.042 1208.17 Q169.121 1212.76 169.121 1221.51 Q169.121 1230.23 166.042 1234.84 Q162.987 1239.42 157.177 1239.42 Q151.366 1239.42 148.288 1234.84 Q145.232 1230.23 145.232 1221.51 Q145.232 1212.76 148.288 1208.17 Q151.366 1203.57 157.177 1203.57 Z\" fill=\"#000000\" fill-rule=\"evenodd\" fill-opacity=\"1\" /><path clip-path=\"url(#clip130)\" d=\"M187.338 1207.27 Q183.727 1207.27 181.899 1210.84 Q180.093 1214.38 180.093 1221.51 Q180.093 1228.61 181.899 1232.18 Q183.727 1235.72 187.338 1235.72 Q190.973 1235.72 192.778 1232.18 Q194.607 1228.61 194.607 1221.51 Q194.607 1214.38 192.778 1210.84 Q190.973 1207.27 187.338 1207.27 M187.338 1203.57 Q193.149 1203.57 196.204 1208.17 Q199.283 1212.76 199.283 1221.51 Q199.283 1230.23 196.204 1234.84 Q193.149 1239.42 187.338 1239.42 Q181.528 1239.42 178.45 1234.84 Q175.394 1230.23 175.394 1221.51 Q175.394 1212.76 178.45 1208.17 Q181.528 1203.57 187.338 1203.57 Z\" fill=\"#000000\" fill-rule=\"evenodd\" fill-opacity=\"1\" /><path clip-path=\"url(#clip130)\" d=\"M217.5 1207.27 Q213.889 1207.27 212.061 1210.84 Q210.255 1214.38 210.255 1221.51 Q210.255 1228.61 212.061 1232.18 Q213.889 1235.72 217.5 1235.72 Q221.135 1235.72 222.94 1232.18 Q224.769 1228.61 224.769 1221.51 Q224.769 1214.38 222.94 1210.84 Q221.135 1207.27 217.5 1207.27 M217.5 1203.57 Q223.31 1203.57 226.366 1208.17 Q229.445 1212.76 229.445 1221.51 Q229.445 1230.23 226.366 1234.84 Q223.31 1239.42 217.5 1239.42 Q211.69 1239.42 208.612 1234.84 Q205.556 1230.23 205.556 1221.51 Q205.556 1212.76 208.612 1208.17 Q211.69 1203.57 217.5 1203.57 Z\" fill=\"#000000\" fill-rule=\"evenodd\" fill-opacity=\"1\" /><path clip-path=\"url(#clip130)\" d=\"M129.862 860.405 L118.056 878.854 L129.862 878.854 L129.862 860.405 M128.635 856.331 L134.515 856.331 L134.515 878.854 L139.445 878.854 L139.445 882.743 L134.515 882.743 L134.515 890.891 L129.862 890.891 L129.862 882.743 L114.26 882.743 L114.26 878.229 L128.635 856.331 Z\" fill=\"#000000\" fill-rule=\"evenodd\" fill-opacity=\"1\" /><path clip-path=\"url(#clip130)\" d=\"M157.177 859.409 Q153.566 859.409 151.737 862.974 Q149.931 866.516 149.931 873.646 Q149.931 880.752 151.737 884.317 Q153.566 887.858 157.177 887.858 Q160.811 887.858 162.616 884.317 Q164.445 880.752 164.445 873.646 Q164.445 866.516 162.616 862.974 Q160.811 859.409 157.177 859.409 M157.177 855.706 Q162.987 855.706 166.042 860.312 Q169.121 864.896 169.121 873.646 Q169.121 882.372 166.042 886.979 Q162.987 891.562 157.177 891.562 Q151.366 891.562 148.288 886.979 Q145.232 882.372 145.232 873.646 Q145.232 864.896 148.288 860.312 Q151.366 855.706 157.177 855.706 Z\" fill=\"#000000\" fill-rule=\"evenodd\" fill-opacity=\"1\" /><path clip-path=\"url(#clip130)\" d=\"M187.338 859.409 Q183.727 859.409 181.899 862.974 Q180.093 866.516 180.093 873.646 Q180.093 880.752 181.899 884.317 Q183.727 887.858 187.338 887.858 Q190.973 887.858 192.778 884.317 Q194.607 880.752 194.607 873.646 Q194.607 866.516 192.778 862.974 Q190.973 859.409 187.338 859.409 M187.338 855.706 Q193.149 855.706 196.204 860.312 Q199.283 864.896 199.283 873.646 Q199.283 882.372 196.204 886.979 Q193.149 891.562 187.338 891.562 Q181.528 891.562 178.45 886.979 Q175.394 882.372 175.394 873.646 Q175.394 864.896 178.45 860.312 Q181.528 855.706 187.338 855.706 Z\" fill=\"#000000\" fill-rule=\"evenodd\" fill-opacity=\"1\" /><path clip-path=\"url(#clip130)\" d=\"M217.5 859.409 Q213.889 859.409 212.061 862.974 Q210.255 866.516 210.255 873.646 Q210.255 880.752 212.061 884.317 Q213.889 887.858 217.5 887.858 Q221.135 887.858 222.94 884.317 Q224.769 880.752 224.769 873.646 Q224.769 866.516 222.94 862.974 Q221.135 859.409 217.5 859.409 M217.5 855.706 Q223.31 855.706 226.366 860.312 Q229.445 864.896 229.445 873.646 Q229.445 882.372 226.366 886.979 Q223.31 891.562 217.5 891.562 Q211.69 891.562 208.612 886.979 Q205.556 882.372 205.556 873.646 Q205.556 864.896 208.612 860.312 Q211.69 855.706 217.5 855.706 Z\" fill=\"#000000\" fill-rule=\"evenodd\" fill-opacity=\"1\" /><path clip-path=\"url(#clip130)\" d=\"M127.593 523.885 Q124.445 523.885 122.593 526.038 Q120.765 528.191 120.765 531.941 Q120.765 535.668 122.593 537.844 Q124.445 539.996 127.593 539.996 Q130.742 539.996 132.57 537.844 Q134.422 535.668 134.422 531.941 Q134.422 528.191 132.57 526.038 Q130.742 523.885 127.593 523.885 M136.876 509.233 L136.876 513.492 Q135.117 512.659 133.311 512.219 Q131.529 511.779 129.769 511.779 Q125.14 511.779 122.686 514.904 Q120.255 518.029 119.908 524.348 Q121.274 522.334 123.334 521.27 Q125.394 520.182 127.871 520.182 Q133.08 520.182 136.089 523.353 Q139.121 526.501 139.121 531.941 Q139.121 537.265 135.973 540.482 Q132.825 543.7 127.593 543.7 Q121.598 543.7 118.427 539.117 Q115.256 534.51 115.256 525.783 Q115.256 517.589 119.144 512.728 Q123.033 507.844 129.584 507.844 Q131.343 507.844 133.126 508.191 Q134.931 508.538 136.876 509.233 Z\" fill=\"#000000\" fill-rule=\"evenodd\" fill-opacity=\"1\" /><path clip-path=\"url(#clip130)\" d=\"M157.177 511.547 Q153.566 511.547 151.737 515.112 Q149.931 518.654 149.931 525.783 Q149.931 532.89 151.737 536.455 Q153.566 539.996 157.177 539.996 Q160.811 539.996 162.616 536.455 Q164.445 532.89 164.445 525.783 Q164.445 518.654 162.616 515.112 Q160.811 511.547 157.177 511.547 M157.177 507.844 Q162.987 507.844 166.042 512.45 Q169.121 517.034 169.121 525.783 Q169.121 534.51 166.042 539.117 Q162.987 543.7 157.177 543.7 Q151.366 543.7 148.288 539.117 Q145.232 534.51 145.232 525.783 Q145.232 517.034 148.288 512.45 Q151.366 507.844 157.177 507.844 Z\" fill=\"#000000\" fill-rule=\"evenodd\" fill-opacity=\"1\" /><path clip-path=\"url(#clip130)\" d=\"M187.338 511.547 Q183.727 511.547 181.899 515.112 Q180.093 518.654 180.093 525.783 Q180.093 532.89 181.899 536.455 Q183.727 539.996 187.338 539.996 Q190.973 539.996 192.778 536.455 Q194.607 532.89 194.607 525.783 Q194.607 518.654 192.778 515.112 Q190.973 511.547 187.338 511.547 M187.338 507.844 Q193.149 507.844 196.204 512.45 Q199.283 517.034 199.283 525.783 Q199.283 534.51 196.204 539.117 Q193.149 543.7 187.338 543.7 Q181.528 543.7 178.45 539.117 Q175.394 534.51 175.394 525.783 Q175.394 517.034 178.45 512.45 Q181.528 507.844 187.338 507.844 Z\" fill=\"#000000\" fill-rule=\"evenodd\" fill-opacity=\"1\" /><path clip-path=\"url(#clip130)\" d=\"M217.5 511.547 Q213.889 511.547 212.061 515.112 Q210.255 518.654 210.255 525.783 Q210.255 532.89 212.061 536.455 Q213.889 539.996 217.5 539.996 Q221.135 539.996 222.94 536.455 Q224.769 532.89 224.769 525.783 Q224.769 518.654 222.94 515.112 Q221.135 511.547 217.5 511.547 M217.5 507.844 Q223.31 507.844 226.366 512.45 Q229.445 517.034 229.445 525.783 Q229.445 534.51 226.366 539.117 Q223.31 543.7 217.5 543.7 Q211.69 543.7 208.612 539.117 Q205.556 534.51 205.556 525.783 Q205.556 517.034 208.612 512.45 Q211.69 507.844 217.5 507.844 Z\" fill=\"#000000\" fill-rule=\"evenodd\" fill-opacity=\"1\" /><path clip-path=\"url(#clip130)\" d=\"M127.015 178.755 Q123.681 178.755 121.76 180.537 Q119.862 182.32 119.862 185.445 Q119.862 188.57 121.76 190.352 Q123.681 192.134 127.015 192.134 Q130.348 192.134 132.269 190.352 Q134.191 188.546 134.191 185.445 Q134.191 182.32 132.269 180.537 Q130.371 178.755 127.015 178.755 M122.339 176.764 Q119.33 176.023 117.64 173.963 Q115.973 171.903 115.973 168.94 Q115.973 164.797 118.913 162.389 Q121.876 159.982 127.015 159.982 Q132.177 159.982 135.117 162.389 Q138.056 164.797 138.056 168.94 Q138.056 171.903 136.367 173.963 Q134.7 176.023 131.714 176.764 Q135.093 177.551 136.968 179.843 Q138.867 182.134 138.867 185.445 Q138.867 190.468 135.788 193.153 Q132.732 195.838 127.015 195.838 Q121.297 195.838 118.218 193.153 Q115.163 190.468 115.163 185.445 Q115.163 182.134 117.061 179.843 Q118.959 177.551 122.339 176.764 M120.626 169.38 Q120.626 172.065 122.293 173.57 Q123.982 175.074 127.015 175.074 Q130.024 175.074 131.714 173.57 Q133.427 172.065 133.427 169.38 Q133.427 166.695 131.714 165.19 Q130.024 163.685 127.015 163.685 Q123.982 163.685 122.293 165.19 Q120.626 166.695 120.626 169.38 Z\" fill=\"#000000\" fill-rule=\"evenodd\" fill-opacity=\"1\" /><path clip-path=\"url(#clip130)\" d=\"M157.177 163.685 Q153.566 163.685 151.737 167.25 Q149.931 170.792 149.931 177.921 Q149.931 185.028 151.737 188.593 Q153.566 192.134 157.177 192.134 Q160.811 192.134 162.616 188.593 Q164.445 185.028 164.445 177.921 Q164.445 170.792 162.616 167.25 Q160.811 163.685 157.177 163.685 M157.177 159.982 Q162.987 159.982 166.042 164.588 Q169.121 169.171 169.121 177.921 Q169.121 186.648 166.042 191.255 Q162.987 195.838 157.177 195.838 Q151.366 195.838 148.288 191.255 Q145.232 186.648 145.232 177.921 Q145.232 169.171 148.288 164.588 Q151.366 159.982 157.177 159.982 Z\" fill=\"#000000\" fill-rule=\"evenodd\" fill-opacity=\"1\" /><path clip-path=\"url(#clip130)\" d=\"M187.338 163.685 Q183.727 163.685 181.899 167.25 Q180.093 170.792 180.093 177.921 Q180.093 185.028 181.899 188.593 Q183.727 192.134 187.338 192.134 Q190.973 192.134 192.778 188.593 Q194.607 185.028 194.607 177.921 Q194.607 170.792 192.778 167.25 Q190.973 163.685 187.338 163.685 M187.338 159.982 Q193.149 159.982 196.204 164.588 Q199.283 169.171 199.283 177.921 Q199.283 186.648 196.204 191.255 Q193.149 195.838 187.338 195.838 Q181.528 195.838 178.45 191.255 Q175.394 186.648 175.394 177.921 Q175.394 169.171 178.45 164.588 Q181.528 159.982 187.338 159.982 Z\" fill=\"#000000\" fill-rule=\"evenodd\" fill-opacity=\"1\" /><path clip-path=\"url(#clip130)\" d=\"M217.5 163.685 Q213.889 163.685 212.061 167.25 Q210.255 170.792 210.255 177.921 Q210.255 185.028 212.061 188.593 Q213.889 192.134 217.5 192.134 Q221.135 192.134 222.94 188.593 Q224.769 185.028 224.769 177.921 Q224.769 170.792 222.94 167.25 Q221.135 163.685 217.5 163.685 M217.5 159.982 Q223.31 159.982 226.366 164.588 Q229.445 169.171 229.445 177.921 Q229.445 186.648 226.366 191.255 Q223.31 195.838 217.5 195.838 Q211.69 195.838 208.612 191.255 Q205.556 186.648 205.556 177.921 Q205.556 169.171 208.612 164.588 Q211.69 159.982 217.5 159.982 Z\" fill=\"#000000\" fill-rule=\"evenodd\" fill-opacity=\"1\" /><path clip-path=\"url(#clip130)\" d=\"M33.0032 818.538 Q33.0032 823.376 36.5043 825.986 Q40.1646 828.724 46.212 828.724 Q52.6095 828.724 56.3017 826.018 Q59.9619 823.281 59.9619 818.538 Q59.9619 813.86 56.2698 811.122 Q52.5777 808.385 46.212 808.385 Q40.3874 808.385 36.5043 811.122 Q33.0032 813.637 33.0032 818.538 M28.3562 818.538 L28.3562 799.091 L34.2127 799.091 L34.2127 805.648 Q39.1779 802.179 46.212 802.179 Q54.9649 802.179 59.9301 806.539 Q64.9272 810.9 64.9272 818.538 Q64.9272 826.209 59.9301 830.538 Q54.9649 834.898 46.212 834.898 Q37.3955 834.898 32.4621 830.538 Q28.3562 826.941 28.3562 818.538 Z\" fill=\"#000000\" fill-rule=\"evenodd\" fill-opacity=\"1\" /><path clip-path=\"url(#clip130)\" d=\"M39.1142 788.651 L39.1142 775.156 L42.7427 775.156 L42.7427 794.19 L39.2416 794.19 Q38.2549 793.107 36.4725 791.102 Q26.7648 780.153 23.7729 780.153 Q21.6722 780.153 20.3991 781.808 Q19.0941 783.463 19.0941 786.169 Q19.0941 787.824 19.667 789.765 Q20.2081 791.707 21.3221 793.999 L17.4072 793.999 Q16.516 791.548 16.0704 789.447 Q15.6248 787.315 15.6248 785.5 Q15.6248 780.885 17.7255 778.116 Q19.8262 775.347 23.2636 775.347 Q27.6878 775.347 36.7271 785.882 Q38.2549 787.665 39.1142 788.651 Z\" fill=\"#000000\" fill-rule=\"evenodd\" fill-opacity=\"1\" /><path clip-path=\"url(#clip130)\" d=\"M67.3143 750.075 Q73.68 752.558 75.6216 754.913 Q77.5631 757.268 77.5631 761.215 L77.5631 765.894 L72.6615 765.894 L72.6615 762.457 Q72.6615 760.038 71.5157 758.701 Q70.3699 757.364 66.1048 755.741 L63.4312 754.69 L28.3562 769.109 L28.3562 762.902 L56.238 751.762 L28.3562 740.622 L28.3562 734.416 L67.3143 750.075 Z\" fill=\"#000000\" fill-rule=\"evenodd\" fill-opacity=\"1\" /><path clip-path=\"url(#clip130)\" d=\"M699.277 63.9476 L699.277 47.7034 L685.909 47.7034 L685.909 40.9789 L707.379 40.9789 L707.379 66.9452 Q702.639 70.3075 696.928 72.0494 Q691.216 73.7508 684.734 73.7508 Q670.556 73.7508 662.535 65.4869 Q654.555 57.1826 654.555 42.3968 Q654.555 27.5705 662.535 19.3066 Q670.556 11.0023 684.734 11.0023 Q690.649 11.0023 695.955 12.4606 Q701.303 13.9189 705.799 16.7545 L705.799 25.464 Q701.262 21.6156 696.158 19.6712 Q691.054 17.7268 685.423 17.7268 Q674.324 17.7268 668.733 23.9246 Q663.184 30.1225 663.184 42.3968 Q663.184 54.6305 668.733 60.8284 Q674.324 67.0263 685.423 67.0263 Q689.758 67.0263 693.16 66.2971 Q696.563 65.5274 699.277 63.9476 Z\" fill=\"#000000\" fill-rule=\"evenodd\" fill-opacity=\"1\" /><path clip-path=\"url(#clip130)\" d=\"M748.293 34.1734 Q747.037 33.4443 745.539 33.1202 Q744.08 32.7556 742.298 32.7556 Q735.978 32.7556 732.576 36.8875 Q729.213 40.9789 729.213 48.6757 L729.213 72.576 L721.719 72.576 L721.719 27.2059 L729.213 27.2059 L729.213 34.2544 Q731.563 30.1225 735.33 28.1376 Q739.098 26.1121 744.485 26.1121 Q745.255 26.1121 746.187 26.2337 Q747.118 26.3147 748.253 26.5172 L748.293 34.1734 Z\" fill=\"#000000\" fill-rule=\"evenodd\" fill-opacity=\"1\" /><path clip-path=\"url(#clip130)\" d=\"M771.869 32.4315 Q765.874 32.4315 762.39 37.1306 Q758.907 41.7891 758.907 49.9314 Q758.907 58.0738 762.35 62.7728 Q765.834 67.4314 771.869 67.4314 Q777.824 67.4314 781.308 62.7323 Q784.792 58.0333 784.792 49.9314 Q784.792 41.8701 781.308 37.1711 Q777.824 32.4315 771.869 32.4315 M771.869 26.1121 Q781.592 26.1121 787.141 32.4315 Q792.691 38.7509 792.691 49.9314 Q792.691 61.0714 787.141 67.4314 Q781.592 73.7508 771.869 73.7508 Q762.107 73.7508 756.557 67.4314 Q751.048 61.0714 751.048 49.9314 Q751.048 38.7509 756.557 32.4315 Q762.107 26.1121 771.869 26.1121 Z\" fill=\"#000000\" fill-rule=\"evenodd\" fill-opacity=\"1\" /><path clip-path=\"url(#clip130)\" d=\"M800.712 27.2059 L808.165 27.2059 L817.483 62.6108 L826.759 27.2059 L835.55 27.2059 L844.867 62.6108 L854.143 27.2059 L861.597 27.2059 L849.728 72.576 L840.937 72.576 L831.175 35.3887 L821.371 72.576 L812.581 72.576 L800.712 27.2059 Z\" fill=\"#000000\" fill-rule=\"evenodd\" fill-opacity=\"1\" /><path clip-path=\"url(#clip130)\" d=\"M880.272 14.324 L880.272 27.2059 L895.625 27.2059 L895.625 32.9987 L880.272 32.9987 L880.272 57.6282 Q880.272 63.1779 881.77 64.7578 Q883.31 66.3376 887.968 66.3376 L895.625 66.3376 L895.625 72.576 L887.968 72.576 Q879.34 72.576 876.059 69.3758 Q872.777 66.1351 872.777 57.6282 L872.777 32.9987 L867.309 32.9987 L867.309 27.2059 L872.777 27.2059 L872.777 14.324 L880.272 14.324 Z\" fill=\"#000000\" fill-rule=\"evenodd\" fill-opacity=\"1\" /><path clip-path=\"url(#clip130)\" d=\"M943.142 45.1919 L943.142 72.576 L935.688 72.576 L935.688 45.4349 Q935.688 38.994 933.176 35.7938 Q930.665 32.5936 925.642 32.5936 Q919.606 32.5936 916.122 36.4419 Q912.638 40.2903 912.638 46.9338 L912.638 72.576 L905.144 72.576 L905.144 9.54393 L912.638 9.54393 L912.638 34.2544 Q915.312 30.163 918.917 28.1376 Q922.563 26.1121 927.303 26.1121 Q935.121 26.1121 939.131 30.9732 Q943.142 35.7938 943.142 45.1919 Z\" fill=\"#000000\" fill-rule=\"evenodd\" fill-opacity=\"1\" /><path clip-path=\"url(#clip130)\" d=\"M1001.96 32.4315 Q995.965 32.4315 992.482 37.1306 Q988.998 41.7891 988.998 49.9314 Q988.998 58.0738 992.441 62.7728 Q995.925 67.4314 1001.96 67.4314 Q1007.92 67.4314 1011.4 62.7323 Q1014.88 58.0333 1014.88 49.9314 Q1014.88 41.8701 1011.4 37.1711 Q1007.92 32.4315 1001.96 32.4315 M1001.96 26.1121 Q1011.68 26.1121 1017.23 32.4315 Q1022.78 38.7509 1022.78 49.9314 Q1022.78 61.0714 1017.23 67.4314 Q1011.68 73.7508 1001.96 73.7508 Q992.198 73.7508 986.648 67.4314 Q981.139 61.0714 981.139 49.9314 Q981.139 38.7509 986.648 32.4315 Q992.198 26.1121 1001.96 26.1121 Z\" fill=\"#000000\" fill-rule=\"evenodd\" fill-opacity=\"1\" /><path clip-path=\"url(#clip130)\" d=\"M1058.11 9.54393 L1058.11 15.7418 L1050.98 15.7418 Q1046.97 15.7418 1045.39 17.3622 Q1043.85 18.9825 1043.85 23.1955 L1043.85 27.2059 L1056.12 27.2059 L1056.12 32.9987 L1043.85 32.9987 L1043.85 72.576 L1036.35 72.576 L1036.35 32.9987 L1029.22 32.9987 L1029.22 27.2059 L1036.35 27.2059 L1036.35 24.0462 Q1036.35 16.471 1039.88 13.0277 Q1043.4 9.54393 1051.06 9.54393 L1058.11 9.54393 Z\" fill=\"#000000\" fill-rule=\"evenodd\" fill-opacity=\"1\" /><path clip-path=\"url(#clip130)\" d=\"M1108.3 33.1202 Q1102.14 33.1202 1098.82 37.5762 Q1095.33 42.2347 1095.33 49.9314 Q1095.33 58.0738 1098.78 62.7728 Q1102.26 67.4314 1108.3 67.4314 Q1114.25 67.4314 1117.74 62.7323 Q1121.22 58.0333 1121.22 49.9314 Q1121.22 42.5183 1117.74 37.5762 Q1114.54 33.1202 1108.3 33.1202 M1108.3 27.2059 L1133.05 27.2059 L1133.05 34.6595 L1124.7 34.6595 Q1129.12 40.9789 1129.12 49.9314 Q1129.12 61.0714 1123.57 67.3908 Q1118.02 73.7508 1108.3 73.7508 Q1098.53 73.7508 1093.03 67.3908 Q1087.48 61.0714 1087.48 49.9314 Q1087.48 38.7104 1093.03 32.4315 Q1097.6 27.2059 1108.3 27.2059 Z\" fill=\"#000000\" fill-rule=\"evenodd\" fill-opacity=\"1\" /><path clip-path=\"url(#clip130)\" d=\"M1146.33 40.8979 L1163.51 40.8979 L1163.51 45.516 L1139.29 45.516 L1139.29 41.06 Q1140.66 39.8042 1143.22 37.5357 Q1157.15 25.1804 1157.15 21.3726 Q1157.15 18.699 1155.04 17.0786 Q1152.94 15.4177 1149.49 15.4177 Q1147.39 15.4177 1144.92 16.1469 Q1142.45 16.8356 1139.53 18.2534 L1139.53 13.2708 Q1142.65 12.1365 1145.32 11.5694 Q1148.04 11.0023 1150.35 11.0023 Q1156.22 11.0023 1159.74 13.6759 Q1163.27 16.3494 1163.27 20.7244 Q1163.27 26.3552 1149.86 37.8598 Q1147.59 39.8042 1146.33 40.8979 Z\" fill=\"#000000\" fill-rule=\"evenodd\" fill-opacity=\"1\" /><path clip-path=\"url(#clip130)\" d=\"M1195.43 76.7889 Q1192.27 84.8907 1189.27 87.3618 Q1186.28 89.8329 1181.25 89.8329 L1175.3 89.8329 L1175.3 83.5945 L1179.67 83.5945 Q1182.75 83.5945 1184.45 82.1361 Q1186.16 80.6778 1188.22 75.2496 L1189.56 71.8468 L1171.21 27.2059 L1179.11 27.2059 L1193.28 62.6918 L1207.46 27.2059 L1215.36 27.2059 L1195.43 76.7889 Z\" fill=\"#000000\" fill-rule=\"evenodd\" fill-opacity=\"1\" /><path clip-path=\"url(#clip130)\" d=\"M1281.88 34.0924 L1281.88 9.54393 L1289.33 9.54393 L1289.33 72.576 L1281.88 72.576 L1281.88 65.7705 Q1279.53 69.8214 1275.92 71.8063 Q1272.36 73.7508 1267.34 73.7508 Q1259.11 73.7508 1253.93 67.1883 Q1248.78 60.6258 1248.78 49.9314 Q1248.78 39.2371 1253.93 32.6746 Q1259.11 26.1121 1267.34 26.1121 Q1272.36 26.1121 1275.92 28.0971 Q1279.53 30.0415 1281.88 34.0924 M1256.48 49.9314 Q1256.48 58.1548 1259.84 62.8538 Q1263.24 67.5124 1269.16 67.5124 Q1275.07 67.5124 1278.48 62.8538 Q1281.88 58.1548 1281.88 49.9314 Q1281.88 41.7081 1278.48 37.0496 Q1275.07 32.3505 1269.16 32.3505 Q1263.24 32.3505 1259.84 37.0496 Q1256.48 41.7081 1256.48 49.9314 Z\" fill=\"#000000\" fill-rule=\"evenodd\" fill-opacity=\"1\" /><path clip-path=\"url(#clip130)\" d=\"M1303.92 54.671 L1303.92 27.2059 L1311.37 27.2059 L1311.37 54.3874 Q1311.37 60.8284 1313.88 64.0691 Q1316.39 67.2693 1321.42 67.2693 Q1327.45 67.2693 1330.93 63.421 Q1334.46 59.5726 1334.46 52.9291 L1334.46 27.2059 L1341.91 27.2059 L1341.91 72.576 L1334.46 72.576 L1334.46 65.6084 Q1331.74 69.7404 1328.14 71.7658 Q1324.57 73.7508 1319.84 73.7508 Q1312.02 73.7508 1307.97 68.8897 Q1303.92 64.0286 1303.92 54.671 M1322.67 26.1121 L1322.67 26.1121 Z\" fill=\"#000000\" fill-rule=\"evenodd\" fill-opacity=\"1\" /><path clip-path=\"url(#clip130)\" d=\"M1383.56 34.1734 Q1382.3 33.4443 1380.8 33.1202 Q1379.34 32.7556 1377.56 32.7556 Q1371.24 32.7556 1367.84 36.8875 Q1364.48 40.9789 1364.48 48.6757 L1364.48 72.576 L1356.98 72.576 L1356.98 27.2059 L1364.48 27.2059 L1364.48 34.2544 Q1366.83 30.1225 1370.59 28.1376 Q1374.36 26.1121 1379.75 26.1121 Q1380.52 26.1121 1381.45 26.2337 Q1382.38 26.3147 1383.52 26.5172 L1383.56 34.1734 Z\" fill=\"#000000\" fill-rule=\"evenodd\" fill-opacity=\"1\" /><path clip-path=\"url(#clip130)\" d=\"M1391.37 27.2059 L1398.83 27.2059 L1398.83 72.576 L1391.37 72.576 L1391.37 27.2059 M1391.37 9.54393 L1398.83 9.54393 L1398.83 18.9825 L1391.37 18.9825 L1391.37 9.54393 Z\" fill=\"#000000\" fill-rule=\"evenodd\" fill-opacity=\"1\" /><path clip-path=\"url(#clip130)\" d=\"M1452.14 45.1919 L1452.14 72.576 L1444.68 72.576 L1444.68 45.4349 Q1444.68 38.994 1442.17 35.7938 Q1439.66 32.5936 1434.64 32.5936 Q1428.6 32.5936 1425.12 36.4419 Q1421.63 40.2903 1421.63 46.9338 L1421.63 72.576 L1414.14 72.576 L1414.14 27.2059 L1421.63 27.2059 L1421.63 34.2544 Q1424.31 30.163 1427.91 28.1376 Q1431.56 26.1121 1436.3 26.1121 Q1444.12 26.1121 1448.13 30.9732 Q1452.14 35.7938 1452.14 45.1919 Z\" fill=\"#000000\" fill-rule=\"evenodd\" fill-opacity=\"1\" /><path clip-path=\"url(#clip130)\" d=\"M1496.86 49.3643 Q1496.86 41.2625 1493.5 36.8065 Q1490.18 32.3505 1484.14 32.3505 Q1478.14 32.3505 1474.78 36.8065 Q1471.46 41.2625 1471.46 49.3643 Q1471.46 57.4256 1474.78 61.8816 Q1478.14 66.3376 1484.14 66.3376 Q1490.18 66.3376 1493.5 61.8816 Q1496.86 57.4256 1496.86 49.3643 M1504.31 66.9452 Q1504.31 78.5308 1499.17 84.1616 Q1494.02 89.8329 1483.41 89.8329 Q1479.48 89.8329 1476 89.2252 Q1472.51 88.6581 1469.23 87.4428 L1469.23 80.1917 Q1472.51 81.9741 1475.71 82.8248 Q1478.91 83.6755 1482.24 83.6755 Q1489.57 83.6755 1493.21 79.8271 Q1496.86 76.0193 1496.86 68.282 L1496.86 64.5957 Q1494.55 68.6061 1490.95 70.5911 Q1487.34 72.576 1482.32 72.576 Q1473.97 72.576 1468.87 66.2161 Q1463.76 59.8562 1463.76 49.3643 Q1463.76 38.832 1468.87 32.472 Q1473.97 26.1121 1482.32 26.1121 Q1487.34 26.1121 1490.95 28.0971 Q1494.55 30.082 1496.86 34.0924 L1496.86 27.2059 L1504.31 27.2059 L1504.31 66.9452 Z\" fill=\"#000000\" fill-rule=\"evenodd\" fill-opacity=\"1\" /><path clip-path=\"url(#clip130)\" d=\"M1574.96 28.5427 L1574.96 35.5912 Q1571.8 33.9709 1568.4 33.1607 Q1565 32.3505 1561.35 32.3505 Q1555.8 32.3505 1553.01 34.0519 Q1550.25 35.7533 1550.25 39.156 Q1550.25 41.7486 1552.24 43.2475 Q1554.22 44.7058 1560.22 46.0426 L1562.77 46.6097 Q1570.71 48.3111 1574.03 51.4303 Q1577.39 54.509 1577.39 60.0587 Q1577.39 66.3781 1572.37 70.0644 Q1567.39 73.7508 1558.64 73.7508 Q1554.99 73.7508 1551.02 73.0216 Q1547.09 72.3329 1542.72 70.9151 L1542.72 63.2184 Q1546.85 65.3654 1550.86 66.4591 Q1554.87 67.5124 1558.8 67.5124 Q1564.06 67.5124 1566.9 65.73 Q1569.74 63.9071 1569.74 60.6258 Q1569.74 57.5877 1567.67 55.9673 Q1565.64 54.3469 1558.72 52.8481 L1556.12 52.2405 Q1549.2 50.7821 1546.12 47.7845 Q1543.04 44.7463 1543.04 39.4801 Q1543.04 33.0797 1547.58 29.5959 Q1552.11 26.1121 1560.46 26.1121 Q1564.59 26.1121 1568.24 26.7198 Q1571.88 27.3274 1574.96 28.5427 Z\" fill=\"#000000\" fill-rule=\"evenodd\" fill-opacity=\"1\" /><path clip-path=\"url(#clip130)\" d=\"M1589.26 27.2059 L1596.71 27.2059 L1596.71 72.576 L1589.26 72.576 L1589.26 27.2059 M1589.26 9.54393 L1596.71 9.54393 L1596.71 18.9825 L1589.26 18.9825 L1589.26 9.54393 Z\" fill=\"#000000\" fill-rule=\"evenodd\" fill-opacity=\"1\" /><path clip-path=\"url(#clip130)\" d=\"M1647.63 35.9153 Q1650.43 30.8922 1654.32 28.5022 Q1658.21 26.1121 1663.47 26.1121 Q1670.56 26.1121 1674.41 31.0947 Q1678.26 36.0368 1678.26 45.1919 L1678.26 72.576 L1670.77 72.576 L1670.77 45.4349 Q1670.77 38.913 1668.46 35.7533 Q1666.15 32.5936 1661.41 32.5936 Q1655.61 32.5936 1652.25 36.4419 Q1648.89 40.2903 1648.89 46.9338 L1648.89 72.576 L1641.4 72.576 L1641.4 45.4349 Q1641.4 38.8725 1639.09 35.7533 Q1636.78 32.5936 1631.96 32.5936 Q1626.25 32.5936 1622.88 36.4824 Q1619.52 40.3308 1619.52 46.9338 L1619.52 72.576 L1612.03 72.576 L1612.03 27.2059 L1619.52 27.2059 L1619.52 34.2544 Q1622.07 30.082 1625.64 28.0971 Q1629.2 26.1121 1634.1 26.1121 Q1639.05 26.1121 1642.49 28.6237 Q1645.97 31.1352 1647.63 35.9153 Z\" fill=\"#000000\" fill-rule=\"evenodd\" fill-opacity=\"1\" /><path clip-path=\"url(#clip130)\" d=\"M1692.36 54.671 L1692.36 27.2059 L1699.81 27.2059 L1699.81 54.3874 Q1699.81 60.8284 1702.32 64.0691 Q1704.83 67.2693 1709.86 67.2693 Q1715.89 67.2693 1719.38 63.421 Q1722.9 59.5726 1722.9 52.9291 L1722.9 27.2059 L1730.35 27.2059 L1730.35 72.576 L1722.9 72.576 L1722.9 65.6084 Q1720.19 69.7404 1716.58 71.7658 Q1713.02 73.7508 1708.28 73.7508 Q1700.46 73.7508 1696.41 68.8897 Q1692.36 64.0286 1692.36 54.671 M1711.11 26.1121 L1711.11 26.1121 Z\" fill=\"#000000\" fill-rule=\"evenodd\" fill-opacity=\"1\" /><path clip-path=\"url(#clip130)\" d=\"M1745.71 9.54393 L1753.16 9.54393 L1753.16 72.576 L1745.71 72.576 L1745.71 9.54393 Z\" fill=\"#000000\" fill-rule=\"evenodd\" fill-opacity=\"1\" /><path clip-path=\"url(#clip130)\" d=\"M1789.38 49.7694 Q1780.34 49.7694 1776.86 51.8354 Q1773.37 53.9013 1773.37 58.8839 Q1773.37 62.8538 1775.97 65.2034 Q1778.6 67.5124 1783.1 67.5124 Q1789.29 67.5124 1793.02 63.1374 Q1796.79 58.7219 1796.79 51.4303 L1796.79 49.7694 L1789.38 49.7694 M1804.24 46.6907 L1804.24 72.576 L1796.79 72.576 L1796.79 65.6895 Q1794.24 69.8214 1790.43 71.8063 Q1786.62 73.7508 1781.11 73.7508 Q1774.14 73.7508 1770.01 69.8619 Q1765.92 65.9325 1765.92 59.3701 Q1765.92 51.7138 1771.02 47.825 Q1776.17 43.9361 1786.34 43.9361 L1796.79 43.9361 L1796.79 43.2069 Q1796.79 38.0623 1793.39 35.2672 Q1790.02 32.4315 1783.91 32.4315 Q1780.02 32.4315 1776.33 33.3632 Q1772.65 34.295 1769.24 36.1584 L1769.24 29.2718 Q1773.33 27.692 1777.18 26.9223 Q1781.03 26.1121 1784.68 26.1121 Q1794.52 26.1121 1799.38 31.2163 Q1804.24 36.3204 1804.24 46.6907 Z\" fill=\"#000000\" fill-rule=\"evenodd\" fill-opacity=\"1\" /><path clip-path=\"url(#clip130)\" d=\"M1826.97 14.324 L1826.97 27.2059 L1842.32 27.2059 L1842.32 32.9987 L1826.97 32.9987 L1826.97 57.6282 Q1826.97 63.1779 1828.47 64.7578 Q1830.01 66.3376 1834.66 66.3376 L1842.32 66.3376 L1842.32 72.576 L1834.66 72.576 Q1826.04 72.576 1822.75 69.3758 Q1819.47 66.1351 1819.47 57.6282 L1819.47 32.9987 L1814.01 32.9987 L1814.01 27.2059 L1819.47 27.2059 L1819.47 14.324 L1826.97 14.324 Z\" fill=\"#000000\" fill-rule=\"evenodd\" fill-opacity=\"1\" /><path clip-path=\"url(#clip130)\" d=\"M1852.12 27.2059 L1859.58 27.2059 L1859.58 72.576 L1852.12 72.576 L1852.12 27.2059 M1852.12 9.54393 L1859.58 9.54393 L1859.58 18.9825 L1852.12 18.9825 L1852.12 9.54393 Z\" fill=\"#000000\" fill-rule=\"evenodd\" fill-opacity=\"1\" /><path clip-path=\"url(#clip130)\" d=\"M1892.75 32.4315 Q1886.76 32.4315 1883.28 37.1306 Q1879.79 41.7891 1879.79 49.9314 Q1879.79 58.0738 1883.23 62.7728 Q1886.72 67.4314 1892.75 67.4314 Q1898.71 67.4314 1902.19 62.7323 Q1905.68 58.0333 1905.68 49.9314 Q1905.68 41.8701 1902.19 37.1711 Q1898.71 32.4315 1892.75 32.4315 M1892.75 26.1121 Q1902.48 26.1121 1908.03 32.4315 Q1913.58 38.7509 1913.58 49.9314 Q1913.58 61.0714 1908.03 67.4314 Q1902.48 73.7508 1892.75 73.7508 Q1882.99 73.7508 1877.44 67.4314 Q1871.93 61.0714 1871.93 49.9314 Q1871.93 38.7509 1877.44 32.4315 Q1882.99 26.1121 1892.75 26.1121 Z\" fill=\"#000000\" fill-rule=\"evenodd\" fill-opacity=\"1\" /><path clip-path=\"url(#clip130)\" d=\"M1963.65 45.1919 L1963.65 72.576 L1956.19 72.576 L1956.19 45.4349 Q1956.19 38.994 1953.68 35.7938 Q1951.17 32.5936 1946.15 32.5936 Q1940.11 32.5936 1936.63 36.4419 Q1933.14 40.2903 1933.14 46.9338 L1933.14 72.576 L1925.65 72.576 L1925.65 27.2059 L1933.14 27.2059 L1933.14 34.2544 Q1935.82 30.163 1939.42 28.1376 Q1943.07 26.1121 1947.81 26.1121 Q1955.62 26.1121 1959.64 30.9732 Q1963.65 35.7938 1963.65 45.1919 Z\" fill=\"#000000\" fill-rule=\"evenodd\" fill-opacity=\"1\" /><polyline clip-path=\"url(#clip132)\" style=\"stroke:#009af9; stroke-linecap:butt; stroke-linejoin:round; stroke-width:4; stroke-opacity:1; fill:none\" points=\"\n  324.52,1386.4 338.585,1377.46 352.65,1368.53 366.716,1359.6 380.781,1350.67 394.847,1341.74 408.912,1332.81 422.978,1323.88 437.043,1314.95 451.109,1306.02 \n  465.174,1297.1 479.239,1288.17 493.305,1279.24 507.37,1270.31 521.436,1261.39 535.501,1252.46 549.567,1243.53 563.632,1234.61 577.697,1225.68 591.763,1216.76 \n  605.828,1207.83 619.894,1198.91 633.959,1189.98 648.025,1181.06 662.09,1172.14 676.156,1163.21 690.221,1154.29 704.286,1145.37 718.352,1136.44 732.417,1127.52 \n  746.483,1118.6 760.548,1109.67 774.614,1100.75 788.679,1091.83 802.745,1082.91 816.81,1073.99 830.875,1065.07 844.941,1056.15 859.006,1047.23 873.072,1038.3 \n  887.137,1029.39 901.203,1020.47 915.268,1011.55 929.333,1002.63 943.399,993.711 957.464,984.793 971.53,975.876 985.595,966.96 999.661,958.045 1013.73,949.131 \n  1027.79,940.217 1041.86,931.304 1055.92,922.392 1069.99,913.482 1084.05,904.573 1098.12,895.664 1112.18,886.758 1126.25,877.852 1140.32,868.949 1154.38,860.047 \n  1168.45,851.147 1182.51,842.248 1196.58,833.352 1210.64,824.458 1224.71,815.566 1238.77,806.677 1252.84,797.79 1266.9,788.906 1280.97,780.025 1295.03,771.147 \n  1309.1,762.273 1323.17,753.401 1337.23,744.533 1351.3,735.669 1365.36,726.809 1379.43,717.952 1393.49,709.1 1407.56,700.252 1421.62,691.409 1435.69,682.571 \n  1449.75,673.737 1463.82,664.909 1477.89,656.086 1491.95,647.268 1506.02,638.456 1520.08,629.65 1534.15,620.85 1548.21,612.057 1562.28,603.27 1576.34,594.49 \n  1590.41,585.716 1604.47,576.95 1618.54,568.191 1632.61,559.439 1646.67,550.696 1660.74,541.96 1674.8,533.232 1688.87,524.513 1702.93,515.802 1717,507.1 \n  1731.06,498.407 1745.13,489.723 1759.19,481.048 1773.26,472.383 1787.33,463.728 1801.39,455.083 1815.46,446.448 1829.52,437.823 1843.59,429.209 1857.65,420.606 \n  1871.72,412.013 1885.78,403.432 1899.85,394.862 1913.91,386.304 1927.98,377.757 1942.05,369.223 1956.11,360.7 1970.18,352.19 1984.24,343.692 1998.31,335.208 \n  2012.37,326.735 2026.44,318.276 2040.5,309.83 2054.57,301.398 2068.63,292.979 2082.7,284.574 2096.76,276.183 2110.83,267.806 2124.9,259.443 2138.96,251.094 \n  2153.03,242.76 2167.09,234.441 2181.16,226.137 2195.22,217.848 2209.29,209.573 2223.35,201.315 2237.42,193.071 2251.48,184.844 2265.55,176.632 2279.62,168.436 \n  2293.68,160.256 \n  \"/>\n</svg>\n"
     },
     "metadata": {},
     "execution_count": 15
    }
   ],
   "metadata": {}
  },
  {
   "cell_type": "code",
   "execution_count": null,
   "source": [
    "savefig(twoddband, \"twodband.png\")"
   ],
   "outputs": [],
   "metadata": {}
  },
  {
   "cell_type": "code",
   "execution_count": 16,
   "source": [
    "σ²ₐ = second_mom2d\n",
    "Δσ²ₐ = σ²ₐ[end] - σ²ₐ[1]\n",
    "Δt_2d = tvec_2d[end] - tvec_2d[1]\n",
    "K2d_band = Δσ²ₐ / (prob_2d.grid.Lx^2 * 8 * Δt_2d)"
   ],
   "outputs": [
    {
     "output_type": "execute_result",
     "data": {
      "text/plain": [
       "0.24586958534362927"
      ]
     },
     "metadata": {},
     "execution_count": 16
    }
   ],
   "metadata": {}
  }
 ],
 "metadata": {
  "orig_nbformat": 4,
  "language_info": {
   "file_extension": ".jl",
   "name": "julia",
   "mimetype": "application/julia",
   "version": "1.6.2"
  },
  "kernelspec": {
   "name": "julia-1.6",
   "display_name": "Julia 1.6.2",
   "language": "julia"
  }
 },
 "nbformat": 4,
 "nbformat_minor": 2
}